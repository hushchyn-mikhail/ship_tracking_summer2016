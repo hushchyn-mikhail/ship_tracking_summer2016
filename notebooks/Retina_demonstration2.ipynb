{
 "cells": [
  {
   "cell_type": "code",
   "execution_count": 1,
   "metadata": {
    "collapsed": false
   },
   "outputs": [
    {
     "name": "stderr",
     "output_type": "stream",
     "text": [
      "/home/oalenkin/anaconda2/lib/python2.7/site-packages/matplotlib/font_manager.py:273: UserWarning: Matplotlib is building the font cache using fc-list. This may take a moment.\n",
      "  warnings.warn('Matplotlib is building the font cache using fc-list. This may take a moment.')\n"
     ]
    }
   ],
   "source": [
    "%matplotlib inline\n",
    "import numpy as np\n",
    "import pandas as pd\n",
    "import theano\n",
    "import theano.tensor as T\n",
    "import matplotlib.pyplot as plt\n",
    "\n",
    "import os, sys\n",
    "sys.path.append('../code')\n",
    "\n",
    "from retina2 import *"
   ]
  },
  {
   "cell_type": "code",
   "execution_count": 2,
   "metadata": {
    "collapsed": true
   },
   "outputs": [],
   "source": [
    "import warnings\n",
    "warnings.filterwarnings('ignore')"
   ]
  },
  {
   "cell_type": "markdown",
   "metadata": {},
   "source": [
    "# reading data"
   ]
  },
  {
   "cell_type": "code",
   "execution_count": 3,
   "metadata": {
    "collapsed": true
   },
   "outputs": [],
   "source": [
    "data = pd.read_csv('../data/hits.csv', index_col=0)"
   ]
  },
  {
   "cell_type": "markdown",
   "metadata": {},
   "source": [
    "# choose event"
   ]
  },
  {
   "cell_type": "code",
   "execution_count": 214,
   "metadata": {
    "collapsed": false
   },
   "outputs": [],
   "source": [
    "event = data[data.EventID==4566]\n",
    "event_before_magnet = event[event.StatNb<3]\n",
    "event_after_magnet = event[event.StatNb>2]"
   ]
  },
  {
   "cell_type": "markdown",
   "metadata": {},
   "source": [
    "# test"
   ]
  },
  {
   "cell_type": "markdown",
   "metadata": {},
   "source": [
    "choose two pairs of crossed lines drom one track"
   ]
  },
  {
   "cell_type": "code",
   "execution_count": 223,
   "metadata": {
    "collapsed": false,
    "scrolled": true
   },
   "outputs": [],
   "source": [
    "art_event = event_before_magnet\n",
    "art_event = event_after_magnet"
   ]
  },
  {
   "cell_type": "markdown",
   "metadata": {},
   "source": [
    "parameters of track:"
   ]
  },
  {
   "cell_type": "code",
   "execution_count": 224,
   "metadata": {
    "collapsed": false
   },
   "outputs": [
    {
     "data": {
      "text/plain": [
       "[49.457631025285551,\n",
       " 0.0026716993224846892,\n",
       " -147.68601903420154,\n",
       " -0.0031651641821462007]"
      ]
     },
     "execution_count": 224,
     "metadata": {},
     "output_type": "execute_result"
    }
   ],
   "source": [
    "track1 = get_track_params(art_event, 2)\n",
    "track1"
   ]
  },
  {
   "cell_type": "code",
   "execution_count": 225,
   "metadata": {
    "collapsed": false
   },
   "outputs": [
    {
     "data": {
      "text/plain": [
       "[90.793449357929347,\n",
       " 0.024431849010968881,\n",
       " 35.70042784803173,\n",
       " -0.12777040654417182]"
      ]
     },
     "execution_count": 225,
     "metadata": {},
     "output_type": "execute_result"
    }
   ],
   "source": [
    "track2 = get_track_params(art_event, 3)\n",
    "track2"
   ]
  },
  {
   "cell_type": "code",
   "execution_count": 226,
   "metadata": {
    "collapsed": false
   },
   "outputs": [],
   "source": [
    "retina = RetinaTrackReconstruction(sigma_from=.8, sigma_to=.4, stopping_criteria=0.00001, inlier_treshold=.45,\\\n",
    "                                   pre_sigma=0.4)"
   ]
  },
  {
   "cell_type": "code",
   "execution_count": 227,
   "metadata": {
    "collapsed": false
   },
   "outputs": [
    {
     "name": "stdout",
     "output_type": "stream",
     "text": [
      "CPU times: user 1.48 s, sys: 16 ms, total: 1.49 s\n",
      "Wall time: 1.48 s\n"
     ]
    }
   ],
   "source": [
    "%%time\n",
    "dists = art_event.dist2Wire.values\n",
    "#dists = np.zeros(len(art_event))\n",
    "dots = retina.fit(art_event[['Wx1', 'Wy1', 'Wz', 'Wx2', 'Wy2', 'Wz']].values, dists)"
   ]
  },
  {
   "cell_type": "code",
   "execution_count": 64,
   "metadata": {
    "collapsed": false
   },
   "outputs": [],
   "source": [
    "#scaler = Scaler(z_scale=1500)\n",
    "#dot=[-10.27872594, -14.66929214, 55.4286, -0.]\n",
    "#artificial_retina_response_grad2(scaler.parameters_inverse_transform(dot),\\\n",
    "#                           art_event[['Wx1', 'Wy1', 'Wz', 'Wx2', 'Wy2', 'Wz']].values, 0.8, art_event.dist2Wire.values)"
   ]
  },
  {
   "cell_type": "code",
   "execution_count": 65,
   "metadata": {
    "collapsed": false
   },
   "outputs": [
    {
     "ename": "NameError",
     "evalue": "name 'scaler' is not defined",
     "output_type": "error",
     "traceback": [
      "\u001b[1;31m---------------------------------------------------------------------------\u001b[0m",
      "\u001b[1;31mNameError\u001b[0m                                 Traceback (most recent call last)",
      "\u001b[1;32m<ipython-input-65-df5b0c30cc52>\u001b[0m in \u001b[0;36m<module>\u001b[1;34m()\u001b[0m\n\u001b[1;32m----> 1\u001b[1;33m \u001b[0martificial_retina_response\u001b[0m\u001b[1;33m(\u001b[0m\u001b[0mscaler\u001b[0m\u001b[1;33m.\u001b[0m\u001b[0mparameters_inverse_transform\u001b[0m\u001b[1;33m(\u001b[0m\u001b[0mdot\u001b[0m\u001b[1;33m)\u001b[0m\u001b[1;33m,\u001b[0m                           \u001b[0mart_event\u001b[0m\u001b[1;33m[\u001b[0m\u001b[1;33m[\u001b[0m\u001b[1;34m'Wx1'\u001b[0m\u001b[1;33m,\u001b[0m \u001b[1;34m'Wy1'\u001b[0m\u001b[1;33m,\u001b[0m \u001b[1;34m'Wz'\u001b[0m\u001b[1;33m,\u001b[0m \u001b[1;34m'Wx2'\u001b[0m\u001b[1;33m,\u001b[0m \u001b[1;34m'Wy2'\u001b[0m\u001b[1;33m,\u001b[0m \u001b[1;34m'Wz'\u001b[0m\u001b[1;33m]\u001b[0m\u001b[1;33m]\u001b[0m\u001b[1;33m.\u001b[0m\u001b[0mvalues\u001b[0m\u001b[1;33m,\u001b[0m \u001b[1;36m0.8\u001b[0m\u001b[1;33m,\u001b[0m \u001b[0mart_event\u001b[0m\u001b[1;33m.\u001b[0m\u001b[0mdist2Wire\u001b[0m\u001b[1;33m.\u001b[0m\u001b[0mvalues\u001b[0m\u001b[1;33m)\u001b[0m\u001b[1;33m\u001b[0m\u001b[0m\n\u001b[0m",
      "\u001b[1;31mNameError\u001b[0m: name 'scaler' is not defined"
     ]
    }
   ],
   "source": [
    "artificial_retina_response(scaler.parameters_inverse_transform(dot),\\\n",
    "                           art_event[['Wx1', 'Wy1', 'Wz', 'Wx2', 'Wy2', 'Wz']].values, 0.8, art_event.dist2Wire.values)"
   ]
  },
  {
   "cell_type": "code",
   "execution_count": 132,
   "metadata": {
    "collapsed": false
   },
   "outputs": [
    {
     "ename": "TypeError",
     "evalue": "'NoneType' object has no attribute '__getitem__'",
     "output_type": "error",
     "traceback": [
      "\u001b[1;31m---------------------------------------------------------------------------\u001b[0m",
      "\u001b[1;31mTypeError\u001b[0m                                 Traceback (most recent call last)",
      "\u001b[1;32m<ipython-input-132-4fd0d71590d7>\u001b[0m in \u001b[0;36m<module>\u001b[1;34m()\u001b[0m\n\u001b[0;32m      1\u001b[0m \u001b[1;31m#for dots in new_dots_array:\u001b[0m\u001b[1;33m\u001b[0m\u001b[1;33m\u001b[0m\u001b[0m\n\u001b[1;32m----> 2\u001b[1;33m \u001b[0mplt\u001b[0m\u001b[1;33m.\u001b[0m\u001b[0mscatter\u001b[0m\u001b[1;33m(\u001b[0m\u001b[0mdots\u001b[0m\u001b[1;33m[\u001b[0m\u001b[1;36m0\u001b[0m\u001b[1;33m]\u001b[0m\u001b[1;33m[\u001b[0m\u001b[1;36m1\u001b[0m\u001b[1;33m]\u001b[0m\u001b[1;33m,\u001b[0m \u001b[0mdots\u001b[0m\u001b[1;33m[\u001b[0m\u001b[1;36m0\u001b[0m\u001b[1;33m]\u001b[0m\u001b[1;33m[\u001b[0m\u001b[1;36m3\u001b[0m\u001b[1;33m]\u001b[0m\u001b[1;33m,\u001b[0m \u001b[0mc\u001b[0m\u001b[1;33m=\u001b[0m\u001b[1;34m'blue'\u001b[0m\u001b[1;33m)\u001b[0m\u001b[1;33m\u001b[0m\u001b[0m\n\u001b[0m\u001b[0;32m      3\u001b[0m \u001b[0mplt\u001b[0m\u001b[1;33m.\u001b[0m\u001b[0mscatter\u001b[0m\u001b[1;33m(\u001b[0m\u001b[0mdots\u001b[0m\u001b[1;33m[\u001b[0m\u001b[1;33m-\u001b[0m\u001b[1;36m1\u001b[0m\u001b[1;33m]\u001b[0m\u001b[1;33m[\u001b[0m\u001b[1;36m1\u001b[0m\u001b[1;33m]\u001b[0m\u001b[1;33m,\u001b[0m \u001b[0mdots\u001b[0m\u001b[1;33m[\u001b[0m\u001b[1;33m-\u001b[0m\u001b[1;36m1\u001b[0m\u001b[1;33m]\u001b[0m\u001b[1;33m[\u001b[0m\u001b[1;36m3\u001b[0m\u001b[1;33m]\u001b[0m\u001b[1;33m,\u001b[0m \u001b[0mc\u001b[0m\u001b[1;33m=\u001b[0m\u001b[1;34m'yellow'\u001b[0m\u001b[1;33m)\u001b[0m\u001b[1;33m\u001b[0m\u001b[0m\n\u001b[0;32m      4\u001b[0m \u001b[1;32mfor\u001b[0m \u001b[0mj\u001b[0m \u001b[1;32min\u001b[0m \u001b[0mrange\u001b[0m\u001b[1;33m(\u001b[0m\u001b[0mlen\u001b[0m\u001b[1;33m(\u001b[0m\u001b[0mdots\u001b[0m\u001b[1;33m)\u001b[0m\u001b[1;33m-\u001b[0m\u001b[1;36m1\u001b[0m\u001b[1;33m)\u001b[0m\u001b[1;33m:\u001b[0m\u001b[1;33m\u001b[0m\u001b[0m\n\u001b[0;32m      5\u001b[0m     \u001b[0mplt\u001b[0m\u001b[1;33m.\u001b[0m\u001b[0mplot\u001b[0m\u001b[1;33m(\u001b[0m\u001b[1;33m[\u001b[0m\u001b[0mdots\u001b[0m\u001b[1;33m[\u001b[0m\u001b[0mj\u001b[0m\u001b[1;33m]\u001b[0m\u001b[1;33m[\u001b[0m\u001b[1;36m1\u001b[0m\u001b[1;33m]\u001b[0m\u001b[1;33m,\u001b[0m \u001b[0mdots\u001b[0m\u001b[1;33m[\u001b[0m\u001b[0mj\u001b[0m\u001b[1;33m+\u001b[0m\u001b[1;36m1\u001b[0m\u001b[1;33m]\u001b[0m\u001b[1;33m[\u001b[0m\u001b[1;36m1\u001b[0m\u001b[1;33m]\u001b[0m\u001b[1;33m]\u001b[0m\u001b[1;33m,\u001b[0m \u001b[1;33m[\u001b[0m\u001b[0mdots\u001b[0m\u001b[1;33m[\u001b[0m\u001b[0mj\u001b[0m\u001b[1;33m]\u001b[0m\u001b[1;33m[\u001b[0m\u001b[1;36m3\u001b[0m\u001b[1;33m]\u001b[0m\u001b[1;33m,\u001b[0m \u001b[0mdots\u001b[0m\u001b[1;33m[\u001b[0m\u001b[0mj\u001b[0m\u001b[1;33m+\u001b[0m\u001b[1;36m1\u001b[0m\u001b[1;33m]\u001b[0m\u001b[1;33m[\u001b[0m\u001b[1;36m3\u001b[0m\u001b[1;33m]\u001b[0m\u001b[1;33m]\u001b[0m\u001b[1;33m,\u001b[0m \u001b[0mc\u001b[0m\u001b[1;33m=\u001b[0m\u001b[1;34m'blue'\u001b[0m\u001b[1;33m)\u001b[0m\u001b[1;33m\u001b[0m\u001b[0m\n",
      "\u001b[1;31mTypeError\u001b[0m: 'NoneType' object has no attribute '__getitem__'"
     ]
    }
   ],
   "source": [
    "#for dots in new_dots_array:\n",
    "plt.scatter(dots[0][1], dots[0][3], c='blue')\n",
    "plt.scatter(dots[-1][1], dots[-1][3], c='yellow')\n",
    "for j in range(len(dots)-1):\n",
    "    plt.plot([dots[j][1], dots[j+1][1]], [dots[j][3], dots[j+1][3]], c='blue')\n",
    "\n",
    "plt.scatter(track1[1], track1[3], c='red')\n",
    "plt.scatter(track2[1], track2[3], c='red')\n",
    "plt.title('l-m')"
   ]
  },
  {
   "cell_type": "code",
   "execution_count": 13,
   "metadata": {
    "collapsed": false
   },
   "outputs": [
    {
     "data": {
      "text/plain": [
       "<matplotlib.text.Text at 0x7f6d90b9a110>"
      ]
     },
     "execution_count": 13,
     "metadata": {},
     "output_type": "execute_result"
    },
    {
     "data": {
      "image/png": "[encoded data removed]",
      "text/plain": [
       "<matplotlib.figure.Figure at 0x7f6d90bd7210>"
      ]
     },
     "metadata": {},
     "output_type": "display_data"
    }
   ],
   "source": [
    "#for dots in new_dots_array:\n",
    "plt.scatter(dots[0][2], dots[0][3], c='blue')\n",
    "plt.scatter(dots[-1][2], dots[-1][3], c='yellow')\n",
    "for j in range(len(dots)-1):\n",
    "    plt.plot([dots[j][2], dots[j+1][2]], [dots[j][3], dots[j+1][3]], c='blue')\n",
    "        \n",
    "plt.scatter(track1[2], track1[3], c='red')\n",
    "plt.scatter(track2[2], track2[3], c='red')\n",
    "plt.title('y0-m')"
   ]
  },
  {
   "cell_type": "code",
   "execution_count": 14,
   "metadata": {
    "collapsed": false
   },
   "outputs": [
    {
     "data": {
      "text/plain": [
       "<matplotlib.text.Text at 0x7f6d908e3950>"
      ]
     },
     "execution_count": 14,
     "metadata": {},
     "output_type": "execute_result"
    },
    {
     "data": {
      "image/png": "[encoded data removed]",
      "text/plain": [
       "<matplotlib.figure.Figure at 0x7f6d90971310>"
      ]
     },
     "metadata": {},
     "output_type": "display_data"
    }
   ],
   "source": [
    "#for dots in new_dots_array:\n",
    "plt.scatter(dots[0][0], dots[0][1], c='blue')\n",
    "plt.scatter(dots[-1][0], dots[-1][1], c='yellow')\n",
    "for j in range(len(dots)-1):\n",
    "    plt.plot([dots[j][0], dots[j+1][0]], [dots[j][1], dots[j+1][1]], c='blue')\n",
    "        \n",
    "plt.scatter(track1[0], track1[1], c='red')\n",
    "plt.scatter(track2[0], track2[1], c='red')\n",
    "plt.title('x0-l')"
   ]
  },
  {
   "cell_type": "code",
   "execution_count": 15,
   "metadata": {
    "collapsed": false
   },
   "outputs": [
    {
     "data": {
      "text/plain": [
       "<matplotlib.text.Text at 0x7f6d90640b50>"
      ]
     },
     "execution_count": 15,
     "metadata": {},
     "output_type": "execute_result"
    },
    {
     "data": {
      "image/png": "[encoded data removed]",
      "text/plain": [
       "<matplotlib.figure.Figure at 0x7f6d906b8090>"
      ]
     },
     "metadata": {},
     "output_type": "display_data"
    }
   ],
   "source": [
    "#for dots in new_dots_array:\n",
    "plt.scatter(dots[0][0], dots[0][2], c='blue')\n",
    "plt.scatter(dots[-1][0], dots[-1][2], c='yellow')\n",
    "for j in range(len(dots)-1):\n",
    "    plt.plot([dots[j][0], dots[j+1][0]], [dots[j][2], dots[j+1][2]], c='blue')\n",
    "        \n",
    "plt.scatter(track1[0], track1[2], c='red')\n",
    "plt.scatter(track2[0], track2[2], c='red')\n",
    "plt.title('x0-y0')"
   ]
  },
  {
   "cell_type": "code",
   "execution_count": 239,
   "metadata": {
    "collapsed": false
   },
   "outputs": [
    {
     "data": {
      "text/plain": [
       "array(0.0)"
      ]
     },
     "execution_count": 239,
     "metadata": {},
     "output_type": "execute_result"
    }
   ],
   "source": [
    "artificial_retina_response([0, 0, 0, 0], art_event[['Wx1', 'Wy1', 'Wz', 'Wx2', 'Wy2', 'Wz']].values, 1)"
   ]
  },
  {
   "cell_type": "code",
   "execution_count": 17,
   "metadata": {
    "collapsed": false
   },
   "outputs": [],
   "source": [
    "values = [artificial_retina_response(dots[i], art_event[['Wx1', 'Wy1', 'Wz', 'Wx2', 'Wy2', 'Wz']].values, 1) for i in range(len(dots))]"
   ]
  },
  {
   "cell_type": "code",
   "execution_count": 18,
   "metadata": {
    "collapsed": false
   },
   "outputs": [
    {
     "data": {
      "text/plain": [
       "[<matplotlib.lines.Line2D at 0x7f6d8fc06b90>]"
      ]
     },
     "execution_count": 18,
     "metadata": {},
     "output_type": "execute_result"
    },
    {
     "data": {
      "image/png": "[encoded data removed]",
      "text/plain": [
       "<matplotlib.figure.Figure at 0x7f6d90c631d0>"
      ]
     },
     "metadata": {},
     "output_type": "display_data"
    }
   ],
   "source": [
    "plt.plot(range(len(dots)), values)"
   ]
  },
  {
   "cell_type": "code",
   "execution_count": 19,
   "metadata": {
    "collapsed": false
   },
   "outputs": [
    {
     "data": {
      "text/plain": [
       "array(16.64650458022106)"
      ]
     },
     "execution_count": 19,
     "metadata": {},
     "output_type": "execute_result"
    }
   ],
   "source": [
    "artificial_retina_response(track1, art_event[['Wx1', 'Wy1', 'Wz', 'Wx2', 'Wy2', 'Wz']].values, 1)"
   ]
  },
  {
   "cell_type": "code",
   "execution_count": 228,
   "metadata": {
    "collapsed": false
   },
   "outputs": [],
   "source": [
    "noise = art_event[((art_event.ViewNb==0)|(art_event.ViewNb==3))&(art_event.TrackID==-2)]\n",
    "\n",
    "y_track1 = art_event[((art_event.ViewNb==0)|(art_event.ViewNb==3))&(art_event.TrackID==2)]\n",
    "y_track_params1 = np.polyfit(y_track1.Wz1.values, y_track1.Wy1.values, 1)\n",
    "\n",
    "y_track2 = art_event[((art_event.ViewNb==0)|(art_event.ViewNb==3))&(art_event.TrackID==3)]\n",
    "y_track_params2 = np.polyfit(y_track2.Wz1.values, y_track2.Wy1.values, 1)\n",
    "\n",
    "min_z = np.min(art_event.Wz) - 20\n",
    "max_z = np.max(art_event.Wz) + 20\n",
    "\n",
    "dots = retina.tracks_params_"
   ]
  },
  {
   "cell_type": "code",
   "execution_count": 229,
   "metadata": {
    "collapsed": false
   },
   "outputs": [
    {
     "data": {
      "text/plain": [
       "[<matplotlib.lines.Line2D at 0x7f9a001e22d0>]"
      ]
     },
     "execution_count": 229,
     "metadata": {},
     "output_type": "execute_result"
    },
    {
     "data": {
      "image/png": "[encoded data removed]",
      "text/plain": [
       "<matplotlib.figure.Figure at 0x7f9a003d5490>"
      ]
     },
     "metadata": {},
     "output_type": "display_data"
    }
   ],
   "source": [
    "plt.scatter(noise.Wz.values, noise.Wy1.values, c='yellow')\n",
    "plt.scatter(y_track1.Wz.values, y_track1.Wy1.values, c='red')\n",
    "plt.scatter(y_track2.Wz.values, y_track2.Wy1.values, c='black')\n",
    "plt.plot([min_z, max_z], [dots[-1][2] + min_z*dots[-1][3], dots[-1][2] + max_z*dots[-1][3]], c='green')\n",
    "plt.plot([min_z, max_z], [dots[0][2] + min_z*dots[0][3], dots[0][2] + max_z*dots[0][3]], c='blue')\n",
    "plt.plot([min_z, max_z], [y_track_params1[1] + min_z*y_track_params1[0], y_track_params1[1] + max_z*y_track_params1[0]], c='red')\n",
    "plt.plot([min_z, max_z], [y_track_params2[1] + min_z*y_track_params2[0], y_track_params2[1] + max_z*y_track_params2[0]], c='black')\n",
    "#plt.ylim([170, 195])"
   ]
  },
  {
   "cell_type": "code",
   "execution_count": 230,
   "metadata": {
    "collapsed": false
   },
   "outputs": [
    {
     "data": {
      "text/plain": [
       "[<matplotlib.lines.Line2D at 0x7f9a0012aa90>]"
      ]
     },
     "execution_count": 230,
     "metadata": {},
     "output_type": "execute_result"
    },
    {
     "data": {
      "image/png": "[encoded data removed]",
      "text/plain": [
       "<matplotlib.figure.Figure at 0x7f9a003e9c10>"
      ]
     },
     "metadata": {},
     "output_type": "display_data"
    }
   ],
   "source": [
    "plt.plot([min_z, max_z], [dots[-1][0] + min_z*dots[-1][1], dots[-1][0] + max_z*dots[-1][1]], c='green')\n",
    "plt.plot([min_z, max_z], [dots[0][0] + min_z*dots[0][1], dots[0][0] + max_z*dots[0][1]], c='blue')\n",
    "plt.plot([min_z, max_z], [track1[0] + min_z*track1[1], track1[0] + max_z*track1[1]], c='red')\n",
    "plt.plot([min_z, max_z], [track2[0] + min_z*track2[1], track2[0] + max_z*track2[1]], c='black')\n",
    "#plt.ylim([200, 300])"
   ]
  },
  {
   "cell_type": "code",
   "execution_count": 231,
   "metadata": {
    "collapsed": false
   },
   "outputs": [
    {
     "data": {
      "text/plain": [
       "array([ 1,  0,  1,  0,  1,  0, -1,  0, -1,  1,  0,  1,  0,  0,  0,  1,  0,\n",
       "        0,  0,  1, -1,  1,  0,  1,  1,  1,  0, -1, -1, -1,  1,  1, -1,  0,\n",
       "        1,  0,  1,  1, -1,  0,  1,  0,  1, -1,  1,  0, -1])"
      ]
     },
     "execution_count": 231,
     "metadata": {},
     "output_type": "execute_result"
    }
   ],
   "source": [
    "retina.labels_"
   ]
  },
  {
   "cell_type": "code",
   "execution_count": 232,
   "metadata": {
    "collapsed": false
   },
   "outputs": [
    {
     "data": {
      "text/plain": [
       "array([[  4.79995541e+01,   3.09477733e-03,  -1.47685744e+02,\n",
       "         -3.16857803e-03],\n",
       "       [  2.23583454e+03,  -6.18474343e-01,   3.84806177e+01,\n",
       "         -1.28582021e-01]])"
      ]
     },
     "execution_count": 232,
     "metadata": {},
     "output_type": "execute_result"
    }
   ],
   "source": [
    "retina.tracks_params_"
   ]
  },
  {
   "cell_type": "code",
   "execution_count": 233,
   "metadata": {
    "collapsed": false
   },
   "outputs": [
    {
     "data": {
      "text/plain": [
       "array([ 1.,  0.,  1.,  0.,  1.,  0., -1.,  0., -1.,  1.,  0.,  1.,  0.,\n",
       "        0.,  0., -1.,  0.,  0.,  0.,  1., -1., -1.,  0., -1.,  1.,  1.,\n",
       "        0.,  1., -1., -1., -1.,  1.,  1.,  0., -1.,  0.,  1., -1.,  1.,\n",
       "        0., -1.,  0.,  1., -1.,  1.,  0.,  1.])"
      ]
     },
     "execution_count": 233,
     "metadata": {},
     "output_type": "execute_result"
    }
   ],
   "source": [
    "art_event.Label.values"
   ]
  },
  {
   "cell_type": "code",
   "execution_count": 234,
   "metadata": {
    "collapsed": false
   },
   "outputs": [
    {
     "data": {
      "text/plain": [
       "array([ True,  True,  True,  True,  True,  True,  True,  True,  True,\n",
       "        True,  True,  True,  True,  True,  True, False,  True,  True,\n",
       "        True,  True,  True, False,  True, False,  True,  True,  True,\n",
       "       False,  True,  True, False,  True, False,  True, False,  True,\n",
       "        True, False, False,  True, False,  True,  True,  True,  True,\n",
       "        True, False], dtype=bool)"
      ]
     },
     "execution_count": 234,
     "metadata": {},
     "output_type": "execute_result"
    }
   ],
   "source": [
    "art_event.Label.values==retina.labels_"
   ]
  },
  {
   "cell_type": "code",
   "execution_count": 58,
   "metadata": {
    "collapsed": false
   },
   "outputs": [],
   "source": [
    "dots"
   ]
  },
  {
   "cell_type": "code",
   "execution_count": 168,
   "metadata": {
    "collapsed": false
   },
   "outputs": [
    {
     "data": {
      "text/plain": [
       "array([[  4.02075692e+02,  -1.58999656e-01,   1.80286010e+01,\n",
       "         -0.00000000e+00],\n",
       "       [ -3.60938142e+02,   6.88088733e-02,  -4.71802683e+01,\n",
       "          1.94690265e-02],\n",
       "       [  1.29095188e+03,  -4.26128815e-01,   1.80286010e+01,\n",
       "         -0.00000000e+00],\n",
       "       [  4.28048171e+02,  -1.68354376e-01,  -5.29548422e+01,\n",
       "          2.12048193e-02],\n",
       "       [ -1.41715664e+03,   3.62771545e-01,   1.75886010e+01,\n",
       "         -0.00000000e+00],\n",
       "       [ -4.47474372e+02,   8.93724446e-02,   1.07276902e+02,\n",
       "         -2.52873563e-02],\n",
       "       [ -4.02859766e+02,   7.67934861e-02,   1.75886010e+01,\n",
       "         -0.00000000e+00],\n",
       "       [  5.13150316e+02,  -1.81472898e-01,   9.86575073e+01,\n",
       "         -2.28571429e-02],\n",
       "       [ -2.18944802e+03,   5.81636869e-01,   1.75886010e+01,\n",
       "         -0.00000000e+00],\n",
       "       [ -1.34275864e+03,   3.43039707e-01,   9.86997930e+01,\n",
       "         -2.28571429e-02],\n",
       "       [ -1.19478644e+03,   3.01341124e-01,   1.75886010e+01,\n",
       "         -0.00000000e+00],\n",
       "       [ -3.86977583e+02,   7.37004993e-02,   9.15881482e+01,\n",
       "         -2.08530806e-02],\n",
       "       [ -4.27407921e+02,   8.22793935e-02,  -6.45590416e+01,\n",
       "          2.32804233e-02],\n",
       "       [  5.43519175e+02,  -1.91412809e-01,   1.80286010e+01,\n",
       "         -0.00000000e+00],\n",
       "       [  4.61719046e+02,  -1.68354376e-01,  -5.71958060e+01,\n",
       "          2.12048193e-02],\n",
       "       [  1.37617765e+03,  -4.26128815e-01,   1.80286010e+01,\n",
       "         -0.00000000e+00]])"
      ]
     },
     "execution_count": 168,
     "metadata": {},
     "output_type": "execute_result"
    }
   ],
   "source": [
    "retina.initial_dots_generator(art_event[art_event.Label.values==0][['Wx1', 'Wy1', 'Wz', 'Wx2', 'Wy2', 'Wz']].values)"
   ]
  },
  {
   "cell_type": "code",
   "execution_count": 167,
   "metadata": {
    "collapsed": false
   },
   "outputs": [
    {
     "data": {
      "text/html": [
       "<div>\n",
       "<table border=\"1\" class=\"dataframe\">\n",
       "  <thead>\n",
       "    <tr style=\"text-align: right;\">\n",
       "      <th></th>\n",
       "      <th>EventID</th>\n",
       "      <th>TrackID</th>\n",
       "      <th>PdgCode</th>\n",
       "      <th>DetectorID</th>\n",
       "      <th>StatNb</th>\n",
       "      <th>ViewNb</th>\n",
       "      <th>PlaneNb</th>\n",
       "      <th>LayerNb</th>\n",
       "      <th>StrawNb</th>\n",
       "      <th>Px</th>\n",
       "      <th>...</th>\n",
       "      <th>Z</th>\n",
       "      <th>dist2Wire</th>\n",
       "      <th>Wx1</th>\n",
       "      <th>Wx2</th>\n",
       "      <th>Wy1</th>\n",
       "      <th>Wy2</th>\n",
       "      <th>Wz</th>\n",
       "      <th>Wz1</th>\n",
       "      <th>Wz2</th>\n",
       "      <th>Label</th>\n",
       "    </tr>\n",
       "  </thead>\n",
       "  <tbody>\n",
       "    <tr>\n",
       "      <th>85200</th>\n",
       "      <td>2002</td>\n",
       "      <td>2.0</td>\n",
       "      <td>211.0</td>\n",
       "      <td>31102268.0</td>\n",
       "      <td>3</td>\n",
       "      <td>1</td>\n",
       "      <td>1</td>\n",
       "      <td>0</td>\n",
       "      <td>268</td>\n",
       "      <td>-0.516624</td>\n",
       "      <td>...</td>\n",
       "      <td>3333.749756</td>\n",
       "      <td>0.190267</td>\n",
       "      <td>-251.540335</td>\n",
       "      <td>246.557014</td>\n",
       "      <td>6.690876</td>\n",
       "      <td>50.268747</td>\n",
       "      <td>3333.8793</td>\n",
       "      <td>3333.8793</td>\n",
       "      <td>3333.8793</td>\n",
       "      <td>0.0</td>\n",
       "    </tr>\n",
       "    <tr>\n",
       "      <th>85204</th>\n",
       "      <td>2002</td>\n",
       "      <td>2.0</td>\n",
       "      <td>211.0</td>\n",
       "      <td>33102274.0</td>\n",
       "      <td>3</td>\n",
       "      <td>3</td>\n",
       "      <td>1</td>\n",
       "      <td>0</td>\n",
       "      <td>274</td>\n",
       "      <td>-0.516829</td>\n",
       "      <td>...</td>\n",
       "      <td>3353.750000</td>\n",
       "      <td>0.346809</td>\n",
       "      <td>-250.000000</td>\n",
       "      <td>250.000000</td>\n",
       "      <td>18.028600</td>\n",
       "      <td>18.028600</td>\n",
       "      <td>3353.7500</td>\n",
       "      <td>3353.7500</td>\n",
       "      <td>3353.7500</td>\n",
       "      <td>0.0</td>\n",
       "    </tr>\n",
       "    <tr>\n",
       "      <th>85198</th>\n",
       "      <td>2002</td>\n",
       "      <td>2.0</td>\n",
       "      <td>211.0</td>\n",
       "      <td>30102274.0</td>\n",
       "      <td>3</td>\n",
       "      <td>0</td>\n",
       "      <td>1</td>\n",
       "      <td>0</td>\n",
       "      <td>274</td>\n",
       "      <td>-0.516783</td>\n",
       "      <td>...</td>\n",
       "      <td>3323.750000</td>\n",
       "      <td>0.344001</td>\n",
       "      <td>-250.000000</td>\n",
       "      <td>250.000000</td>\n",
       "      <td>18.028600</td>\n",
       "      <td>18.028600</td>\n",
       "      <td>3323.7500</td>\n",
       "      <td>3323.7500</td>\n",
       "      <td>3323.7500</td>\n",
       "      <td>0.0</td>\n",
       "    </tr>\n",
       "    <tr>\n",
       "      <th>85199</th>\n",
       "      <td>2002</td>\n",
       "      <td>2.0</td>\n",
       "      <td>211.0</td>\n",
       "      <td>31002268.0</td>\n",
       "      <td>3</td>\n",
       "      <td>1</td>\n",
       "      <td>0</td>\n",
       "      <td>0</td>\n",
       "      <td>268</td>\n",
       "      <td>-0.516819</td>\n",
       "      <td>...</td>\n",
       "      <td>3331.150391</td>\n",
       "      <td>0.254079</td>\n",
       "      <td>-251.578684</td>\n",
       "      <td>246.518665</td>\n",
       "      <td>7.129202</td>\n",
       "      <td>50.707073</td>\n",
       "      <td>3331.2793</td>\n",
       "      <td>3331.2793</td>\n",
       "      <td>3331.2793</td>\n",
       "      <td>0.0</td>\n",
       "    </tr>\n",
       "    <tr>\n",
       "      <th>85202</th>\n",
       "      <td>2002</td>\n",
       "      <td>2.0</td>\n",
       "      <td>211.0</td>\n",
       "      <td>32112281.0</td>\n",
       "      <td>3</td>\n",
       "      <td>2</td>\n",
       "      <td>1</td>\n",
       "      <td>1</td>\n",
       "      <td>281</td>\n",
       "      <td>-0.516728</td>\n",
       "      <td>...</td>\n",
       "      <td>3344.849609</td>\n",
       "      <td>0.157639</td>\n",
       "      <td>-248.474440</td>\n",
       "      <td>249.622909</td>\n",
       "      <td>28.352464</td>\n",
       "      <td>-15.225407</td>\n",
       "      <td>3344.9793</td>\n",
       "      <td>3344.9793</td>\n",
       "      <td>3344.9793</td>\n",
       "      <td>0.0</td>\n",
       "    </tr>\n",
       "    <tr>\n",
       "      <th>85201</th>\n",
       "      <td>2002</td>\n",
       "      <td>2.0</td>\n",
       "      <td>211.0</td>\n",
       "      <td>32002281.0</td>\n",
       "      <td>3</td>\n",
       "      <td>2</td>\n",
       "      <td>0</td>\n",
       "      <td>0</td>\n",
       "      <td>281</td>\n",
       "      <td>-0.516791</td>\n",
       "      <td>...</td>\n",
       "      <td>3341.150635</td>\n",
       "      <td>0.289154</td>\n",
       "      <td>-248.512789</td>\n",
       "      <td>249.584560</td>\n",
       "      <td>27.914138</td>\n",
       "      <td>-15.663733</td>\n",
       "      <td>3341.2793</td>\n",
       "      <td>3341.2793</td>\n",
       "      <td>3341.2793</td>\n",
       "      <td>0.0</td>\n",
       "    </tr>\n",
       "    <tr>\n",
       "      <th>85211</th>\n",
       "      <td>2002</td>\n",
       "      <td>2.0</td>\n",
       "      <td>211.0</td>\n",
       "      <td>43012275.0</td>\n",
       "      <td>4</td>\n",
       "      <td>3</td>\n",
       "      <td>0</td>\n",
       "      <td>1</td>\n",
       "      <td>275</td>\n",
       "      <td>-0.517010</td>\n",
       "      <td>...</td>\n",
       "      <td>3552.249756</td>\n",
       "      <td>0.236397</td>\n",
       "      <td>-250.000000</td>\n",
       "      <td>250.000000</td>\n",
       "      <td>17.588600</td>\n",
       "      <td>17.588600</td>\n",
       "      <td>3552.2500</td>\n",
       "      <td>3552.2500</td>\n",
       "      <td>3552.2500</td>\n",
       "      <td>0.0</td>\n",
       "    </tr>\n",
       "    <tr>\n",
       "      <th>85209</th>\n",
       "      <td>2002</td>\n",
       "      <td>2.0</td>\n",
       "      <td>211.0</td>\n",
       "      <td>42002281.0</td>\n",
       "      <td>4</td>\n",
       "      <td>2</td>\n",
       "      <td>0</td>\n",
       "      <td>0</td>\n",
       "      <td>281</td>\n",
       "      <td>-0.516757</td>\n",
       "      <td>...</td>\n",
       "      <td>3541.150146</td>\n",
       "      <td>0.057361</td>\n",
       "      <td>-248.512789</td>\n",
       "      <td>249.584560</td>\n",
       "      <td>27.914138</td>\n",
       "      <td>-15.663733</td>\n",
       "      <td>3541.2793</td>\n",
       "      <td>3541.2793</td>\n",
       "      <td>3541.2793</td>\n",
       "      <td>0.0</td>\n",
       "    </tr>\n",
       "    <tr>\n",
       "      <th>85197</th>\n",
       "      <td>2002</td>\n",
       "      <td>2.0</td>\n",
       "      <td>211.0</td>\n",
       "      <td>30012275.0</td>\n",
       "      <td>3</td>\n",
       "      <td>0</td>\n",
       "      <td>0</td>\n",
       "      <td>1</td>\n",
       "      <td>275</td>\n",
       "      <td>-0.516892</td>\n",
       "      <td>...</td>\n",
       "      <td>3322.250000</td>\n",
       "      <td>0.096369</td>\n",
       "      <td>-250.000000</td>\n",
       "      <td>250.000000</td>\n",
       "      <td>17.588600</td>\n",
       "      <td>17.588600</td>\n",
       "      <td>3322.2500</td>\n",
       "      <td>3322.2500</td>\n",
       "      <td>3322.2500</td>\n",
       "      <td>0.0</td>\n",
       "    </tr>\n",
       "    <tr>\n",
       "      <th>85208</th>\n",
       "      <td>2002</td>\n",
       "      <td>2.0</td>\n",
       "      <td>211.0</td>\n",
       "      <td>41112268.0</td>\n",
       "      <td>4</td>\n",
       "      <td>1</td>\n",
       "      <td>1</td>\n",
       "      <td>1</td>\n",
       "      <td>268</td>\n",
       "      <td>-0.516767</td>\n",
       "      <td>...</td>\n",
       "      <td>3534.850586</td>\n",
       "      <td>0.205604</td>\n",
       "      <td>-251.617032</td>\n",
       "      <td>246.480317</td>\n",
       "      <td>7.567527</td>\n",
       "      <td>51.145399</td>\n",
       "      <td>3534.9793</td>\n",
       "      <td>3534.9793</td>\n",
       "      <td>3534.9793</td>\n",
       "      <td>0.0</td>\n",
       "    </tr>\n",
       "    <tr>\n",
       "      <th>85207</th>\n",
       "      <td>2002</td>\n",
       "      <td>2.0</td>\n",
       "      <td>211.0</td>\n",
       "      <td>41002268.0</td>\n",
       "      <td>4</td>\n",
       "      <td>1</td>\n",
       "      <td>0</td>\n",
       "      <td>0</td>\n",
       "      <td>268</td>\n",
       "      <td>-0.516833</td>\n",
       "      <td>...</td>\n",
       "      <td>3531.149414</td>\n",
       "      <td>0.223471</td>\n",
       "      <td>-251.578684</td>\n",
       "      <td>246.518665</td>\n",
       "      <td>7.129202</td>\n",
       "      <td>50.707073</td>\n",
       "      <td>3531.2793</td>\n",
       "      <td>3531.2793</td>\n",
       "      <td>3531.2793</td>\n",
       "      <td>0.0</td>\n",
       "    </tr>\n",
       "    <tr>\n",
       "      <th>85210</th>\n",
       "      <td>2002</td>\n",
       "      <td>2.0</td>\n",
       "      <td>211.0</td>\n",
       "      <td>42112281.0</td>\n",
       "      <td>4</td>\n",
       "      <td>2</td>\n",
       "      <td>1</td>\n",
       "      <td>1</td>\n",
       "      <td>281</td>\n",
       "      <td>-0.516904</td>\n",
       "      <td>...</td>\n",
       "      <td>3544.849854</td>\n",
       "      <td>0.384905</td>\n",
       "      <td>-248.474440</td>\n",
       "      <td>249.622909</td>\n",
       "      <td>28.352464</td>\n",
       "      <td>-15.225407</td>\n",
       "      <td>3544.9793</td>\n",
       "      <td>3544.9793</td>\n",
       "      <td>3544.9793</td>\n",
       "      <td>0.0</td>\n",
       "    </tr>\n",
       "    <tr>\n",
       "      <th>85203</th>\n",
       "      <td>2002</td>\n",
       "      <td>2.0</td>\n",
       "      <td>211.0</td>\n",
       "      <td>33012275.0</td>\n",
       "      <td>3</td>\n",
       "      <td>3</td>\n",
       "      <td>0</td>\n",
       "      <td>1</td>\n",
       "      <td>275</td>\n",
       "      <td>-0.516772</td>\n",
       "      <td>...</td>\n",
       "      <td>3352.250000</td>\n",
       "      <td>0.093114</td>\n",
       "      <td>-250.000000</td>\n",
       "      <td>250.000000</td>\n",
       "      <td>17.588600</td>\n",
       "      <td>17.588600</td>\n",
       "      <td>3352.2500</td>\n",
       "      <td>3352.2500</td>\n",
       "      <td>3352.2500</td>\n",
       "      <td>0.0</td>\n",
       "    </tr>\n",
       "    <tr>\n",
       "      <th>85205</th>\n",
       "      <td>2002</td>\n",
       "      <td>2.0</td>\n",
       "      <td>211.0</td>\n",
       "      <td>40012275.0</td>\n",
       "      <td>4</td>\n",
       "      <td>0</td>\n",
       "      <td>0</td>\n",
       "      <td>1</td>\n",
       "      <td>275</td>\n",
       "      <td>-0.516804</td>\n",
       "      <td>...</td>\n",
       "      <td>3522.249756</td>\n",
       "      <td>0.201486</td>\n",
       "      <td>-250.000000</td>\n",
       "      <td>250.000000</td>\n",
       "      <td>17.588600</td>\n",
       "      <td>17.588600</td>\n",
       "      <td>3522.2500</td>\n",
       "      <td>3522.2500</td>\n",
       "      <td>3522.2500</td>\n",
       "      <td>0.0</td>\n",
       "    </tr>\n",
       "    <tr>\n",
       "      <th>85212</th>\n",
       "      <td>2002</td>\n",
       "      <td>2.0</td>\n",
       "      <td>211.0</td>\n",
       "      <td>43102274.0</td>\n",
       "      <td>4</td>\n",
       "      <td>3</td>\n",
       "      <td>1</td>\n",
       "      <td>0</td>\n",
       "      <td>274</td>\n",
       "      <td>-0.516830</td>\n",
       "      <td>...</td>\n",
       "      <td>3553.750244</td>\n",
       "      <td>0.201772</td>\n",
       "      <td>-250.000000</td>\n",
       "      <td>250.000000</td>\n",
       "      <td>18.028600</td>\n",
       "      <td>18.028600</td>\n",
       "      <td>3553.7500</td>\n",
       "      <td>3553.7500</td>\n",
       "      <td>3553.7500</td>\n",
       "      <td>0.0</td>\n",
       "    </tr>\n",
       "    <tr>\n",
       "      <th>85206</th>\n",
       "      <td>2002</td>\n",
       "      <td>2.0</td>\n",
       "      <td>211.0</td>\n",
       "      <td>40102274.0</td>\n",
       "      <td>4</td>\n",
       "      <td>0</td>\n",
       "      <td>1</td>\n",
       "      <td>0</td>\n",
       "      <td>274</td>\n",
       "      <td>-0.516992</td>\n",
       "      <td>...</td>\n",
       "      <td>3523.750244</td>\n",
       "      <td>0.236860</td>\n",
       "      <td>-250.000000</td>\n",
       "      <td>250.000000</td>\n",
       "      <td>18.028600</td>\n",
       "      <td>18.028600</td>\n",
       "      <td>3523.7500</td>\n",
       "      <td>3523.7500</td>\n",
       "      <td>3523.7500</td>\n",
       "      <td>0.0</td>\n",
       "    </tr>\n",
       "  </tbody>\n",
       "</table>\n",
       "<p>16 rows × 24 columns</p>\n",
       "</div>"
      ],
      "text/plain": [
       "       EventID  TrackID  PdgCode  DetectorID  StatNb  ViewNb  PlaneNb  \\\n",
       "85200     2002      2.0    211.0  31102268.0       3       1        1   \n",
       "85204     2002      2.0    211.0  33102274.0       3       3        1   \n",
       "85198     2002      2.0    211.0  30102274.0       3       0        1   \n",
       "85199     2002      2.0    211.0  31002268.0       3       1        0   \n",
       "85202     2002      2.0    211.0  32112281.0       3       2        1   \n",
       "85201     2002      2.0    211.0  32002281.0       3       2        0   \n",
       "85211     2002      2.0    211.0  43012275.0       4       3        0   \n",
       "85209     2002      2.0    211.0  42002281.0       4       2        0   \n",
       "85197     2002      2.0    211.0  30012275.0       3       0        0   \n",
       "85208     2002      2.0    211.0  41112268.0       4       1        1   \n",
       "85207     2002      2.0    211.0  41002268.0       4       1        0   \n",
       "85210     2002      2.0    211.0  42112281.0       4       2        1   \n",
       "85203     2002      2.0    211.0  33012275.0       3       3        0   \n",
       "85205     2002      2.0    211.0  40012275.0       4       0        0   \n",
       "85212     2002      2.0    211.0  43102274.0       4       3        1   \n",
       "85206     2002      2.0    211.0  40102274.0       4       0        1   \n",
       "\n",
       "       LayerNb  StrawNb        Px  ...              Z  dist2Wire         Wx1  \\\n",
       "85200        0      268 -0.516624  ...    3333.749756   0.190267 -251.540335   \n",
       "85204        0      274 -0.516829  ...    3353.750000   0.346809 -250.000000   \n",
       "85198        0      274 -0.516783  ...    3323.750000   0.344001 -250.000000   \n",
       "85199        0      268 -0.516819  ...    3331.150391   0.254079 -251.578684   \n",
       "85202        1      281 -0.516728  ...    3344.849609   0.157639 -248.474440   \n",
       "85201        0      281 -0.516791  ...    3341.150635   0.289154 -248.512789   \n",
       "85211        1      275 -0.517010  ...    3552.249756   0.236397 -250.000000   \n",
       "85209        0      281 -0.516757  ...    3541.150146   0.057361 -248.512789   \n",
       "85197        1      275 -0.516892  ...    3322.250000   0.096369 -250.000000   \n",
       "85208        1      268 -0.516767  ...    3534.850586   0.205604 -251.617032   \n",
       "85207        0      268 -0.516833  ...    3531.149414   0.223471 -251.578684   \n",
       "85210        1      281 -0.516904  ...    3544.849854   0.384905 -248.474440   \n",
       "85203        1      275 -0.516772  ...    3352.250000   0.093114 -250.000000   \n",
       "85205        1      275 -0.516804  ...    3522.249756   0.201486 -250.000000   \n",
       "85212        0      274 -0.516830  ...    3553.750244   0.201772 -250.000000   \n",
       "85206        0      274 -0.516992  ...    3523.750244   0.236860 -250.000000   \n",
       "\n",
       "              Wx2        Wy1        Wy2         Wz        Wz1        Wz2  \\\n",
       "85200  246.557014   6.690876  50.268747  3333.8793  3333.8793  3333.8793   \n",
       "85204  250.000000  18.028600  18.028600  3353.7500  3353.7500  3353.7500   \n",
       "85198  250.000000  18.028600  18.028600  3323.7500  3323.7500  3323.7500   \n",
       "85199  246.518665   7.129202  50.707073  3331.2793  3331.2793  3331.2793   \n",
       "85202  249.622909  28.352464 -15.225407  3344.9793  3344.9793  3344.9793   \n",
       "85201  249.584560  27.914138 -15.663733  3341.2793  3341.2793  3341.2793   \n",
       "85211  250.000000  17.588600  17.588600  3552.2500  3552.2500  3552.2500   \n",
       "85209  249.584560  27.914138 -15.663733  3541.2793  3541.2793  3541.2793   \n",
       "85197  250.000000  17.588600  17.588600  3322.2500  3322.2500  3322.2500   \n",
       "85208  246.480317   7.567527  51.145399  3534.9793  3534.9793  3534.9793   \n",
       "85207  246.518665   7.129202  50.707073  3531.2793  3531.2793  3531.2793   \n",
       "85210  249.622909  28.352464 -15.225407  3544.9793  3544.9793  3544.9793   \n",
       "85203  250.000000  17.588600  17.588600  3352.2500  3352.2500  3352.2500   \n",
       "85205  250.000000  17.588600  17.588600  3522.2500  3522.2500  3522.2500   \n",
       "85212  250.000000  18.028600  18.028600  3553.7500  3553.7500  3553.7500   \n",
       "85206  250.000000  18.028600  18.028600  3523.7500  3523.7500  3523.7500   \n",
       "\n",
       "       Label  \n",
       "85200    0.0  \n",
       "85204    0.0  \n",
       "85198    0.0  \n",
       "85199    0.0  \n",
       "85202    0.0  \n",
       "85201    0.0  \n",
       "85211    0.0  \n",
       "85209    0.0  \n",
       "85197    0.0  \n",
       "85208    0.0  \n",
       "85207    0.0  \n",
       "85210    0.0  \n",
       "85203    0.0  \n",
       "85205    0.0  \n",
       "85212    0.0  \n",
       "85206    0.0  \n",
       "\n",
       "[16 rows x 24 columns]"
      ]
     },
     "execution_count": 167,
     "metadata": {},
     "output_type": "execute_result"
    }
   ],
   "source": [
    "art_event[art_event.Label.values==0]"
   ]
  },
  {
   "cell_type": "code",
   "execution_count": 44,
   "metadata": {
    "collapsed": false
   },
   "outputs": [
    {
     "data": {
      "text/html": [
       "<div>\n",
       "<table border=\"1\" class=\"dataframe\">\n",
       "  <thead>\n",
       "    <tr style=\"text-align: right;\">\n",
       "      <th></th>\n",
       "      <th>EventID</th>\n",
       "      <th>TrackID</th>\n",
       "      <th>PdgCode</th>\n",
       "      <th>DetectorID</th>\n",
       "      <th>StatNb</th>\n",
       "      <th>ViewNb</th>\n",
       "      <th>PlaneNb</th>\n",
       "      <th>LayerNb</th>\n",
       "      <th>StrawNb</th>\n",
       "      <th>Px</th>\n",
       "      <th>...</th>\n",
       "      <th>Z</th>\n",
       "      <th>dist2Wire</th>\n",
       "      <th>Wx1</th>\n",
       "      <th>Wx2</th>\n",
       "      <th>Wy1</th>\n",
       "      <th>Wy2</th>\n",
       "      <th>Wz</th>\n",
       "      <th>Wz1</th>\n",
       "      <th>Wz2</th>\n",
       "      <th>Label</th>\n",
       "    </tr>\n",
       "  </thead>\n",
       "  <tbody>\n",
       "    <tr>\n",
       "      <th>157999</th>\n",
       "      <td>3670</td>\n",
       "      <td>3.0</td>\n",
       "      <td>13.0</td>\n",
       "      <td>31102143.0</td>\n",
       "      <td>3</td>\n",
       "      <td>1</td>\n",
       "      <td>1</td>\n",
       "      <td>0</td>\n",
       "      <td>143</td>\n",
       "      <td>-0.337498</td>\n",
       "      <td>...</td>\n",
       "      <td>3333.758057</td>\n",
       "      <td>0.307726</td>\n",
       "      <td>-270.714599</td>\n",
       "      <td>227.382750</td>\n",
       "      <td>225.853710</td>\n",
       "      <td>269.431581</td>\n",
       "      <td>3333.8793</td>\n",
       "      <td>3333.8793</td>\n",
       "      <td>3333.8793</td>\n",
       "      <td>1.0</td>\n",
       "    </tr>\n",
       "    <tr>\n",
       "      <th>158000</th>\n",
       "      <td>3670</td>\n",
       "      <td>3.0</td>\n",
       "      <td>13.0</td>\n",
       "      <td>41002141.0</td>\n",
       "      <td>4</td>\n",
       "      <td>1</td>\n",
       "      <td>0</td>\n",
       "      <td>0</td>\n",
       "      <td>141</td>\n",
       "      <td>-0.327816</td>\n",
       "      <td>...</td>\n",
       "      <td>3531.142578</td>\n",
       "      <td>0.331607</td>\n",
       "      <td>-271.059735</td>\n",
       "      <td>227.037614</td>\n",
       "      <td>229.798641</td>\n",
       "      <td>273.376512</td>\n",
       "      <td>3531.2793</td>\n",
       "      <td>3531.2793</td>\n",
       "      <td>3531.2793</td>\n",
       "      <td>1.0</td>\n",
       "    </tr>\n",
       "    <tr>\n",
       "      <th>157998</th>\n",
       "      <td>3670</td>\n",
       "      <td>3.0</td>\n",
       "      <td>13.0</td>\n",
       "      <td>31012144.0</td>\n",
       "      <td>3</td>\n",
       "      <td>1</td>\n",
       "      <td>0</td>\n",
       "      <td>1</td>\n",
       "      <td>144</td>\n",
       "      <td>-0.337080</td>\n",
       "      <td>...</td>\n",
       "      <td>3332.247559</td>\n",
       "      <td>0.092714</td>\n",
       "      <td>-270.676250</td>\n",
       "      <td>227.421099</td>\n",
       "      <td>225.415384</td>\n",
       "      <td>268.993255</td>\n",
       "      <td>3332.3793</td>\n",
       "      <td>3332.3793</td>\n",
       "      <td>3332.3793</td>\n",
       "      <td>1.0</td>\n",
       "    </tr>\n",
       "    <tr>\n",
       "      <th>158001</th>\n",
       "      <td>3670</td>\n",
       "      <td>3.0</td>\n",
       "      <td>13.0</td>\n",
       "      <td>41112141.0</td>\n",
       "      <td>4</td>\n",
       "      <td>1</td>\n",
       "      <td>1</td>\n",
       "      <td>1</td>\n",
       "      <td>141</td>\n",
       "      <td>-0.327753</td>\n",
       "      <td>...</td>\n",
       "      <td>3534.850586</td>\n",
       "      <td>0.024389</td>\n",
       "      <td>-271.098084</td>\n",
       "      <td>226.999265</td>\n",
       "      <td>230.236966</td>\n",
       "      <td>273.814838</td>\n",
       "      <td>3534.9793</td>\n",
       "      <td>3534.9793</td>\n",
       "      <td>3534.9793</td>\n",
       "      <td>1.0</td>\n",
       "    </tr>\n",
       "  </tbody>\n",
       "</table>\n",
       "<p>4 rows × 24 columns</p>\n",
       "</div>"
      ],
      "text/plain": [
       "        EventID  TrackID  PdgCode  DetectorID  StatNb  ViewNb  PlaneNb  \\\n",
       "157999     3670      3.0     13.0  31102143.0       3       1        1   \n",
       "158000     3670      3.0     13.0  41002141.0       4       1        0   \n",
       "157998     3670      3.0     13.0  31012144.0       3       1        0   \n",
       "158001     3670      3.0     13.0  41112141.0       4       1        1   \n",
       "\n",
       "        LayerNb  StrawNb        Px  ...              Z  dist2Wire         Wx1  \\\n",
       "157999        0      143 -0.337498  ...    3333.758057   0.307726 -270.714599   \n",
       "158000        0      141 -0.327816  ...    3531.142578   0.331607 -271.059735   \n",
       "157998        1      144 -0.337080  ...    3332.247559   0.092714 -270.676250   \n",
       "158001        1      141 -0.327753  ...    3534.850586   0.024389 -271.098084   \n",
       "\n",
       "               Wx2         Wy1         Wy2         Wz        Wz1        Wz2  \\\n",
       "157999  227.382750  225.853710  269.431581  3333.8793  3333.8793  3333.8793   \n",
       "158000  227.037614  229.798641  273.376512  3531.2793  3531.2793  3531.2793   \n",
       "157998  227.421099  225.415384  268.993255  3332.3793  3332.3793  3332.3793   \n",
       "158001  226.999265  230.236966  273.814838  3534.9793  3534.9793  3534.9793   \n",
       "\n",
       "        Label  \n",
       "157999    1.0  \n",
       "158000    1.0  \n",
       "157998    1.0  \n",
       "158001    1.0  \n",
       "\n",
       "[4 rows x 24 columns]"
      ]
     },
     "execution_count": 44,
     "metadata": {},
     "output_type": "execute_result"
    }
   ],
   "source": [
    "event[(event.TrackID==3)&(event.StatNb>2)]"
   ]
  },
  {
   "cell_type": "code",
   "execution_count": 186,
   "metadata": {
    "collapsed": true
   },
   "outputs": [],
   "source": [
    "a = np.array([1,2])"
   ]
  },
  {
   "cell_type": "code",
   "execution_count": 187,
   "metadata": {
    "collapsed": false
   },
   "outputs": [
    {
     "data": {
      "text/plain": [
       "array([1, 2, 1, 2])"
      ]
     },
     "execution_count": 187,
     "metadata": {},
     "output_type": "execute_result"
    }
   ],
   "source": [
    "np.array(list(a)*2)"
   ]
  },
  {
   "cell_type": "code",
   "execution_count": 250,
   "metadata": {
    "collapsed": true
   },
   "outputs": [],
   "source": [
    "dist2Wire = 0.\n",
    "sigma = 0.3\n",
    "xs = np.linspace(0, 1, 100)\n",
    "ys = np.exp(-(xs-dist2Wire)**2/sigma**2)"
   ]
  },
  {
   "cell_type": "code",
   "execution_count": 251,
   "metadata": {
    "collapsed": false
   },
   "outputs": [
    {
     "data": {
      "text/plain": [
       "[<matplotlib.lines.Line2D at 0x7f99ffcb1f10>]"
      ]
     },
     "execution_count": 251,
     "metadata": {},
     "output_type": "execute_result"
    },
    {
     "data": {
      "image/png": "[encoded data removed]",
      "text/plain": [
       "<matplotlib.figure.Figure at 0x7f99ffcb1f90>"
      ]
     },
     "metadata": {},
     "output_type": "display_data"
    }
   ],
   "source": [
    "plt.plot(xs, ys)\n",
    "plt.plot([dist2Wire, dist2Wire], [0, 1], c='red')"
   ]
  },
  {
   "cell_type": "code",
   "execution_count": null,
   "metadata": {
    "collapsed": true
   },
   "outputs": [],
   "source": []
  }
 ],
 "metadata": {
  "kernelspec": {
   "display_name": "Python [Root]",
   "language": "python",
   "name": "Python [Root]"
  },
  "language_info": {
   "codemirror_mode": {
    "name": "ipython",
    "version": 2
   },
   "file_extension": ".py",
   "mimetype": "text/x-python",
   "name": "python",
   "nbconvert_exporter": "python",
   "pygments_lexer": "ipython2",
   "version": "2.7.11"
  }
 },
 "nbformat": 4,
 "nbformat_minor": 0
}
