{
 "cells": [
  {
   "cell_type": "code",
   "execution_count": 1,
   "metadata": {
    "collapsed": true
   },
   "outputs": [],
   "source": [
    "%matplotlib inline\n",
    "import numpy \n",
    "import pandas\n",
    "import theano\n",
    "import theano.tensor as T\n",
    "import matplotlib.pyplot as plt\n",
    "\n",
    "import os, sys\n",
    "sys.path.append('../code')\n",
    "\n",
    "from retina_best import *"
   ]
  },
  {
   "cell_type": "code",
   "execution_count": 2,
   "metadata": {
    "collapsed": true
   },
   "outputs": [],
   "source": [
    "import warnings\n",
    "warnings.filterwarnings('ignore')"
   ]
  },
  {
   "cell_type": "code",
   "execution_count": 3,
   "metadata": {
    "collapsed": false
   },
   "outputs": [],
   "source": [
    "data = pd.read_csv('../data/hits.csv', index_col=0)"
   ]
  },
  {
   "cell_type": "markdown",
   "metadata": {},
   "source": [
    "# Track finding"
   ]
  },
  {
   "cell_type": "code",
   "execution_count": 4,
   "metadata": {
    "collapsed": true
   },
   "outputs": [],
   "source": [
    "from combination import Combinator\n",
    "from metrics import TracksReconstractionMetrics, CombinatorQuality"
   ]
  },
  {
   "cell_type": "code",
   "execution_count": 5,
   "metadata": {
    "collapsed": false
   },
   "outputs": [
    {
     "name": "stdout",
     "output_type": "stream",
     "text": [
      "3 381\n",
      "crashed at1528\n",
      "crashed at2040\n",
      "3 3085\n",
      "1 3165\n",
      "2 3670\n",
      "1 4334\n",
      "CPU times: user 16min 9s, sys: 2.26 s, total: 16min 11s\n",
      "Wall time: 16min 10s\n"
     ]
    }
   ],
   "source": [
    "%%time\n",
    "event_ids = numpy.unique(data.EventID.values)\n",
    "\n",
    "tracks12 = {}\n",
    "tracks34 = {}\n",
    "tracks_comb = {}\n",
    "\n",
    "tracks_metrics_before_all = pandas.DataFrame(columns=['EventID', 'AvgEff', 'RecoEff', 'GhostRate', 'CloneRate'])\n",
    "\n",
    "tracks_metrics_after_all = pandas.DataFrame(columns=['EventID', 'AvgEff', 'RecoEff', 'GhostRate', 'CloneRate'])\n",
    "\n",
    "combinations = pandas.DataFrame(columns=['EventID', 'TrackIDBefore', 'TrackIDAfter', 'Charge', 'PInv'])\n",
    "combinations_true = pandas.DataFrame(columns=['EventID', 'IsTrueCombination', 'PdgCode', 'Charge', \n",
    "                                                 'IsTrueCharge', 'TruePInv', 'PErr', 'Label'])\n",
    "\n",
    "combinations_quality = pandas.DataFrame(columns=['EventID', 'RecoEff', 'GhostRate', 'CloneRate', 'NCombined'])\n",
    "\n",
    "pass_stages = pandas.DataFrame(columns=['RecoEvents', 'Y12', 'Y34', 'Combination', 'Matching'])\n",
    "\n",
    "for event_id in event_ids:\n",
    "    try:\n",
    "        # Get an event\n",
    "        event = data[data.EventID == event_id]\n",
    "        event12 = event[(event.StatNb == 1) + (event.StatNb == 2)]\n",
    "        event34 = event[(event.StatNb == 3) + (event.StatNb == 4)]\n",
    "\n",
    "        # Tracks reconstruction before the magnet\n",
    "        tr2d = RetinaTrackReconstruction(pre_sigma=0.8, inlier_treshold=0.7, x_resolution=1, y_resolution=1,\\\n",
    "                                         de_popsize=20, adjusting=True, seed=42)\n",
    "        tr2d.fit(event)\n",
    "\n",
    "        labels12 = tr2d.labels_[0]\n",
    "        tracks_params12 = tr2d.tracks_params_[0]\n",
    "\n",
    "        # Quality metrics of the reconstruction\n",
    "        trm12 = TracksReconstractionMetrics(0.2)\n",
    "        trm12.fit(labels12, event12)\n",
    "\n",
    "        tracks_metrics_before_all.loc[len(tracks_metrics_before_all)] = [event_id, \n",
    "                                                                     trm12.avg_efficiency_, \n",
    "                                                                     trm12.recognition_efficiency_, \n",
    "                                                                     trm12.ghost_rate_, \n",
    "                                                                     trm12.clone_rate_]\n",
    "\n",
    "        labels34 = tr2d.labels_[1]\n",
    "        tracks_params34 = tr2d.tracks_params_[1]\n",
    "\n",
    "        # Quality metrics of the reconstruction\n",
    "        trm34 = TracksReconstractionMetrics(0.2)\n",
    "        trm34.fit(labels34, event34)\n",
    "\n",
    "        tracks_metrics_after_all.loc[len(tracks_metrics_after_all)] = [event_id, \n",
    "                                                                     trm34.avg_efficiency_, \n",
    "                                                                     trm34.recognition_efficiency_, \n",
    "                                                                     trm34.ghost_rate_, \n",
    "                                                                     trm34.clone_rate_]\n",
    "\n",
    "\n",
    "        # Save the reconstructed tracks\n",
    "        tracks12[event_id] = {'labels':labels12, 'params':tracks_params12}\n",
    "        tracks34[event_id] = {'labels':labels34, 'params':tracks_params34}\n",
    "\n",
    "\n",
    "        # Combination of the tracks before and after the magnet\n",
    "        comb = Combinator()\n",
    "        comb.combine(tracks_params12, tracks_params34)\n",
    "\n",
    "        for num in range(len(comb.tracks_combinations_)):\n",
    "\n",
    "            combinations.loc[len(combinations)] = [event_id, \n",
    "                                                   comb.tracks_combinations_[num][0], \n",
    "                                                   comb.tracks_combinations_[num][1], \n",
    "                                                   comb.charges_[num], \n",
    "                                                   comb.inv_momentums_[num]]\n",
    "\n",
    "        # Quality of the combination\n",
    "\n",
    "        cq = CombinatorQuality()\n",
    "        cq.fit(labels12, labels34, comb.tracks_combinations_, comb.charges_, comb.inv_momentums_, event12, event34)\n",
    "\n",
    "        combinations_quality.loc[len(combinations_quality)] = [event_id, \n",
    "                                                               cq.reco_eff_, \n",
    "                                                               cq.ghost_rate_, \n",
    "                                                               cq.clone_rate_, \n",
    "                                                               cq.n_combined_]\n",
    "\n",
    "        for num in range(len(cq.check_tracks_combinations_)):\n",
    "\n",
    "            combinations_true.loc[len(combinations_quality)] = [event_id, \n",
    "                                                                   cq.check_tracks_combinations_[num], \n",
    "                                                                   cq.true_pdg_codes_[num], \n",
    "                                                                   cq.true_charges_[num],\n",
    "                                                                   cq.check_charges_[num], \n",
    "                                                                   cq.true_inv_momentums_[num], \n",
    "                                                                   cq.momentums_err_[num],\n",
    "                                                                   cq.labels_[num]]\n",
    "\n",
    "\n",
    "\n",
    "        # Overall quality\n",
    "        pass_stages.loc[len(pass_stages)] = numpy.array([1, \n",
    "                                                         (trm12.recognition_efficiency_ == 1)*1,\n",
    "                                                         (trm34.recognition_efficiency_ == 1)*1, \n",
    "                                                         (cq.n_combined_ >= 2)*1,\n",
    "                                                         (cq.reco_eff_ == 1)*1]).cumprod()\n",
    "\n",
    "        if not (trm12.recognition_efficiency_ == 1):\n",
    "            print 1, event_id\n",
    "        elif not (trm34.recognition_efficiency_ == 1):\n",
    "            print 2, event_id\n",
    "        elif not (cq.n_combined_ >= 2):\n",
    "            print 3, event_id\n",
    "\n",
    "\n",
    "\n",
    "        # Save the tracks combination\n",
    "        tracks_comb[event_id] = {'tracks_combinations':comb.tracks_combinations_, \n",
    "                                 'charges':comb.charges_,\n",
    "                                 'inv_momentums':comb.inv_momentums_}\n",
    "    except:\n",
    "        print 'crashed at' + str(event_id)"
   ]
  },
  {
   "cell_type": "markdown",
   "metadata": {},
   "source": [
    "# Deviation in stereo"
   ]
  },
  {
   "cell_type": "code",
   "execution_count": 6,
   "metadata": {
    "collapsed": false
   },
   "outputs": [],
   "source": [
    "event_ids = np.unique(data.EventID.values)\n",
    "\n",
    "ks_before = []\n",
    "ks_after = []\n",
    "\n",
    "for event_id in event_ids:\n",
    "    \n",
    "    event = data[data.EventID == event_id]\n",
    "    \n",
    "    track1 = event[event.TrackID == 2]\n",
    "    \n",
    "    Xs_before = track1[track1.StatNb<3].X.values\n",
    "    Zs_before = track1[track1.StatNb<3].Z.values\n",
    "    \n",
    "    Xs_after = track1[track1.StatNb>2].X.values\n",
    "    Zs_after = track1[track1.StatNb>2].Z.values\n",
    "    \n",
    "    k_before, b_before = np.polyfit(Zs_before, Xs_before, 1)\n",
    "    ks_before.append(k_before)\n",
    "    \n",
    "    k_after, b_after = np.polyfit(Zs_after, Xs_after, 1)\n",
    "    ks_after.append(k_after)\n",
    "    \n",
    "    track1 = event[event.TrackID == 3]\n",
    "    \n",
    "    Xs_before = track1[track1.StatNb<3].X.values\n",
    "    Zs_before = track1[track1.StatNb<3].Z.values\n",
    "    \n",
    "    Xs_after = track1[track1.StatNb>2].X.values\n",
    "    Zs_after = track1[track1.StatNb>2].Z.values\n",
    "    \n",
    "    k_before, b_before = np.polyfit(Zs_before, Xs_before, 1)\n",
    "    ks_before.append(k_before)\n",
    "    \n",
    "    k_after, b_after = np.polyfit(Zs_after, Xs_after, 1)\n",
    "    ks_after.append(k_after)\n",
    "    \n",
    "ks_before = np.array(ks_before)\n",
    "ks_after = np.array(ks_after)"
   ]
  },
  {
   "cell_type": "code",
   "execution_count": 7,
   "metadata": {
    "collapsed": false
   },
   "outputs": [
    {
     "data": {
      "text/plain": [
       "(array([  1.00000000e+00,   0.00000000e+00,   0.00000000e+00,\n",
       "          0.00000000e+00,   1.00000000e+00,   0.00000000e+00,\n",
       "          0.00000000e+00,   0.00000000e+00,   1.00000000e+00,\n",
       "          0.00000000e+00,   1.00000000e+00,   0.00000000e+00,\n",
       "          0.00000000e+00,   1.00000000e+00,   1.00000000e+00,\n",
       "          0.00000000e+00,   0.00000000e+00,   2.00000000e+00,\n",
       "          0.00000000e+00,   1.00000000e+00,   0.00000000e+00,\n",
       "          1.00000000e+00,   0.00000000e+00,   0.00000000e+00,\n",
       "          3.00000000e+00,   2.00000000e+00,   2.00000000e+00,\n",
       "          2.10000000e+01,   1.26400000e+03,   1.50000000e+01,\n",
       "          8.00000000e+00,   2.00000000e+00,   2.00000000e+00,\n",
       "          2.00000000e+00,   2.00000000e+00,   0.00000000e+00,\n",
       "          2.00000000e+00,   0.00000000e+00,   0.00000000e+00,\n",
       "          2.00000000e+00,   0.00000000e+00,   0.00000000e+00,\n",
       "          0.00000000e+00,   0.00000000e+00,   1.00000000e+00,\n",
       "          0.00000000e+00,   0.00000000e+00,   1.00000000e+00,\n",
       "          0.00000000e+00,   1.00000000e+00]),\n",
       " array([-0.0143419 , -0.01383759, -0.01333329, -0.01282898, -0.01232468,\n",
       "        -0.01182037, -0.01131606, -0.01081176, -0.01030745, -0.00980314,\n",
       "        -0.00929884, -0.00879453, -0.00829022, -0.00778592, -0.00728161,\n",
       "        -0.0067773 , -0.006273  , -0.00576869, -0.00526438, -0.00476008,\n",
       "        -0.00425577, -0.00375147, -0.00324716, -0.00274285, -0.00223855,\n",
       "        -0.00173424, -0.00122993, -0.00072563, -0.00022132,  0.00028299,\n",
       "         0.00078729,  0.0012916 ,  0.00179591,  0.00230021,  0.00280452,\n",
       "         0.00330882,  0.00381313,  0.00431744,  0.00482174,  0.00532605,\n",
       "         0.00583036,  0.00633466,  0.00683897,  0.00734328,  0.00784758,\n",
       "         0.00835189,  0.0088562 ,  0.0093605 ,  0.00986481,  0.01036912,\n",
       "         0.01087342]),\n",
       " <a list of 50 Patch objects>)"
      ]
     },
     "execution_count": 7,
     "metadata": {},
     "output_type": "execute_result"
    },
    {
     "data": {
      "image/png": "[encoded data removed]",
      "text/plain": [
       "<matplotlib.figure.Figure at 0x7f0a2d92f710>"
      ]
     },
     "metadata": {},
     "output_type": "display_data"
    }
   ],
   "source": [
    "plt.hist(ks_before - ks_after, bins=50)"
   ]
  },
  {
   "cell_type": "markdown",
   "metadata": {
    "collapsed": true
   },
   "source": [
    "# Track eff vs Reco eff"
   ]
  },
  {
   "cell_type": "code",
   "execution_count": 40,
   "metadata": {
    "collapsed": false
   },
   "outputs": [
    {
     "name": "stdout",
     "output_type": "stream",
     "text": [
      "CPU times: user 51.4 s, sys: 0 ns, total: 51.4 s\n",
      "Wall time: 51.4 s\n"
     ]
    }
   ],
   "source": [
    "%%time\n",
    "\n",
    "event_ids = list(event_ids)\n",
    "event_ids.remove(1528)\n",
    "event_ids.remove(2040)\n",
    "\n",
    "tresholds = np.linspace(0.2, 1, 15)\n",
    "effs = []\n",
    "\n",
    "for treshold in tresholds:\n",
    "    \n",
    "    ps = pandas.DataFrame(columns=['RecoEvents', 'Y12', 'Y34', 'Combination', 'Matching'])\n",
    "\n",
    "    for event_id in event_ids:\n",
    "\n",
    "        event = data[data.EventID == event_id]\n",
    "        event12 = event[(event.StatNb == 1) + (event.StatNb == 2)]\n",
    "        event34 = event[(event.StatNb == 3) + (event.StatNb == 4)]\n",
    "\n",
    "        labels12 = tracks12[event_id]['labels']\n",
    "        tracks_params12 = tracks12[event_id]['params']\n",
    "\n",
    "        # Quality metrics of the reconstruction\n",
    "        trm12 = TracksReconstractionMetrics(treshold)\n",
    "        trm12.fit(labels12, event12)\n",
    "\n",
    "        labels34 = tracks34[event_id]['labels']\n",
    "        tracks_params34 = tracks34[event_id]['params']\n",
    "\n",
    "        # Quality metrics of the reconstruction\n",
    "        trm34 = TracksReconstractionMetrics(treshold)\n",
    "        trm34.fit(labels34, event34)\n",
    "\n",
    "        # Combination of the tracks before and after the magnet\n",
    "        comb = Combinator()\n",
    "        comb.combine(tracks_params12, tracks_params34)\n",
    "\n",
    "        # Quality of the combination\n",
    "        cq = CombinatorQuality()\n",
    "        cq.fit(labels12, labels34, comb.tracks_combinations_, comb.charges_, comb.inv_momentums_, event12, event34)\n",
    "\n",
    "        # Overall quality\n",
    "        ps.loc[len(ps)] = numpy.array([1, \n",
    "                                       (trm12.recognition_efficiency_ == 1)*1,\n",
    "                                       (trm34.recognition_efficiency_ == 1)*1, \n",
    "                                       (cq.n_combined_ >= 2)*1,\n",
    "                                       (cq.reco_eff_ == 1)*1]).cumprod()\n",
    "\n",
    "    bar_values = ps.sum(axis=0).values\n",
    "    bar_values = bar_values / bar_values[0] * 100\n",
    "\n",
    "    effs.append(bar_values[-1])\n",
    "    \n",
    "effs = np.array(effs)"
   ]
  },
  {
   "cell_type": "code",
   "execution_count": 41,
   "metadata": {
    "collapsed": false
   },
   "outputs": [
    {
     "data": {
      "text/plain": [
       "[<matplotlib.lines.Line2D at 0x7f4c9ab20790>]"
      ]
     },
     "execution_count": 41,
     "metadata": {},
     "output_type": "execute_result"
    },
    {
     "data": {
      "image/png": "[encoded data removed]",
      "text/plain": [
       "<matplotlib.figure.Figure at 0x7f4c9accb390>"
      ]
     },
     "metadata": {},
     "output_type": "display_data"
    }
   ],
   "source": [
    "plt.plot(tresholds, effs)"
   ]
  },
  {
   "cell_type": "markdown",
   "metadata": {
    "collapsed": true
   },
   "source": [
    "# Efficiency per track"
   ]
  },
  {
   "cell_type": "code",
   "execution_count": 25,
   "metadata": {
    "collapsed": false
   },
   "outputs": [],
   "source": [
    "tracks = {}\n",
    "for key in tracks12.keys():\n",
    "    tracks[key] = {'labels12':tracks12[key]['labels'], 'params12':tracks12[key]['params'],\\\n",
    "                   'labels34':tracks34[key]['labels'], 'params34':tracks34[key]['params']}"
   ]
  },
  {
   "cell_type": "code",
   "execution_count": 26,
   "metadata": {
    "collapsed": false
   },
   "outputs": [
    {
     "data": {
      "image/png": "[encoded data removed]",
      "text/plain": [
       "<matplotlib.figure.Figure at 0x7f2f00b53f90>"
      ]
     },
     "metadata": {},
     "output_type": "display_data"
    }
   ],
   "source": [
    "from utils import *\n",
    "\n",
    "tracks_eff = get_effs_per_track_and_p(tracks, data, event_ids)\n",
    "\n",
    "x_means, y_means, x_err, y_err = get_bins(tracks_eff.Momentum.values,\n",
    "                                          tracks_eff.Eff.values,\n",
    "                                          20,\n",
    "                                          tracks_eff.Momentum.values.min(),\n",
    "                                          tracks_eff.Momentum.values.max())\n",
    "\n",
    "plt.figure(figsize=(10, 7))\n",
    "plt.scatter(x_means, y_means, linewidth=0, color='r')\n",
    "plt.errorbar(x_means, y_means, xerr=x_err, yerr=y_err, fmt='none', ecolor='r')\n",
    "plt.ylim(0.0, 1.05)\n",
    "plt.xlim(0, x_means[-3]+x_err[-3])\n",
    "plt.xlabel('Particle Momentum', size=15)\n",
    "plt.ylabel('Efficiency per track', size=15)\n",
    "plt.xticks(size=15)\n",
    "plt.yticks(size=15)\n",
    "plt.show()"
   ]
  },
  {
   "cell_type": "code",
   "execution_count": null,
   "metadata": {
    "collapsed": true
   },
   "outputs": [],
   "source": []
  }
 ],
 "metadata": {
  "kernelspec": {
   "display_name": "Python [Root]",
   "language": "python",
   "name": "Python [Root]"
  },
  "language_info": {
   "codemirror_mode": {
    "name": "ipython",
    "version": 2
   },
   "file_extension": ".py",
   "mimetype": "text/x-python",
   "name": "python",
   "nbconvert_exporter": "python",
   "pygments_lexer": "ipython2",
   "version": "2.7.12"
  }
 },
 "nbformat": 4,
 "nbformat_minor": 0
}
