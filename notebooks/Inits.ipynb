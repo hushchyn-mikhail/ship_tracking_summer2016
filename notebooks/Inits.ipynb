{
 "cells": [
  {
   "cell_type": "code",
   "execution_count": 6,
   "metadata": {
    "collapsed": true
   },
   "outputs": [],
   "source": [
    "%matplotlib inline\n",
    "from scipy.optimize import basinhopping\n",
    "from scipy.optimize import minimize\n",
    "import matplotlib.pyplot as plt\n",
    "import numpy, pandas"
   ]
  },
  {
   "cell_type": "code",
   "execution_count": 7,
   "metadata": {
    "collapsed": false
   },
   "outputs": [
    {
     "data": {
      "text/html": [
       "<div>\n",
       "<table border=\"1\" class=\"dataframe\">\n",
       "  <thead>\n",
       "    <tr style=\"text-align: right;\">\n",
       "      <th></th>\n",
       "      <th>EventID</th>\n",
       "      <th>TrackID</th>\n",
       "      <th>PdgCode</th>\n",
       "      <th>DetectorID</th>\n",
       "      <th>StatNb</th>\n",
       "      <th>ViewNb</th>\n",
       "      <th>PlaneNb</th>\n",
       "      <th>LayerNb</th>\n",
       "      <th>StrawNb</th>\n",
       "      <th>Px</th>\n",
       "      <th>...</th>\n",
       "      <th>dist2Wire</th>\n",
       "      <th>Wx1</th>\n",
       "      <th>Wx2</th>\n",
       "      <th>Wy1</th>\n",
       "      <th>Wy2</th>\n",
       "      <th>Wz</th>\n",
       "      <th>Wz1</th>\n",
       "      <th>Wz2</th>\n",
       "      <th>Label</th>\n",
       "      <th>IsStereo</th>\n",
       "    </tr>\n",
       "  </thead>\n",
       "  <tbody>\n",
       "    <tr>\n",
       "      <th>79</th>\n",
       "      <td>2</td>\n",
       "      <td>2</td>\n",
       "      <td>-211</td>\n",
       "      <td>10002284</td>\n",
       "      <td>1</td>\n",
       "      <td>0</td>\n",
       "      <td>0</td>\n",
       "      <td>0</td>\n",
       "      <td>284</td>\n",
       "      <td>0.866347</td>\n",
       "      <td>...</td>\n",
       "      <td>0.042245</td>\n",
       "      <td>-250.000000</td>\n",
       "      <td>250.000000</td>\n",
       "      <td>0.910845</td>\n",
       "      <td>0.910845</td>\n",
       "      <td>2581.1500</td>\n",
       "      <td>2581.1500</td>\n",
       "      <td>2581.1500</td>\n",
       "      <td>0</td>\n",
       "      <td>0</td>\n",
       "    </tr>\n",
       "    <tr>\n",
       "      <th>111</th>\n",
       "      <td>2</td>\n",
       "      <td>2</td>\n",
       "      <td>-211</td>\n",
       "      <td>42012282</td>\n",
       "      <td>4</td>\n",
       "      <td>2</td>\n",
       "      <td>0</td>\n",
       "      <td>1</td>\n",
       "      <td>282</td>\n",
       "      <td>0.867240</td>\n",
       "      <td>...</td>\n",
       "      <td>0.478996</td>\n",
       "      <td>-248.589486</td>\n",
       "      <td>249.507863</td>\n",
       "      <td>27.516483</td>\n",
       "      <td>-16.061389</td>\n",
       "      <td>3542.3793</td>\n",
       "      <td>3542.3793</td>\n",
       "      <td>3542.3793</td>\n",
       "      <td>0</td>\n",
       "      <td>1</td>\n",
       "    </tr>\n",
       "    <tr>\n",
       "      <th>81</th>\n",
       "      <td>2</td>\n",
       "      <td>2</td>\n",
       "      <td>-211</td>\n",
       "      <td>11012288</td>\n",
       "      <td>1</td>\n",
       "      <td>1</td>\n",
       "      <td>0</td>\n",
       "      <td>1</td>\n",
       "      <td>288</td>\n",
       "      <td>0.866625</td>\n",
       "      <td>...</td>\n",
       "      <td>0.310706</td>\n",
       "      <td>-248.587499</td>\n",
       "      <td>249.509850</td>\n",
       "      <td>-26.749494</td>\n",
       "      <td>16.828378</td>\n",
       "      <td>2592.3793</td>\n",
       "      <td>2592.3793</td>\n",
       "      <td>2592.3793</td>\n",
       "      <td>0</td>\n",
       "      <td>1</td>\n",
       "    </tr>\n",
       "    <tr>\n",
       "      <th>43</th>\n",
       "      <td>2</td>\n",
       "      <td>3</td>\n",
       "      <td>-13</td>\n",
       "      <td>11012286</td>\n",
       "      <td>1</td>\n",
       "      <td>1</td>\n",
       "      <td>0</td>\n",
       "      <td>1</td>\n",
       "      <td>286</td>\n",
       "      <td>-0.239448</td>\n",
       "      <td>...</td>\n",
       "      <td>0.117904</td>\n",
       "      <td>-248.894287</td>\n",
       "      <td>249.203062</td>\n",
       "      <td>-23.435691</td>\n",
       "      <td>20.142180</td>\n",
       "      <td>2592.3793</td>\n",
       "      <td>2592.3793</td>\n",
       "      <td>2592.3793</td>\n",
       "      <td>1</td>\n",
       "      <td>1</td>\n",
       "    </tr>\n",
       "    <tr>\n",
       "      <th>88</th>\n",
       "      <td>2</td>\n",
       "      <td>2</td>\n",
       "      <td>-211</td>\n",
       "      <td>20012285</td>\n",
       "      <td>2</td>\n",
       "      <td>0</td>\n",
       "      <td>0</td>\n",
       "      <td>1</td>\n",
       "      <td>285</td>\n",
       "      <td>0.866401</td>\n",
       "      <td>...</td>\n",
       "      <td>0.437575</td>\n",
       "      <td>-250.000000</td>\n",
       "      <td>250.000000</td>\n",
       "      <td>0.426175</td>\n",
       "      <td>0.426175</td>\n",
       "      <td>2782.2500</td>\n",
       "      <td>2782.2500</td>\n",
       "      <td>2782.2500</td>\n",
       "      <td>0</td>\n",
       "      <td>0</td>\n",
       "    </tr>\n",
       "  </tbody>\n",
       "</table>\n",
       "<p>5 rows × 25 columns</p>\n",
       "</div>"
      ],
      "text/plain": [
       "     EventID  TrackID  PdgCode  DetectorID  StatNb  ViewNb  PlaneNb  LayerNb  \\\n",
       "79         2        2     -211    10002284       1       0        0        0   \n",
       "111        2        2     -211    42012282       4       2        0        1   \n",
       "81         2        2     -211    11012288       1       1        0        1   \n",
       "43         2        3      -13    11012286       1       1        0        1   \n",
       "88         2        2     -211    20012285       2       0        0        1   \n",
       "\n",
       "     StrawNb        Px    ...     dist2Wire         Wx1         Wx2  \\\n",
       "79       284  0.866347    ...      0.042245 -250.000000  250.000000   \n",
       "111      282  0.867240    ...      0.478996 -248.589486  249.507863   \n",
       "81       288  0.866625    ...      0.310706 -248.587499  249.509850   \n",
       "43       286 -0.239448    ...      0.117904 -248.894287  249.203062   \n",
       "88       285  0.866401    ...      0.437575 -250.000000  250.000000   \n",
       "\n",
       "           Wy1        Wy2         Wz        Wz1        Wz2  Label  IsStereo  \n",
       "79    0.910845   0.910845  2581.1500  2581.1500  2581.1500      0         0  \n",
       "111  27.516483 -16.061389  3542.3793  3542.3793  3542.3793      0         1  \n",
       "81  -26.749494  16.828378  2592.3793  2592.3793  2592.3793      0         1  \n",
       "43  -23.435691  20.142180  2592.3793  2592.3793  2592.3793      1         1  \n",
       "88    0.426175   0.426175  2782.2500  2782.2500  2782.2500      0         0  \n",
       "\n",
       "[5 rows x 25 columns]"
      ]
     },
     "execution_count": 7,
     "metadata": {},
     "output_type": "execute_result"
    }
   ],
   "source": [
    "data_0 = pandas.read_csv('../data/hits.csv', index_col=0)\n",
    "\n",
    "data_1 = data_0.copy()\n",
    "data_1['Wy1'] = data_0['Wy1'].values + data_0.dist2Wire.values\n",
    "data_1['Wy2'] = data_0['Wy2'].values + data_0.dist2Wire.values\n",
    "data_2 = data_0.copy()\n",
    "data_2['Wy1'] = data_0['Wy1'].values - data_0.dist2Wire.values\n",
    "data_2['Wy2'] = data_0['Wy2'].values - data_0.dist2Wire.values\n",
    "data = pandas.concat([data_1, data_2], axis=0)\n",
    "\n",
    "data['IsStereo'] = (data.ViewNb.values == 1) * 1. + (data.ViewNb.values == 2) * 1.\n",
    "\n",
    "data.head()"
   ]
  },
  {
   "cell_type": "code",
   "execution_count": 8,
   "metadata": {
    "collapsed": false
   },
   "outputs": [],
   "source": [
    "event_id = 2\n",
    "event = data[data.EventID==event_id]\n",
    "hits = event[(event.StatNb <= 2)]"
   ]
  },
  {
   "cell_type": "code",
   "execution_count": 9,
   "metadata": {
    "collapsed": true
   },
   "outputs": [],
   "source": [
    "\n",
    "def R(params, hits):\n",
    "    \n",
    "    y1 = hits.Wy1.values\n",
    "    y2 = hits.Wy2.values\n",
    "\n",
    "    x1 = hits.Wx1.values\n",
    "    x2 = hits.Wx2.values\n",
    "\n",
    "    zz = hits.Wz.values\n",
    "\n",
    "    A = (y1 - y2)\n",
    "    B = (x2 - x1)\n",
    "    C = (x1*y2 - x2*y1)\n",
    "    \n",
    "    a = params[0] + zz * params[1]\n",
    "    b = params[2] + zz * params[3]\n",
    "    \n",
    "    r = (A*a + B*b + C) / (numpy.sqrt(A**2 + B**2))\n",
    "    \n",
    "    retina = numpy.exp(-(r/sigma)**2).sum()\n",
    "    \n",
    "    return -retina\n",
    "\n",
    "def R_grad(params, hits):\n",
    "    \n",
    "    y1 = hits.Wy1.values\n",
    "    y2 = hits.Wy2.values\n",
    "\n",
    "    x1 = hits.Wx1.values\n",
    "    x2 = hits.Wx2.values\n",
    "\n",
    "    zz = hits.Wz.values\n",
    "\n",
    "    A = (y1 - y2)\n",
    "    B = (x2 - x1)\n",
    "    C = (x1*y2 - x2*y1)\n",
    "    \n",
    "    a = params[0] + zz * params[1]\n",
    "    b = params[2] + zz * params[3]\n",
    "    \n",
    "    r = (A*a + B*b + C) / (numpy.sqrt(A**2 + B**2))\n",
    "    retina = numpy.exp(-(r/sigma)**2)\n",
    "    \n",
    "    \n",
    "    \n",
    "    g1 = - 2 * r / sigma**2 * retina * A / (numpy.sqrt(A**2 + B**2))\n",
    "    g2 = - 2 * r / sigma**2 * retina * A * zz / (numpy.sqrt(A**2 + B**2))\n",
    "    g3 = - 2 * r / sigma**2 * retina * B / (numpy.sqrt(A**2 + B**2))\n",
    "    g4 = - 2 * r / sigma**2 * retina * B * zz / (numpy.sqrt(A**2 + B**2))\n",
    "    \n",
    "    return -numpy.array([g1.sum(), g2.sum(), g3.sum(), g4.sum()])"
   ]
  },
  {
   "cell_type": "markdown",
   "metadata": {},
   "source": [
    "### Find tube crosses"
   ]
  },
  {
   "cell_type": "code",
   "execution_count": 10,
   "metadata": {
    "collapsed": false
   },
   "outputs": [],
   "source": [
    "xs = []\n",
    "ys = []\n",
    "zs = []\n",
    "\n",
    "for i in range(len(hits)):\n",
    "    \n",
    "    for j in range(len(hits)):\n",
    "        \n",
    "        one = hits.iloc[i]\n",
    "        two = hits.iloc[j]\n",
    "        \n",
    "        if one.StatNb != two.StatNb or numpy.abs(one.ViewNb - two.ViewNb) != 1 or j <= i:\n",
    "            continue\n",
    "            \n",
    "        y1 = one.Wy1\n",
    "        y2 = one.Wy2\n",
    "\n",
    "        x1 = one.Wx1\n",
    "        x2 = one.Wx2\n",
    "\n",
    "        z12 = one.Wz\n",
    "        \n",
    "        k12 = (y2 - y1) / (x2 - x1)\n",
    "        b12 = y1 - k12 * x1\n",
    "        \n",
    "        \n",
    "        y3 = two.Wy1\n",
    "        y4 = two.Wy2\n",
    "\n",
    "        x3 = two.Wx1\n",
    "        x4 = two.Wx2\n",
    "\n",
    "        z34 = two.Wz\n",
    "        \n",
    "        k34 = (y4 - y3) / (x4 - x3)\n",
    "        b34 = y3 - k34 * x3\n",
    "        \n",
    "        x = (b12 - b34) / (k34 - k12)\n",
    "        y = k12 * x + b12\n",
    "        z = 0.5 * (z12 + z34)\n",
    "        \n",
    "        if numpy.abs(x) <= 300:\n",
    "        \n",
    "            xs.append(x)\n",
    "            ys.append(y)\n",
    "            zs.append(z)"
   ]
  },
  {
   "cell_type": "markdown",
   "metadata": {},
   "source": [
    "### Calculate the retina values for each pairs of the crosses."
   ]
  },
  {
   "cell_type": "code",
   "execution_count": 34,
   "metadata": {
    "collapsed": false
   },
   "outputs": [
    {
     "name": "stdout",
     "output_type": "stream",
     "text": [
      "CPU times: user 154 ms, sys: 4.11 ms, total: 158 ms\n",
      "Wall time: 158 ms\n"
     ]
    }
   ],
   "source": [
    "%%time\n",
    "\n",
    "rs = []\n",
    "sigma = 1.\n",
    "ps = []\n",
    "\n",
    "for i in range(len(xs)):\n",
    "    \n",
    "    for j in range(len(xs)):\n",
    "        \n",
    "        if j <= i or zs[i] == zs[j] or numpy.random.rand() >= 0.01:\n",
    "            continue\n",
    "            \n",
    "        x1 = xs[i]\n",
    "        x2 = xs[j]\n",
    "        \n",
    "        y1 = ys[i]\n",
    "        y2 = ys[j]\n",
    "        \n",
    "        z1 = zs[i]\n",
    "        z2 = zs[j]\n",
    "        \n",
    "        k_y = (y2 - y1) / (z2 - z1)\n",
    "        b_y = y1 - k_y * z1\n",
    "        \n",
    "        k_stereo = (x2 - x1) / (z2 - z1)\n",
    "        b_stereo = x1 - k_stereo * z1\n",
    "        \n",
    "        params = [b_stereo, k_stereo, b_y, k_y]\n",
    "        r = - R(params, hits)\n",
    "        \n",
    "        #res = minimize(R, params, method='BFGS', jac=R_grad, options={'gtol': 1e-6, 'disp': False})\n",
    "        \n",
    "        #r = - R(res.x)\n",
    "\n",
    "        rs.append(r)\n",
    "        #ps.append(res.x)\n",
    "        ps.append(params)\n",
    "        \n",
    "rs = numpy.array(rs)\n",
    "ps = numpy.array(ps)"
   ]
  },
  {
   "cell_type": "code",
   "execution_count": 35,
   "metadata": {
    "collapsed": false
   },
   "outputs": [
    {
     "data": {
      "image/png": "[encoded data removed]",
      "text/plain": [
       "<matplotlib.figure.Figure at 0x1149f8e50>"
      ]
     },
     "metadata": {},
     "output_type": "display_data"
    }
   ],
   "source": [
    "plt.hist(rs, bins=100)\n",
    "plt.show()"
   ]
  },
  {
   "cell_type": "code",
   "execution_count": 36,
   "metadata": {
    "collapsed": false
   },
   "outputs": [
    {
     "data": {
      "image/png": "[encoded data removed]",
      "text/plain": [
       "<matplotlib.figure.Figure at 0x1173acf90>"
      ]
     },
     "metadata": {},
     "output_type": "display_data"
    }
   ],
   "source": [
    "for p in ps[rs == rs.max()]:\n",
    "    plt.plot(hits.Z.values, hits.Z.values * p[3] + p[2], color='0', alpha=1)\n",
    "    \n",
    "plt.scatter(hits.Z.values, hits.Y.values, color='r')\n",
    "plt.ylim(hits.Y.values.min()-5., hits.Y.values.max()+5.)\n",
    "plt.show()"
   ]
  },
  {
   "cell_type": "code",
   "execution_count": 37,
   "metadata": {
    "collapsed": false
   },
   "outputs": [
    {
     "data": {
      "image/png": "[encoded data removed]",
      "text/plain": [
       "<matplotlib.figure.Figure at 0x11b0ea8d0>"
      ]
     },
     "metadata": {},
     "output_type": "display_data"
    }
   ],
   "source": [
    "for p in ps[rs == rs.max()]:\n",
    "    plt.plot(hits.Z.values, hits.Z.values * p[1] + p[0], color='0', alpha=1)\n",
    "    \n",
    "plt.scatter(hits.Z.values, hits.X.values, color='r')\n",
    "plt.ylim(hits.X.values.min()-5., hits.X.values.max()+5.)\n",
    "plt.show()"
   ]
  },
  {
   "cell_type": "markdown",
   "metadata": {
    "collapsed": true
   },
   "source": [
    "# With Optimization"
   ]
  },
  {
   "cell_type": "code",
   "execution_count": 46,
   "metadata": {
    "collapsed": false
   },
   "outputs": [
    {
     "name": "stdout",
     "output_type": "stream",
     "text": [
      "CPU times: user 21.4 s, sys: 275 ms, total: 21.7 s\n",
      "Wall time: 22.8 s\n"
     ]
    }
   ],
   "source": [
    "%%time\n",
    "\n",
    "rs = []\n",
    "sigma = 1.\n",
    "ps = []\n",
    "\n",
    "for i in range(len(xs)):\n",
    "    \n",
    "    for j in range(len(xs)):\n",
    "        \n",
    "        if j <= i or zs[i] == zs[j] or numpy.random.rand() >= 0.01:\n",
    "            continue\n",
    "            \n",
    "        x1 = xs[i]\n",
    "        x2 = xs[j]\n",
    "        \n",
    "        y1 = ys[i]\n",
    "        y2 = ys[j]\n",
    "        \n",
    "        z1 = zs[i]\n",
    "        z2 = zs[j]\n",
    "        \n",
    "        k_y = (y2 - y1) / (z2 - z1)\n",
    "        b_y = y1 - k_y * z1\n",
    "        \n",
    "        k_stereo = (x2 - x1) / (z2 - z1)\n",
    "        b_stereo = x1 - k_stereo * z1\n",
    "        \n",
    "        params = [b_stereo, k_stereo, b_y, k_y]\n",
    "        #r = - R(params, hits)\n",
    "        \n",
    "        res = minimize(R, params, args=(hits), method='BFGS', jac=R_grad, options={'gtol': 1e-6, 'disp': False})\n",
    "        \n",
    "        r = - R(res.x, hits)\n",
    "\n",
    "        rs.append(r)\n",
    "        ps.append(res.x)\n",
    "        #ps.append(params)\n",
    "        \n",
    "rs = numpy.array(rs)\n",
    "ps = numpy.array(ps)"
   ]
  },
  {
   "cell_type": "code",
   "execution_count": 47,
   "metadata": {
    "collapsed": false
   },
   "outputs": [
    {
     "data": {
      "image/png": "[encoded data removed]",
      "text/plain": [
       "<matplotlib.figure.Figure at 0x1152b9e10>"
      ]
     },
     "metadata": {},
     "output_type": "display_data"
    }
   ],
   "source": [
    "plt.hist(rs, bins=100)\n",
    "plt.show()"
   ]
  },
  {
   "cell_type": "code",
   "execution_count": 48,
   "metadata": {
    "collapsed": false
   },
   "outputs": [
    {
     "data": {
      "image/png": "[encoded data removed]",
      "text/plain": [
       "<matplotlib.figure.Figure at 0x1175eb550>"
      ]
     },
     "metadata": {},
     "output_type": "display_data"
    }
   ],
   "source": [
    "for p in ps[rs == rs.max()]:\n",
    "    plt.plot(hits.Z.values, hits.Z.values * p[3] + p[2], color='0', alpha=1)\n",
    "    \n",
    "plt.scatter(hits.Z.values, hits.Y.values, color='r')\n",
    "plt.ylim(hits.Y.values.min()-5., hits.Y.values.max()+5.)\n",
    "plt.show()"
   ]
  },
  {
   "cell_type": "code",
   "execution_count": 49,
   "metadata": {
    "collapsed": false
   },
   "outputs": [
    {
     "data": {
      "image/png": "[encoded data removed]",
      "text/plain": [
       "<matplotlib.figure.Figure at 0x1110cfd90>"
      ]
     },
     "metadata": {},
     "output_type": "display_data"
    }
   ],
   "source": [
    "for p in ps[rs == rs.max()]:\n",
    "    plt.plot(hits.Z.values, hits.Z.values * p[1] + p[0], color='0', alpha=1)\n",
    "    \n",
    "plt.scatter(hits.Z.values, hits.X.values, color='r')\n",
    "plt.ylim(hits.X.values.min()-5., hits.X.values.max()+5.)\n",
    "plt.show()"
   ]
  },
  {
   "cell_type": "code",
   "execution_count": null,
   "metadata": {
    "collapsed": true
   },
   "outputs": [],
   "source": []
  }
 ],
 "metadata": {
  "kernelspec": {
   "display_name": "Python 2",
   "language": "python",
   "name": "python2"
  },
  "language_info": {
   "codemirror_mode": {
    "name": "ipython",
    "version": 2
   },
   "file_extension": ".py",
   "mimetype": "text/x-python",
   "name": "python",
   "nbconvert_exporter": "python",
   "pygments_lexer": "ipython2",
   "version": "2.7.11"
  }
 },
 "nbformat": 4,
 "nbformat_minor": 0
}
