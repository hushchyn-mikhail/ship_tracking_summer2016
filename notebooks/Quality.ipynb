{
 "cells": [
  {
   "cell_type": "code",
   "execution_count": 1,
   "metadata": {
    "collapsed": false
   },
   "outputs": [
    {
     "name": "stderr",
     "output_type": "stream",
     "text": [
      "/home/oalenkin/anaconda2/lib/python2.7/site-packages/matplotlib/font_manager.py:273: UserWarning: Matplotlib is building the font cache using fc-list. This may take a moment.\n",
      "  warnings.warn('Matplotlib is building the font cache using fc-list. This may take a moment.')\n"
     ]
    }
   ],
   "source": [
    "%matplotlib inline\n",
    "import numpy\n",
    "import pandas\n",
    "import theano\n",
    "import theano.tensor as T\n",
    "import matplotlib.pyplot as plt\n",
    "\n",
    "\n",
    "import os, sys\n",
    "sys.path.append('../code')\n",
    "\n",
    "from retina2 import *"
   ]
  },
  {
   "cell_type": "code",
   "execution_count": 2,
   "metadata": {
    "collapsed": true
   },
   "outputs": [],
   "source": [
    "import warnings\n",
    "warnings.filterwarnings('ignore')"
   ]
  },
  {
   "cell_type": "code",
   "execution_count": 3,
   "metadata": {
    "collapsed": true
   },
   "outputs": [],
   "source": [
    "data = pd.read_csv('../data/hits.csv', index_col=0)"
   ]
  },
  {
   "cell_type": "markdown",
   "metadata": {},
   "source": [
    "# Stations 1&2"
   ]
  },
  {
   "cell_type": "code",
   "execution_count": 4,
   "metadata": {
    "collapsed": false
   },
   "outputs": [],
   "source": [
    "from combination import Combinator\n",
    "from metrics import TracksReconstractionMetrics, CombinatorQuality"
   ]
  },
  {
   "cell_type": "code",
   "execution_count": 5,
   "metadata": {
    "collapsed": true
   },
   "outputs": [],
   "source": [
    "array_of_initial_parameters = []\n",
    "#for i in np.linspace(-50, 50, 5):\n",
    "#    for j in np.linspace(-100, 100, 5):\n",
    "#        array_of_initial_parameters.append([j, 0, i, 0])\n",
    "#array_of_initial_parameters = np.array(array_of_initial_parameters)\n",
    "\n",
    "for j in np.linspace(-100, 100, 5):\n",
    "    array_of_initial_parameters.append([j, 0, 0, 0])\n",
    "array_of_initial_parameters = np.array(array_of_initial_parameters)\n",
    "\n",
    "#array_of_initial_parameters = np.array([[0, 0, 0, 0]])"
   ]
  },
  {
   "cell_type": "code",
   "execution_count": 15,
   "metadata": {
    "collapsed": false
   },
   "outputs": [
    {
     "name": "stdout",
     "output_type": "stream",
     "text": [
      "2\n",
      "7\n",
      "10\n",
      "15\n",
      "23\n",
      "27\n",
      "39\n",
      "48\n",
      "50\n",
      "53\n",
      "62\n",
      "74\n",
      "84\n",
      "85\n",
      "86\n",
      "94\n",
      "97\n",
      "102\n",
      "106\n",
      "122\n",
      "126\n",
      "129\n",
      "131\n",
      "134\n",
      "135\n",
      "143\n",
      "157\n",
      "159\n",
      "161\n",
      "174\n",
      "179\n",
      "184\n",
      "189\n",
      "211\n",
      "215\n",
      "221\n",
      "249\n",
      "257\n",
      "270\n",
      "276\n",
      "289\n",
      "292\n",
      "294\n",
      "299\n",
      "331\n",
      "341\n",
      "365\n",
      "369\n",
      "370\n",
      "377\n",
      "381\n",
      "406\n",
      "407\n",
      "408\n",
      "412\n",
      "417\n",
      "426\n",
      "445\n",
      "449\n",
      "484\n",
      "490\n",
      "500\n",
      "502\n",
      "513\n",
      "515\n",
      "516\n",
      "518\n",
      "549\n",
      "558\n",
      "565\n",
      "606\n",
      "608\n",
      "612\n",
      "614\n",
      "622\n",
      "625\n",
      "642\n",
      "644\n",
      "648\n",
      "651\n",
      "654\n",
      "670\n",
      "686\n",
      "692\n",
      "694\n",
      "707\n",
      "712\n",
      "715\n",
      "719\n",
      "735\n",
      "736\n",
      "747\n",
      "759\n",
      "767\n",
      "768\n",
      "777\n",
      "781\n",
      "782\n",
      "785\n",
      "791\n",
      "793\n",
      "806\n",
      "809\n",
      "813\n",
      "824\n",
      "828\n",
      "839\n",
      "842\n",
      "845\n",
      "856\n",
      "876\n",
      "878\n",
      "883\n",
      "885\n",
      "893\n",
      "897\n",
      "901\n",
      "916\n",
      "917\n",
      "923\n",
      "927\n",
      "928\n",
      "933\n",
      "953\n",
      "957\n",
      "968\n",
      "970\n",
      "978\n",
      "1006\n",
      "1008\n",
      "1009\n",
      "1011\n",
      "1021\n",
      "1023\n",
      "1036\n",
      "1042\n",
      "1057\n",
      "1066\n",
      "1086\n",
      "1090\n",
      "1111\n",
      "1116\n",
      "1129\n",
      "1136\n",
      "1138\n",
      "1142\n",
      "1153\n",
      "1156\n",
      "1157\n",
      "1180\n",
      "1190\n",
      "1200\n",
      "1204\n",
      "1213\n",
      "1222\n",
      "1224\n",
      "1232\n",
      "1235\n",
      "1238\n",
      "1242\n",
      "1251\n",
      "1256\n",
      "1262\n",
      "1265\n",
      "1279\n",
      "1280\n",
      "1283\n",
      "1284\n",
      "1286\n",
      "1293\n",
      "1299\n",
      "1311\n",
      "1322\n",
      "1329\n",
      "1339\n",
      "1340\n",
      "1349\n",
      "1352\n",
      "1359\n",
      "1360\n",
      "1369\n",
      "1375\n",
      "1377\n",
      "1380\n",
      "1381\n",
      "1383\n",
      "1385\n",
      "1410\n",
      "1423\n",
      "1427\n",
      "1439\n",
      "1440\n",
      "1441\n",
      "1451\n",
      "1458\n",
      "1474\n",
      "1494\n",
      "1528\n",
      "1533\n",
      "1541\n",
      "1546\n",
      "1548\n",
      "1550\n",
      "1557\n",
      "1598\n",
      "1600\n",
      "1606\n",
      "1607\n",
      "1617\n",
      "1629\n",
      "1637\n",
      "1655\n",
      "1668\n",
      "1675\n",
      "1677\n",
      "1683\n",
      "1691\n",
      "1693\n",
      "1704\n",
      "1717\n",
      "1722\n",
      "1724\n",
      "1747\n",
      "1756\n",
      "1758\n",
      "1761\n",
      "1762\n",
      "1769\n",
      "1775\n",
      "1785\n",
      "1793\n",
      "1821\n",
      "1829\n",
      "1838\n",
      "1843\n",
      "1848\n",
      "1851\n",
      "1854\n",
      "1861\n",
      "1893\n",
      "1895\n",
      "1898\n",
      "1900\n",
      "1901\n",
      "1911\n",
      "1912\n",
      "1934\n",
      "1967\n",
      "1979\n",
      "1987\n",
      "2002\n",
      "2007\n",
      "2014\n",
      "2029\n",
      "2035\n",
      "2037\n",
      "2040\n",
      "2046\n",
      "2059\n",
      "2077\n",
      "2095\n",
      "2099\n",
      "2105\n",
      "2113\n",
      "2127\n",
      "2132\n",
      "2138\n",
      "2142\n",
      "2145\n",
      "2157\n",
      "2164\n",
      "2203\n",
      "2204\n",
      "2208\n",
      "2224\n",
      "2232\n",
      "2239\n",
      "2244\n",
      "2246\n",
      "2260\n",
      "2263\n",
      "2264\n",
      "2266\n",
      "2271\n",
      "2277\n",
      "2280\n",
      "2282\n",
      "2290\n",
      "2295\n",
      "2302\n",
      "2305\n",
      "2314\n",
      "2317\n",
      "2338\n",
      "2348\n",
      "2350\n",
      "2356\n",
      "2360\n",
      "2378\n",
      "2390\n",
      "2392\n",
      "2405\n",
      "2416\n",
      "2423\n",
      "2429\n",
      "2439\n",
      "2441\n",
      "2443\n",
      "2446\n",
      "2455\n",
      "2467\n",
      "2470\n",
      "2471\n",
      "2482\n",
      "2488\n",
      "2493\n",
      "2503\n",
      "2518\n",
      "2526\n",
      "2555\n",
      "2559\n",
      "2562\n",
      "2577\n",
      "2579\n",
      "2583\n",
      "2587\n",
      "2588\n",
      "2590\n",
      "2591\n",
      "2605\n",
      "2620\n",
      "2623\n",
      "2624\n",
      "2628\n",
      "2632\n",
      "2641\n",
      "2645\n",
      "2650\n",
      "2651\n",
      "2657\n",
      "2659\n",
      "2678\n",
      "2685\n",
      "2689\n",
      "2692\n",
      "2698\n",
      "2700\n",
      "2743\n",
      "2744\n",
      "2757\n",
      "2762\n",
      "2766\n",
      "2769\n",
      "2771\n",
      "2779\n",
      "2829\n",
      "2833\n",
      "2836\n",
      "2842\n",
      "2866\n",
      "2872\n",
      "2874\n",
      "2885\n",
      "2888\n",
      "2897\n",
      "2900\n",
      "2902\n",
      "2903\n",
      "2911\n",
      "2912\n",
      "2916\n",
      "2936\n",
      "2938\n",
      "2944\n",
      "2952\n",
      "2953\n",
      "2955\n",
      "2970\n",
      "2999\n",
      "3008\n",
      "3010\n",
      "3012\n",
      "3014\n",
      "3019\n",
      "3022\n",
      "3031\n",
      "3034\n",
      "3035\n",
      "3046\n",
      "3057\n",
      "3060\n",
      "3067\n",
      "3069\n",
      "3081\n",
      "3084\n"
     ]
    },
    {
     "ename": "UnboundLocalError",
     "evalue": "local variable 'track2' referenced before assignment",
     "output_type": "error",
     "traceback": [
      "\u001b[1;31m---------------------------------------------------------------------------\u001b[0m",
      "\u001b[1;31mUnboundLocalError\u001b[0m                         Traceback (most recent call last)",
      "\u001b[1;32m<ipython-input-15-ae92949691ec>\u001b[0m in \u001b[0;36m<module>\u001b[1;34m()\u001b[0m\n\u001b[1;32m----> 1\u001b[1;33m \u001b[0mget_ipython\u001b[0m\u001b[1;33m(\u001b[0m\u001b[1;33m)\u001b[0m\u001b[1;33m.\u001b[0m\u001b[0mrun_cell_magic\u001b[0m\u001b[1;33m(\u001b[0m\u001b[1;34mu'time'\u001b[0m\u001b[1;33m,\u001b[0m \u001b[1;34mu''\u001b[0m\u001b[1;33m,\u001b[0m \u001b[1;34mu\"event_ids = numpy.unique(data.EventID.values)\\n\\ntracks12 = {}\\ntracks34 = {}\\ntracks_comb = {}\\n\\ntracks_metrics_before_all = pandas.DataFrame(columns=['EventID', 'AvgEff', 'RecoEff', 'GhostRate', 'CloneRate'])\\n\\ntracks_metrics_after_all = pandas.DataFrame(columns=['EventID', 'AvgEff', 'RecoEff', 'GhostRate', 'CloneRate'])\\n\\ncombinations = pandas.DataFrame(columns=['EventID', 'TrackIDBefore', 'TrackIDAfter', 'Charge', 'PInv'])\\ncombinations_true = pandas.DataFrame(columns=['EventID', 'IsTrueCombination', 'PdgCode', 'Charge', \\n                                                 'IsTrueCharge', 'TruePInv', 'PErr', 'Label'])\\n\\ncombinations_quality = pandas.DataFrame(columns=['EventID', 'RecoEff', 'GhostRate', 'CloneRate', 'NCombined'])\\n\\npass_stages = pandas.DataFrame(columns=['RecoEvents', 'Y12', 'Y34', 'Combination', 'Matching'])\\n\\nfor event_id in event_ids:\\n    \\n    # Get an event\\n    event = data[data.EventID == event_id]\\n    event12 = event[(event.StatNb == 1) + (event.StatNb == 2)]\\n    event34 = event[(event.StatNb == 3) + (event.StatNb == 4)]\\n    \\n    # Tracks reconstruction before the magnet\\n    tr2d12 = RetinaTrackReconstruction(sigma_from=100., sigma_to=1, eps=0.05, y_scale=1.)\\n    tr2d12.fit(event12[['Wx1', 'Wy1', 'Wz', 'Wx2', 'Wy2', 'Wz']].values, array_of_initial_parameters)\\n    \\n    labels12 = tr2d12.labels_\\n    tracks_params12 = tr2d12.tracks_params_\\n    \\n    # Quality metrics of the reconstruction\\n    trm12 = TracksReconstractionMetrics(0.2)\\n    trm12.fit(labels12, event12)\\n    \\n    tracks_metrics_before_all.loc[len(tracks_metrics_before_all)] = [event_id, \\n                                                                 trm12.avg_efficiency_, \\n                                                                 trm12.recognition_efficiency_, \\n                                                                 trm12.ghost_rate_, \\n                                                                 trm12.clone_rate_]\\n\\n    # Tracks reconstruction after the magnet\\n    tr2d34 = RetinaTrackReconstruction(sigma_from=100., sigma_to=1, eps=0.05, y_scale=1.)\\n    tr2d34.fit(event34[['Wx1', 'Wy1', 'Wz', 'Wx2', 'Wy2', 'Wz']].values, array_of_initial_parameters)\\n    \\n    labels34 = tr2d34.labels_\\n    tracks_params34 = tr2d34.tracks_params_\\n    \\n    # Quality metrics of the reconstruction\\n    trm34 = TracksReconstractionMetrics(0.2)\\n    trm34.fit(labels34, event34)\\n    \\n    tracks_metrics_after_all.loc[len(tracks_metrics_after_all)] = [event_id, \\n                                                                 trm34.avg_efficiency_, \\n                                                                 trm34.recognition_efficiency_, \\n                                                                 trm34.ghost_rate_, \\n                                                                 trm34.clone_rate_]\\n    \\n    \\n    # Save the reconstructed tracks\\n    tracks12[event_id] = {'labels':labels12, 'params':tracks_params12}\\n    tracks34[event_id] = {'labels':labels34, 'params':tracks_params34}\\n    \\n    \\n    # Combination of the tracks before and after the magnet\\n    comb = Combinator()\\n    comb.combine(tracks_params12, tracks_params34)\\n    \\n    for num in range(len(comb.tracks_combinations_)):\\n        \\n        combinations.loc[len(combinations)] = [event_id, \\n                                               comb.tracks_combinations_[num][0], \\n                                               comb.tracks_combinations_[num][1], \\n                                               comb.charges_[num], \\n                                               comb.inv_momentums_[num]]\\n    \\n    # Quality of the combination\\n    cq = CombinatorQuality()\\n    cq.fit(labels12, labels34, comb.tracks_combinations_, comb.charges_, comb.inv_momentums_, event12, event34)\\n    \\n    combinations_quality.loc[len(combinations_quality)] = [event_id, \\n                                                           cq.reco_eff_, \\n                                                           cq.ghost_rate_, \\n                                                           cq.clone_rate_, \\n                                                           cq.n_combined_]\\n    \\n    for num in range(len(cq.check_tracks_combinations_)):\\n        \\n        combinations_true.loc[len(combinations_quality)] = [event_id, \\n                                                               cq.check_tracks_combinations_[num], \\n                                                               cq.true_pdg_codes_[num], \\n                                                               cq.true_charges_[num],\\n                                                               cq.check_charges_[num], \\n                                                               cq.true_inv_momentums_[num], \\n                                                               cq.momentums_err_[num],\\n                                                               cq.labels_[num]]\\n\\n    \\n    \\n    # Overall quality\\n    pass_stages.loc[len(pass_stages)] = numpy.array([1, \\n                                                     (trm12.recognition_efficiency_ == 1)*1,\\n                                                     (trm34.recognition_efficiency_ == 1)*1, \\n                                                     (cq.n_combined_ >= 2)*1,\\n                                                     (cq.reco_eff_ == 1)*1]).cumprod()\\n    \\n    # Save the tracks combination\\n    tracks_comb[event_id] = {'tracks_combinations':comb.tracks_combinations_, \\n                             'charges':comb.charges_, \\n                             'inv_momentums':comb.inv_momentums_}\\n    \\n    print event_id\"\u001b[0m\u001b[1;33m)\u001b[0m\u001b[1;33m\u001b[0m\u001b[0m\n\u001b[0m",
      "\u001b[1;32m/home/oalenkin/anaconda2/lib/python2.7/site-packages/IPython/core/interactiveshell.pyc\u001b[0m in \u001b[0;36mrun_cell_magic\u001b[1;34m(self, magic_name, line, cell)\u001b[0m\n\u001b[0;32m   2118\u001b[0m             \u001b[0mmagic_arg_s\u001b[0m \u001b[1;33m=\u001b[0m \u001b[0mself\u001b[0m\u001b[1;33m.\u001b[0m\u001b[0mvar_expand\u001b[0m\u001b[1;33m(\u001b[0m\u001b[0mline\u001b[0m\u001b[1;33m,\u001b[0m \u001b[0mstack_depth\u001b[0m\u001b[1;33m)\u001b[0m\u001b[1;33m\u001b[0m\u001b[0m\n\u001b[0;32m   2119\u001b[0m             \u001b[1;32mwith\u001b[0m \u001b[0mself\u001b[0m\u001b[1;33m.\u001b[0m\u001b[0mbuiltin_trap\u001b[0m\u001b[1;33m:\u001b[0m\u001b[1;33m\u001b[0m\u001b[0m\n\u001b[1;32m-> 2120\u001b[1;33m                 \u001b[0mresult\u001b[0m \u001b[1;33m=\u001b[0m \u001b[0mfn\u001b[0m\u001b[1;33m(\u001b[0m\u001b[0mmagic_arg_s\u001b[0m\u001b[1;33m,\u001b[0m \u001b[0mcell\u001b[0m\u001b[1;33m)\u001b[0m\u001b[1;33m\u001b[0m\u001b[0m\n\u001b[0m\u001b[0;32m   2121\u001b[0m             \u001b[1;32mreturn\u001b[0m \u001b[0mresult\u001b[0m\u001b[1;33m\u001b[0m\u001b[0m\n\u001b[0;32m   2122\u001b[0m \u001b[1;33m\u001b[0m\u001b[0m\n",
      "\u001b[1;32m<decorator-gen-60>\u001b[0m in \u001b[0;36mtime\u001b[1;34m(self, line, cell, local_ns)\u001b[0m\n",
      "\u001b[1;32m/home/oalenkin/anaconda2/lib/python2.7/site-packages/IPython/core/magic.pyc\u001b[0m in \u001b[0;36m<lambda>\u001b[1;34m(f, *a, **k)\u001b[0m\n\u001b[0;32m    191\u001b[0m     \u001b[1;31m# but it's overkill for just that one bit of state.\u001b[0m\u001b[1;33m\u001b[0m\u001b[1;33m\u001b[0m\u001b[0m\n\u001b[0;32m    192\u001b[0m     \u001b[1;32mdef\u001b[0m \u001b[0mmagic_deco\u001b[0m\u001b[1;33m(\u001b[0m\u001b[0marg\u001b[0m\u001b[1;33m)\u001b[0m\u001b[1;33m:\u001b[0m\u001b[1;33m\u001b[0m\u001b[0m\n\u001b[1;32m--> 193\u001b[1;33m         \u001b[0mcall\u001b[0m \u001b[1;33m=\u001b[0m \u001b[1;32mlambda\u001b[0m \u001b[0mf\u001b[0m\u001b[1;33m,\u001b[0m \u001b[1;33m*\u001b[0m\u001b[0ma\u001b[0m\u001b[1;33m,\u001b[0m \u001b[1;33m**\u001b[0m\u001b[0mk\u001b[0m\u001b[1;33m:\u001b[0m \u001b[0mf\u001b[0m\u001b[1;33m(\u001b[0m\u001b[1;33m*\u001b[0m\u001b[0ma\u001b[0m\u001b[1;33m,\u001b[0m \u001b[1;33m**\u001b[0m\u001b[0mk\u001b[0m\u001b[1;33m)\u001b[0m\u001b[1;33m\u001b[0m\u001b[0m\n\u001b[0m\u001b[0;32m    194\u001b[0m \u001b[1;33m\u001b[0m\u001b[0m\n\u001b[0;32m    195\u001b[0m         \u001b[1;32mif\u001b[0m \u001b[0mcallable\u001b[0m\u001b[1;33m(\u001b[0m\u001b[0marg\u001b[0m\u001b[1;33m)\u001b[0m\u001b[1;33m:\u001b[0m\u001b[1;33m\u001b[0m\u001b[0m\n",
      "\u001b[1;32m/home/oalenkin/anaconda2/lib/python2.7/site-packages/IPython/core/magics/execution.pyc\u001b[0m in \u001b[0;36mtime\u001b[1;34m(self, line, cell, local_ns)\u001b[0m\n\u001b[0;32m   1175\u001b[0m         \u001b[1;32melse\u001b[0m\u001b[1;33m:\u001b[0m\u001b[1;33m\u001b[0m\u001b[0m\n\u001b[0;32m   1176\u001b[0m             \u001b[0mst\u001b[0m \u001b[1;33m=\u001b[0m \u001b[0mclock2\u001b[0m\u001b[1;33m(\u001b[0m\u001b[1;33m)\u001b[0m\u001b[1;33m\u001b[0m\u001b[0m\n\u001b[1;32m-> 1177\u001b[1;33m             \u001b[1;32mexec\u001b[0m\u001b[1;33m(\u001b[0m\u001b[0mcode\u001b[0m\u001b[1;33m,\u001b[0m \u001b[0mglob\u001b[0m\u001b[1;33m,\u001b[0m \u001b[0mlocal_ns\u001b[0m\u001b[1;33m)\u001b[0m\u001b[1;33m\u001b[0m\u001b[0m\n\u001b[0m\u001b[0;32m   1178\u001b[0m             \u001b[0mend\u001b[0m \u001b[1;33m=\u001b[0m \u001b[0mclock2\u001b[0m\u001b[1;33m(\u001b[0m\u001b[1;33m)\u001b[0m\u001b[1;33m\u001b[0m\u001b[0m\n\u001b[0;32m   1179\u001b[0m             \u001b[0mout\u001b[0m \u001b[1;33m=\u001b[0m \u001b[0mNone\u001b[0m\u001b[1;33m\u001b[0m\u001b[0m\n",
      "\u001b[1;32m<timed exec>\u001b[0m in \u001b[0;36m<module>\u001b[1;34m()\u001b[0m\n",
      "\u001b[1;32m/home/oalenkin/Yandex/ship_tracking_summer2016/code/retina2.py\u001b[0m in \u001b[0;36mfit\u001b[1;34m(self, ends_of_strawtubes, initial_dots)\u001b[0m\n\u001b[0;32m    481\u001b[0m \u001b[1;33m\u001b[0m\u001b[0m\n\u001b[0;32m    482\u001b[0m         \u001b[0mself\u001b[0m\u001b[1;33m.\u001b[0m\u001b[0mlabels_\u001b[0m \u001b[1;33m=\u001b[0m \u001b[0mlabels\u001b[0m\u001b[1;33m\u001b[0m\u001b[0m\n\u001b[1;32m--> 483\u001b[1;33m         \u001b[0mself\u001b[0m\u001b[1;33m.\u001b[0m\u001b[0mtracks_params_\u001b[0m \u001b[1;33m=\u001b[0m \u001b[0mnp\u001b[0m\u001b[1;33m.\u001b[0m\u001b[0marray\u001b[0m\u001b[1;33m(\u001b[0m\u001b[1;33m[\u001b[0m\u001b[1;33m[\u001b[0m\u001b[1;33m[\u001b[0m\u001b[0mtrack1\u001b[0m\u001b[1;33m[\u001b[0m\u001b[1;36m3\u001b[0m\u001b[1;33m]\u001b[0m\u001b[1;33m,\u001b[0m \u001b[0mtrack1\u001b[0m\u001b[1;33m[\u001b[0m\u001b[1;36m2\u001b[0m\u001b[1;33m]\u001b[0m\u001b[1;33m]\u001b[0m\u001b[1;33m,\u001b[0m \u001b[1;33m[\u001b[0m\u001b[0mtrack1\u001b[0m\u001b[1;33m[\u001b[0m\u001b[1;36m1\u001b[0m\u001b[1;33m]\u001b[0m\u001b[1;33m,\u001b[0m \u001b[0mtrack1\u001b[0m\u001b[1;33m[\u001b[0m\u001b[1;36m0\u001b[0m\u001b[1;33m]\u001b[0m\u001b[1;33m]\u001b[0m\u001b[1;33m]\u001b[0m\u001b[1;33m,\u001b[0m \u001b[1;33m[\u001b[0m\u001b[1;33m[\u001b[0m\u001b[0mtrack2\u001b[0m\u001b[1;33m[\u001b[0m\u001b[1;36m3\u001b[0m\u001b[1;33m]\u001b[0m\u001b[1;33m,\u001b[0m \u001b[0mtrack2\u001b[0m\u001b[1;33m[\u001b[0m\u001b[1;36m2\u001b[0m\u001b[1;33m]\u001b[0m\u001b[1;33m]\u001b[0m\u001b[1;33m,\u001b[0m\u001b[1;33m[\u001b[0m\u001b[0mtrack2\u001b[0m\u001b[1;33m[\u001b[0m\u001b[1;36m1\u001b[0m\u001b[1;33m]\u001b[0m\u001b[1;33m,\u001b[0m \u001b[0mtrack2\u001b[0m\u001b[1;33m[\u001b[0m\u001b[1;36m0\u001b[0m\u001b[1;33m]\u001b[0m\u001b[1;33m]\u001b[0m\u001b[1;33m]\u001b[0m\u001b[1;33m]\u001b[0m\u001b[1;33m)\u001b[0m\u001b[1;33m\u001b[0m\u001b[0m\n\u001b[0m",
      "\u001b[1;31mUnboundLocalError\u001b[0m: local variable 'track2' referenced before assignment"
     ]
    }
   ],
   "source": [
    "%%time\n",
    "event_ids = numpy.unique(data.EventID.values)\n",
    "\n",
    "tracks12 = {}\n",
    "tracks34 = {}\n",
    "tracks_comb = {}\n",
    "\n",
    "tracks_metrics_before_all = pandas.DataFrame(columns=['EventID', 'AvgEff', 'RecoEff', 'GhostRate', 'CloneRate'])\n",
    "\n",
    "tracks_metrics_after_all = pandas.DataFrame(columns=['EventID', 'AvgEff', 'RecoEff', 'GhostRate', 'CloneRate'])\n",
    "\n",
    "combinations = pandas.DataFrame(columns=['EventID', 'TrackIDBefore', 'TrackIDAfter', 'Charge', 'PInv'])\n",
    "combinations_true = pandas.DataFrame(columns=['EventID', 'IsTrueCombination', 'PdgCode', 'Charge', \n",
    "                                                 'IsTrueCharge', 'TruePInv', 'PErr', 'Label'])\n",
    "\n",
    "combinations_quality = pandas.DataFrame(columns=['EventID', 'RecoEff', 'GhostRate', 'CloneRate', 'NCombined'])\n",
    "\n",
    "pass_stages = pandas.DataFrame(columns=['RecoEvents', 'Y12', 'Y34', 'Combination', 'Matching'])\n",
    "\n",
    "for event_id in event_ids:\n",
    "    \n",
    "    # Get an event\n",
    "    event = data[data.EventID == event_id]\n",
    "    event12 = event[(event.StatNb == 1) + (event.StatNb == 2)]\n",
    "    event34 = event[(event.StatNb == 3) + (event.StatNb == 4)]\n",
    "    \n",
    "    # Tracks reconstruction before the magnet\n",
    "    tr2d12 = RetinaTrackReconstruction(sigma_from=100., sigma_to=1, eps=0.05, y_scale=1.)\n",
    "    tr2d12.fit(event12[['Wx1', 'Wy1', 'Wz', 'Wx2', 'Wy2', 'Wz']].values, array_of_initial_parameters)\n",
    "    \n",
    "    labels12 = tr2d12.labels_\n",
    "    tracks_params12 = tr2d12.tracks_params_\n",
    "    \n",
    "    # Quality metrics of the reconstruction\n",
    "    trm12 = TracksReconstractionMetrics(0.2)\n",
    "    trm12.fit(labels12, event12)\n",
    "    \n",
    "    tracks_metrics_before_all.loc[len(tracks_metrics_before_all)] = [event_id, \n",
    "                                                                 trm12.avg_efficiency_, \n",
    "                                                                 trm12.recognition_efficiency_, \n",
    "                                                                 trm12.ghost_rate_, \n",
    "                                                                 trm12.clone_rate_]\n",
    "\n",
    "    # Tracks reconstruction after the magnet\n",
    "    tr2d34 = RetinaTrackReconstruction(sigma_from=100., sigma_to=1, eps=0.05, y_scale=1.)\n",
    "    tr2d34.fit(event34[['Wx1', 'Wy1', 'Wz', 'Wx2', 'Wy2', 'Wz']].values, array_of_initial_parameters)\n",
    "    \n",
    "    labels34 = tr2d34.labels_\n",
    "    tracks_params34 = tr2d34.tracks_params_\n",
    "    \n",
    "    # Quality metrics of the reconstruction\n",
    "    trm34 = TracksReconstractionMetrics(0.2)\n",
    "    trm34.fit(labels34, event34)\n",
    "    \n",
    "    tracks_metrics_after_all.loc[len(tracks_metrics_after_all)] = [event_id, \n",
    "                                                                 trm34.avg_efficiency_, \n",
    "                                                                 trm34.recognition_efficiency_, \n",
    "                                                                 trm34.ghost_rate_, \n",
    "                                                                 trm34.clone_rate_]\n",
    "    \n",
    "    \n",
    "    # Save the reconstructed tracks\n",
    "    tracks12[event_id] = {'labels':labels12, 'params':tracks_params12}\n",
    "    tracks34[event_id] = {'labels':labels34, 'params':tracks_params34}\n",
    "    \n",
    "    \n",
    "    # Combination of the tracks before and after the magnet\n",
    "    comb = Combinator()\n",
    "    comb.combine(tracks_params12, tracks_params34)\n",
    "    \n",
    "    for num in range(len(comb.tracks_combinations_)):\n",
    "        \n",
    "        combinations.loc[len(combinations)] = [event_id, \n",
    "                                               comb.tracks_combinations_[num][0], \n",
    "                                               comb.tracks_combinations_[num][1], \n",
    "                                               comb.charges_[num], \n",
    "                                               comb.inv_momentums_[num]]\n",
    "    \n",
    "    # Quality of the combination\n",
    "    cq = CombinatorQuality()\n",
    "    cq.fit(labels12, labels34, comb.tracks_combinations_, comb.charges_, comb.inv_momentums_, event12, event34)\n",
    "    \n",
    "    combinations_quality.loc[len(combinations_quality)] = [event_id, \n",
    "                                                           cq.reco_eff_, \n",
    "                                                           cq.ghost_rate_, \n",
    "                                                           cq.clone_rate_, \n",
    "                                                           cq.n_combined_]\n",
    "    \n",
    "    for num in range(len(cq.check_tracks_combinations_)):\n",
    "        \n",
    "        combinations_true.loc[len(combinations_quality)] = [event_id, \n",
    "                                                               cq.check_tracks_combinations_[num], \n",
    "                                                               cq.true_pdg_codes_[num], \n",
    "                                                               cq.true_charges_[num],\n",
    "                                                               cq.check_charges_[num], \n",
    "                                                               cq.true_inv_momentums_[num], \n",
    "                                                               cq.momentums_err_[num],\n",
    "                                                               cq.labels_[num]]\n",
    "\n",
    "    \n",
    "    \n",
    "    # Overall quality\n",
    "    pass_stages.loc[len(pass_stages)] = numpy.array([1, \n",
    "                                                     (trm12.recognition_efficiency_ == 1)*1,\n",
    "                                                     (trm34.recognition_efficiency_ == 1)*1, \n",
    "                                                     (cq.n_combined_ >= 2)*1,\n",
    "                                                     (cq.reco_eff_ == 1)*1]).cumprod()\n",
    "    \n",
    "    # Save the tracks combination\n",
    "    tracks_comb[event_id] = {'tracks_combinations':comb.tracks_combinations_, \n",
    "                             'charges':comb.charges_, \n",
    "                             'inv_momentums':comb.inv_momentums_}\n",
    "    \n",
    "    print event_id"
   ]
  },
  {
   "cell_type": "markdown",
   "metadata": {},
   "source": [
    "# Quality"
   ]
  },
  {
   "cell_type": "markdown",
   "metadata": {},
   "source": [
    "# Stations 1&2"
   ]
  },
  {
   "cell_type": "markdown",
   "metadata": {},
   "source": [
    "## track efficiency"
   ]
  },
  {
   "cell_type": "code",
   "execution_count": 16,
   "metadata": {
    "collapsed": false
   },
   "outputs": [
    {
     "data": {
      "image/png": "[encoded data removed]",
      "text/plain": [
       "<matplotlib.figure.Figure at 0x7fa6f4d563d0>"
      ]
     },
     "metadata": {},
     "output_type": "display_data"
    }
   ],
   "source": [
    "plt.figure(figsize=(16, 9))\n",
    "\n",
    "eff_station = tracks_metrics_before_all.AvgEff.values\n",
    "plt.title('Mean = % f' % numpy.array(eff_station).mean())\n",
    "plt.hist(eff_station, label='station 1&2')\n",
    "plt.xlabel('Track efficiency')\n",
    "plt.xlim(0, 1)\n",
    "plt.legend(loc='best')\n",
    "\n",
    "plt.show()"
   ]
  },
  {
   "cell_type": "markdown",
   "metadata": {},
   "source": [
    "## reconstruction efficiency"
   ]
  },
  {
   "cell_type": "code",
   "execution_count": 17,
   "metadata": {
    "collapsed": false
   },
   "outputs": [
    {
     "data": {
      "image/png": "[encoded data removed]",
      "text/plain": [
       "<matplotlib.figure.Figure at 0x7fa6f4d40c10>"
      ]
     },
     "metadata": {},
     "output_type": "display_data"
    }
   ],
   "source": [
    "plt.figure(figsize=(16, 9))\n",
    "\n",
    "eff_station = tracks_metrics_before_all.RecoEff.values\n",
    "plt.title('Mean = % f' % numpy.array(eff_station).mean())\n",
    "plt.hist(eff_station, label='station 1&2')\n",
    "plt.xlabel('Reconstruction efficiency')\n",
    "plt.xlim(0, 1)\n",
    "plt.legend(loc='best')\n",
    "\n",
    "plt.show()"
   ]
  },
  {
   "cell_type": "markdown",
   "metadata": {},
   "source": [
    "# Stations 3&4"
   ]
  },
  {
   "cell_type": "markdown",
   "metadata": {},
   "source": [
    "## track efficiency"
   ]
  },
  {
   "cell_type": "code",
   "execution_count": 18,
   "metadata": {
    "collapsed": false
   },
   "outputs": [
    {
     "data": {
      "image/png": "[encoded data removed]",
      "text/plain": [
       "<matplotlib.figure.Figure at 0x7fa6f4594ad0>"
      ]
     },
     "metadata": {},
     "output_type": "display_data"
    }
   ],
   "source": [
    "plt.figure(figsize=(16, 9))\n",
    "\n",
    "eff_station = tracks_metrics_after_all.AvgEff.values\n",
    "plt.title('Mean = % f' % numpy.array(eff_station).mean())\n",
    "plt.hist(eff_station, label='station 3&4')\n",
    "plt.xlabel('Track efficiency')\n",
    "plt.xlim(0, 1)\n",
    "plt.legend(loc='best')\n",
    "\n",
    "plt.show()"
   ]
  },
  {
   "cell_type": "markdown",
   "metadata": {},
   "source": [
    "## reconstruction efficiency"
   ]
  },
  {
   "cell_type": "code",
   "execution_count": 19,
   "metadata": {
    "collapsed": false
   },
   "outputs": [
    {
     "data": {
      "image/png": "[encoded data removed]",
      "text/plain": [
       "<matplotlib.figure.Figure at 0x7fa6f4503850>"
      ]
     },
     "metadata": {},
     "output_type": "display_data"
    }
   ],
   "source": [
    "plt.figure(figsize=(16, 9))\n",
    "\n",
    "eff_station = tracks_metrics_after_all.RecoEff.values\n",
    "plt.title('Mean = % f' % numpy.array(eff_station).mean())\n",
    "plt.hist(eff_station, label='station 3&4')\n",
    "plt.xlabel('Reconstruction efficiency')\n",
    "plt.xlim(0, 1)\n",
    "plt.legend(loc='best')\n",
    "\n",
    "plt.show()"
   ]
  },
  {
   "cell_type": "markdown",
   "metadata": {},
   "source": [
    "# Combination"
   ]
  },
  {
   "cell_type": "code",
   "execution_count": 20,
   "metadata": {
    "collapsed": false
   },
   "outputs": [
    {
     "data": {
      "image/png": "[encoded data removed]",
      "text/plain": [
       "<matplotlib.figure.Figure at 0x7fa6f43c3d90>"
      ]
     },
     "metadata": {},
     "output_type": "display_data"
    }
   ],
   "source": [
    "plt.figure(figsize=(15, 3))\n",
    "\n",
    "plt.subplot(1,3,1)\n",
    "eff = combinations_quality.RecoEff.values\n",
    "plt.title('Mean = % f' % numpy.array(eff).mean())\n",
    "plt.hist(eff, label='RecoEff')\n",
    "plt.xlabel('Reconstruction efficiency')\n",
    "plt.xlim(0, 1)\n",
    "plt.legend(loc='best')\n",
    "\n",
    "plt.subplot(1,3,2)\n",
    "ghost = combinations_quality.GhostRate.values\n",
    "plt.title('Mean = % f' % numpy.array(ghost).mean())\n",
    "plt.hist(ghost, label='GhostRate')\n",
    "plt.xlabel('Ghost rate')\n",
    "plt.xlim(0, 1)\n",
    "plt.legend(loc='best')\n",
    "\n",
    "plt.subplot(1,3,3)\n",
    "n_combined = combinations_quality.NCombined.values\n",
    "plt.title('Mean = % f' % numpy.array(n_combined).mean())\n",
    "plt.hist(n_combined, label='NCombined')\n",
    "plt.xlabel('N combined tracks per event')\n",
    "plt.xlim(0, 2)\n",
    "plt.legend(loc='best')\n",
    "\n",
    "plt.show()"
   ]
  },
  {
   "cell_type": "markdown",
   "metadata": {},
   "source": [
    "# Ratio of the events passes through the stages"
   ]
  },
  {
   "cell_type": "code",
   "execution_count": 21,
   "metadata": {
    "collapsed": false
   },
   "outputs": [
    {
     "name": "stdout",
     "output_type": "stream",
     "text": [
      "46.3291139241\n"
     ]
    },
    {
     "data": {
      "image/png": "[encoded data removed]",
      "text/plain": [
       "<matplotlib.figure.Figure at 0x7fa6f4d6da10>"
      ]
     },
     "metadata": {},
     "output_type": "display_data"
    }
   ],
   "source": [
    "bar_labels = ['Reconstructible tracks', \n",
    "              'Station 1&2',\n",
    "              'Station 3&4',\n",
    "              'Combined stations 1&2/3&4',\n",
    "              'Matched']\n",
    "\n",
    "bar_values = pass_stages.sum(axis=0).values\n",
    "bar_values = bar_values / bar_values[0] * 100\n",
    "\n",
    "\n",
    "print bar_values[-1]\n",
    "\n",
    "x = range(len(bar_labels))\n",
    "plt.figure(figsize=(10,5))\n",
    "plt.bar(x, bar_values, width=1., color='gold', align='center')\n",
    "plt.xticks(x, bar_labels, rotation=90, size=15)\n",
    "plt.yticks(size=15)\n",
    "plt.xlim(-0.5, 8.5)\n",
    "plt.ylim(bar_values[-1], bar_values[0])\n",
    "plt.ylabel('Ratio of events, %', size=15)\n",
    "plt.show()"
   ]
  },
  {
   "cell_type": "markdown",
   "metadata": {},
   "source": [
    "# Momentum"
   ]
  },
  {
   "cell_type": "code",
   "execution_count": 22,
   "metadata": {
    "collapsed": true
   },
   "outputs": [],
   "source": [
    "passed_events = event_ids[pass_stages.Matching.values == 1]\n",
    "p_err = combinations_true[combinations_true.EventID.isin(passed_events)].PErr.values"
   ]
  },
  {
   "cell_type": "code",
   "execution_count": 23,
   "metadata": {
    "collapsed": false
   },
   "outputs": [
    {
     "data": {
      "image/png": "[encoded data removed]",
      "text/plain": [
       "<matplotlib.figure.Figure at 0x7fa6f5475710>"
      ]
     },
     "metadata": {},
     "output_type": "display_data"
    }
   ],
   "source": [
    "plt.figure(figsize=(7, 5))\n",
    "plt.hist(p_err, bins=50)\n",
    "\n",
    "plt.title('(p - p-true)/p_true', size=15)\n",
    "plt.xticks(numpy.arange(-0.5, 0.51, 0.1), size=12)\n",
    "plt.yticks(size=12)\n",
    "plt.xlim(-0.5, 0.5)\n",
    "plt.show()"
   ]
  },
  {
   "cell_type": "code",
   "execution_count": null,
   "metadata": {
    "collapsed": true
   },
   "outputs": [],
   "source": []
  }
 ],
 "metadata": {
  "kernelspec": {
   "display_name": "Python [Root]",
   "language": "python",
   "name": "Python [Root]"
  },
  "language_info": {
   "codemirror_mode": {
    "name": "ipython",
    "version": 2
   },
   "file_extension": ".py",
   "mimetype": "text/x-python",
   "name": "python",
   "nbconvert_exporter": "python",
   "pygments_lexer": "ipython2",
   "version": "2.7.11"
  }
 },
 "nbformat": 4,
 "nbformat_minor": 0
}
