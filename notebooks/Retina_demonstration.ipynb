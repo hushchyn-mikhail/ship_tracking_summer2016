{
 "cells": [
  {
   "cell_type": "code",
   "execution_count": 1,
   "metadata": {
    "collapsed": false
   },
   "outputs": [
    {
     "name": "stderr",
     "output_type": "stream",
     "text": [
      "/home/oalenkin/anaconda2/lib/python2.7/site-packages/matplotlib/font_manager.py:273: UserWarning: Matplotlib is building the font cache using fc-list. This may take a moment.\n",
      "  warnings.warn('Matplotlib is building the font cache using fc-list. This may take a moment.')\n"
     ]
    }
   ],
   "source": [
    "%matplotlib inline\n",
    "import numpy as np\n",
    "import pandas as pd\n",
    "import theano\n",
    "import theano.tensor as T\n",
    "import matplotlib.pyplot as plt\n",
    "\n",
    "import os, sys\n",
    "sys.path.append('../code')"
   ]
  },
  {
   "cell_type": "markdown",
   "metadata": {},
   "source": [
    "### data reading"
   ]
  },
  {
   "cell_type": "code",
   "execution_count": 2,
   "metadata": {
    "collapsed": false
   },
   "outputs": [],
   "source": [
    "data = pd.read_csv('../data/hits.csv', index_col=0)"
   ]
  },
  {
   "cell_type": "markdown",
   "metadata": {},
   "source": [
    "# Stage 2.1"
   ]
  },
  {
   "cell_type": "markdown",
   "metadata": {},
   "source": [
    "### test function distance_between_skew_lines()"
   ]
  },
  {
   "cell_type": "code",
   "execution_count": 3,
   "metadata": {
    "collapsed": false
   },
   "outputs": [],
   "source": [
    "from retina import distance_between_skew_lines, points2vec"
   ]
  },
  {
   "cell_type": "code",
   "execution_count": 4,
   "metadata": {
    "collapsed": false
   },
   "outputs": [],
   "source": [
    "real = []\n",
    "exp = []\n",
    "for event_i in set(data.EventID.values):\n",
    "    event = data[data.EventID==event_i]\n",
    "    track1 = event[(event.TrackID==2)&(event.StatNb<3)]\n",
    "    if len(track1)>1:\n",
    "        x0=track1.X.values[0]\n",
    "        x1=track1.X.values[1]\n",
    "        y0=track1.Y.values[0]\n",
    "        y1=track1.Y.values[1]\n",
    "        z0=track1.Z.values[0]\n",
    "        z1=track1.Z.values[1]\n",
    "    else:\n",
    "        continue\n",
    "    track_point, track_direction = points2vec(np.array([x0, y0, z0, x1, y1, z1]))\n",
    "    for i in range(len(track1)):\n",
    "        params = track1[['Wx1', 'Wy1', 'Wz', 'Wx2', 'Wy2', 'Wz']].values[i]\n",
    "        tube_point, tube_direction = points2vec(params)\n",
    "        exp.append(distance_between_skew_lines(track_point, track_direction, tube_point, tube_direction))\n",
    "        real.append(track1.dist2Wire.values[i])\n",
    "        \n",
    "    track2 = event[(event.TrackID==3)&(event.StatNb<3)]\n",
    "    if len(track2)>1:\n",
    "        x0=track2.X.values[0]\n",
    "        x1=track2.X.values[1]\n",
    "        y0=track2.Y.values[0]\n",
    "        y1=track2.Y.values[1]\n",
    "        z0=track2.Z.values[0]\n",
    "        z1=track2.Z.values[1]\n",
    "    else:\n",
    "        continue\n",
    "    track_point, track_direction = points2vec(np.array([x0, y0, z0, x1, y1, z1]))\n",
    "    for i in range(len(track2)):\n",
    "        params = track2[['Wx1', 'Wy1', 'Wz', 'Wx2', 'Wy2', 'Wz']].values[i]\n",
    "        tube_point, tube_direction = points2vec(params)\n",
    "        exp.append(distance_between_skew_lines(track_point, track_direction, tube_point, tube_direction))\n",
    "        real.append(track2.dist2Wire.values[i])"
   ]
  },
  {
   "cell_type": "code",
   "execution_count": 5,
   "metadata": {
    "collapsed": false
   },
   "outputs": [
    {
     "data": {
      "image/png": "[encoded data removed]",
      "text/plain": [
       "<matplotlib.figure.Figure at 0x7f0e8d85a250>"
      ]
     },
     "metadata": {},
     "output_type": "display_data"
    }
   ],
   "source": [
    "plt.figure(figsize=(16,9))\n",
    "plt.title(\"Absolute error of distance between lines\", fontsize=20, fontweight='bold')\n",
    "hist_arr = plt.hist(np.array(real)-np.array(exp), bins=50)"
   ]
  },
  {
   "cell_type": "markdown",
   "metadata": {},
   "source": [
    "### how to use artifitial_retina_response()"
   ]
  },
  {
   "cell_type": "code",
   "execution_count": 6,
   "metadata": {
    "collapsed": true
   },
   "outputs": [],
   "source": [
    "from retina import artifitial_retina_response"
   ]
  },
  {
   "cell_type": "code",
   "execution_count": 7,
   "metadata": {
    "collapsed": true
   },
   "outputs": [],
   "source": [
    "A0 = []\n",
    "A = []\n",
    "for i in range(len(track1.index)):\n",
    "    a0, a = points2vec(track1[['Wx1', 'Wy1', 'Wz', 'Wx2', 'Wy2', 'Wz']].values[i])\n",
    "    A0.append(a0)\n",
    "    A.append(a)\n",
    "A0 = np.array(A0)\n",
    "A = np.array(A)"
   ]
  },
  {
   "cell_type": "code",
   "execution_count": 8,
   "metadata": {
    "collapsed": false
   },
   "outputs": [
    {
     "data": {
      "text/plain": [
       "array(1.179616670647115e-05)"
      ]
     },
     "execution_count": 8,
     "metadata": {},
     "output_type": "execute_result"
    }
   ],
   "source": [
    "artifitial_retina_response(track_point, track_direction, A0, A, 20)"
   ]
  },
  {
   "cell_type": "markdown",
   "metadata": {},
   "source": [
    "# Stage 2.2"
   ]
  },
  {
   "cell_type": "markdown",
   "metadata": {},
   "source": [
    "# 2D projections"
   ]
  },
  {
   "cell_type": "code",
   "execution_count": 9,
   "metadata": {
    "collapsed": false
   },
   "outputs": [],
   "source": [
    "from retina import plot_artifitial_retina_response"
   ]
  },
  {
   "cell_type": "markdown",
   "metadata": {},
   "source": [
    "function converting line from $~~~\\frac{x-x_{0}}{l} = \\frac{y-y_{0}}{m} = z~~~$ to $~~~\\vec{a_{0}}+\\overrightarrow{a}$"
   ]
  },
  {
   "cell_type": "code",
   "execution_count": 10,
   "metadata": {
    "collapsed": true
   },
   "outputs": [],
   "source": [
    "event = data[data.EventID==2]\n",
    "event_before_magnet = event[event.StatNb<3]"
   ]
  },
  {
   "cell_type": "code",
   "execution_count": 11,
   "metadata": {
    "collapsed": true
   },
   "outputs": [],
   "source": [
    "size = 30\n",
    "ms = np.linspace(-0.2, 0.2, size)\n",
    "y0s = np.linspace(-100, 1000, size)\n",
    "ls = np.linspace(-0.1, 0.1, size)\n",
    "x0s = np.linspace(-100, 500, size)"
   ]
  },
  {
   "cell_type": "code",
   "execution_count": null,
   "metadata": {
    "collapsed": false
   },
   "outputs": [],
   "source": [
    "pojections = plot_artifitial_retina_response(event_before_magnet, x0s, ls, y0s, ms)"
   ]
  },
  {
   "cell_type": "code",
   "execution_count": null,
   "metadata": {
    "collapsed": true
   },
   "outputs": [],
   "source": []
  }
 ],
 "metadata": {
  "kernelspec": {
   "display_name": "Python [Root]",
   "language": "python",
   "name": "Python [Root]"
  },
  "language_info": {
   "codemirror_mode": {
    "name": "ipython",
    "version": 2
   },
   "file_extension": ".py",
   "mimetype": "text/x-python",
   "name": "python",
   "nbconvert_exporter": "python",
   "pygments_lexer": "ipython2",
   "version": "2.7.11"
  }
 },
 "nbformat": 4,
 "nbformat_minor": 0
}
