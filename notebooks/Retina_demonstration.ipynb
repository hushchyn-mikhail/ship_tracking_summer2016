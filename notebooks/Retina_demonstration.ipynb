{
 "cells": [
  {
   "cell_type": "code",
   "execution_count": 3,
   "metadata": {
    "collapsed": true
   },
   "outputs": [],
   "source": [
    "import numpy as np\n",
    "import pandas as pd\n",
    "import theano\n",
    "import theano.tensor as T"
   ]
  },
  {
   "cell_type": "markdown",
   "metadata": {},
   "source": [
    "# Data Reading"
   ]
  },
  {
   "cell_type": "code",
   "execution_count": 4,
   "metadata": {
    "collapsed": false
   },
   "outputs": [
    {
     "data": {
      "text/html": [
       "<div>\n",
       "<table border=\"1\" class=\"dataframe\">\n",
       "  <thead>\n",
       "    <tr style=\"text-align: right;\">\n",
       "      <th></th>\n",
       "      <th>EventID</th>\n",
       "      <th>TrackID</th>\n",
       "      <th>PdgCode</th>\n",
       "      <th>DetectorID</th>\n",
       "      <th>StatNb</th>\n",
       "      <th>ViewNb</th>\n",
       "      <th>PlaneNb</th>\n",
       "      <th>LayerNb</th>\n",
       "      <th>StrawNb</th>\n",
       "      <th>Px</th>\n",
       "      <th>...</th>\n",
       "      <th>Z</th>\n",
       "      <th>dist2Wire</th>\n",
       "      <th>Wx1</th>\n",
       "      <th>Wx2</th>\n",
       "      <th>Wy1</th>\n",
       "      <th>Wy2</th>\n",
       "      <th>Wz</th>\n",
       "      <th>Wz1</th>\n",
       "      <th>Wz2</th>\n",
       "      <th>Label</th>\n",
       "    </tr>\n",
       "  </thead>\n",
       "  <tbody>\n",
       "    <tr>\n",
       "      <th>79</th>\n",
       "      <td>2</td>\n",
       "      <td>2.0</td>\n",
       "      <td>-211.0</td>\n",
       "      <td>10002284.0</td>\n",
       "      <td>1</td>\n",
       "      <td>0</td>\n",
       "      <td>0</td>\n",
       "      <td>0</td>\n",
       "      <td>284</td>\n",
       "      <td>0.866347</td>\n",
       "      <td>...</td>\n",
       "      <td>2581.149902</td>\n",
       "      <td>0.042245</td>\n",
       "      <td>-250.000000</td>\n",
       "      <td>250.000000</td>\n",
       "      <td>0.868600</td>\n",
       "      <td>0.868600</td>\n",
       "      <td>2581.1500</td>\n",
       "      <td>2581.1500</td>\n",
       "      <td>2581.1500</td>\n",
       "      <td>0.0</td>\n",
       "    </tr>\n",
       "    <tr>\n",
       "      <th>111</th>\n",
       "      <td>2</td>\n",
       "      <td>2.0</td>\n",
       "      <td>-211.0</td>\n",
       "      <td>42012282.0</td>\n",
       "      <td>4</td>\n",
       "      <td>2</td>\n",
       "      <td>0</td>\n",
       "      <td>1</td>\n",
       "      <td>282</td>\n",
       "      <td>0.867240</td>\n",
       "      <td>...</td>\n",
       "      <td>3542.247803</td>\n",
       "      <td>0.478996</td>\n",
       "      <td>-248.589486</td>\n",
       "      <td>249.507863</td>\n",
       "      <td>27.037487</td>\n",
       "      <td>-16.540384</td>\n",
       "      <td>3542.3793</td>\n",
       "      <td>3542.3793</td>\n",
       "      <td>3542.3793</td>\n",
       "      <td>0.0</td>\n",
       "    </tr>\n",
       "    <tr>\n",
       "      <th>81</th>\n",
       "      <td>2</td>\n",
       "      <td>2.0</td>\n",
       "      <td>-211.0</td>\n",
       "      <td>11012288.0</td>\n",
       "      <td>1</td>\n",
       "      <td>1</td>\n",
       "      <td>0</td>\n",
       "      <td>1</td>\n",
       "      <td>288</td>\n",
       "      <td>0.866625</td>\n",
       "      <td>...</td>\n",
       "      <td>2592.249023</td>\n",
       "      <td>0.310706</td>\n",
       "      <td>-248.587499</td>\n",
       "      <td>249.509850</td>\n",
       "      <td>-27.060200</td>\n",
       "      <td>16.517671</td>\n",
       "      <td>2592.3793</td>\n",
       "      <td>2592.3793</td>\n",
       "      <td>2592.3793</td>\n",
       "      <td>0.0</td>\n",
       "    </tr>\n",
       "    <tr>\n",
       "      <th>43</th>\n",
       "      <td>2</td>\n",
       "      <td>3.0</td>\n",
       "      <td>-13.0</td>\n",
       "      <td>11012286.0</td>\n",
       "      <td>1</td>\n",
       "      <td>1</td>\n",
       "      <td>0</td>\n",
       "      <td>1</td>\n",
       "      <td>286</td>\n",
       "      <td>-0.239448</td>\n",
       "      <td>...</td>\n",
       "      <td>2592.249268</td>\n",
       "      <td>0.117904</td>\n",
       "      <td>-248.894287</td>\n",
       "      <td>249.203062</td>\n",
       "      <td>-23.553595</td>\n",
       "      <td>20.024276</td>\n",
       "      <td>2592.3793</td>\n",
       "      <td>2592.3793</td>\n",
       "      <td>2592.3793</td>\n",
       "      <td>1.0</td>\n",
       "    </tr>\n",
       "    <tr>\n",
       "      <th>88</th>\n",
       "      <td>2</td>\n",
       "      <td>2.0</td>\n",
       "      <td>-211.0</td>\n",
       "      <td>20012285.0</td>\n",
       "      <td>2</td>\n",
       "      <td>0</td>\n",
       "      <td>0</td>\n",
       "      <td>1</td>\n",
       "      <td>285</td>\n",
       "      <td>0.866401</td>\n",
       "      <td>...</td>\n",
       "      <td>2782.250977</td>\n",
       "      <td>0.437575</td>\n",
       "      <td>-250.000000</td>\n",
       "      <td>250.000000</td>\n",
       "      <td>-0.011400</td>\n",
       "      <td>-0.011400</td>\n",
       "      <td>2782.2500</td>\n",
       "      <td>2782.2500</td>\n",
       "      <td>2782.2500</td>\n",
       "      <td>0.0</td>\n",
       "    </tr>\n",
       "  </tbody>\n",
       "</table>\n",
       "<p>5 rows × 24 columns</p>\n",
       "</div>"
      ],
      "text/plain": [
       "     EventID  TrackID  PdgCode  DetectorID  StatNb  ViewNb  PlaneNb  LayerNb  \\\n",
       "79         2      2.0   -211.0  10002284.0       1       0        0        0   \n",
       "111        2      2.0   -211.0  42012282.0       4       2        0        1   \n",
       "81         2      2.0   -211.0  11012288.0       1       1        0        1   \n",
       "43         2      3.0    -13.0  11012286.0       1       1        0        1   \n",
       "88         2      2.0   -211.0  20012285.0       2       0        0        1   \n",
       "\n",
       "     StrawNb        Px  ...              Z  dist2Wire         Wx1         Wx2  \\\n",
       "79       284  0.866347  ...    2581.149902   0.042245 -250.000000  250.000000   \n",
       "111      282  0.867240  ...    3542.247803   0.478996 -248.589486  249.507863   \n",
       "81       288  0.866625  ...    2592.249023   0.310706 -248.587499  249.509850   \n",
       "43       286 -0.239448  ...    2592.249268   0.117904 -248.894287  249.203062   \n",
       "88       285  0.866401  ...    2782.250977   0.437575 -250.000000  250.000000   \n",
       "\n",
       "           Wy1        Wy2         Wz        Wz1        Wz2  Label  \n",
       "79    0.868600   0.868600  2581.1500  2581.1500  2581.1500    0.0  \n",
       "111  27.037487 -16.540384  3542.3793  3542.3793  3542.3793    0.0  \n",
       "81  -27.060200  16.517671  2592.3793  2592.3793  2592.3793    0.0  \n",
       "43  -23.553595  20.024276  2592.3793  2592.3793  2592.3793    1.0  \n",
       "88   -0.011400  -0.011400  2782.2500  2782.2500  2782.2500    0.0  \n",
       "\n",
       "[5 rows x 24 columns]"
      ]
     },
     "execution_count": 4,
     "metadata": {},
     "output_type": "execute_result"
    }
   ],
   "source": [
    "data = pd.read_csv('../data/hits.csv', index_col=0)\n",
    "data.head()"
   ]
  },
  {
   "cell_type": "code",
   "execution_count": 5,
   "metadata": {
    "collapsed": false
   },
   "outputs": [
    {
     "data": {
      "text/plain": [
       "Index([u'EventID', u'TrackID', u'PdgCode', u'DetectorID', u'StatNb', u'ViewNb',\n",
       "       u'PlaneNb', u'LayerNb', u'StrawNb', u'Px', u'Py', u'Pz', u'X', u'Y',\n",
       "       u'Z', u'dist2Wire', u'Wx1', u'Wx2', u'Wy1', u'Wy2', u'Wz', u'Wz1',\n",
       "       u'Wz2', u'Label'],\n",
       "      dtype='object')"
      ]
     },
     "execution_count": 5,
     "metadata": {},
     "output_type": "execute_result"
    }
   ],
   "source": [
    "data.columns"
   ]
  },
  {
   "cell_type": "markdown",
   "metadata": {},
   "source": [
    "# Choosing an event"
   ]
  },
  {
   "cell_type": "code",
   "execution_count": 6,
   "metadata": {
    "collapsed": true
   },
   "outputs": [],
   "source": [
    "event = data[data.EventID==2]"
   ]
  },
  {
   "cell_type": "markdown",
   "metadata": {},
   "source": [
    "# Function Initialization"
   ]
  },
  {
   "cell_type": "markdown",
   "metadata": {},
   "source": [
    "## distance between 2 skew lines"
   ]
  },
  {
   "cell_type": "code",
   "execution_count": 93,
   "metadata": {
    "collapsed": true
   },
   "outputs": [],
   "source": [
    "def cross(vec1, vec2):\n",
    "    return T.as_tensor([\n",
    "        vec1[1]*vec2[2] - vec1[2]*vec2[1],\n",
    "        vec1[2]*vec2[0] - vec1[0]*vec2[2],\n",
    "        vec1[0]*vec2[1] - vec1[1]*vec2[0]])"
   ]
  },
  {
   "cell_type": "code",
   "execution_count": 185,
   "metadata": {
    "collapsed": false
   },
   "outputs": [],
   "source": [
    "#arr = np.array(x1, y1, z1, x2, y2, z2)\n",
    "def points2vec(arr):\n",
    "    a0 = np.array([arr[0], arr[1], arr[2]])\n",
    "    a = np.array([arr[3]-arr[0], arr[4]-arr[1], arr[5]-arr[2]])\n",
    "    return a0, a"
   ]
  },
  {
   "cell_type": "code",
   "execution_count": 95,
   "metadata": {
    "collapsed": true
   },
   "outputs": [],
   "source": [
    "a0 = T.vector(\"my_vector\", dtype='float64')\n",
    "a = T.vector(\"my_vector\", dtype='float64')\n",
    "b0 = T.vector(\"my_vector\", dtype='float64')\n",
    "b = T.vector(\"my_vector\", dtype='float64')\n",
    "num = T.scalar(\"n_tubes\", dtype='int64')"
   ]
  },
  {
   "cell_type": "code",
   "execution_count": 122,
   "metadata": {
    "collapsed": true
   },
   "outputs": [],
   "source": [
    "dist = T.sqrt(T.sum(((a0-b0)*cross(a, b))**2))/T.sqrt(T.sum(cross(a,b)**2))"
   ]
  },
  {
   "cell_type": "code",
   "execution_count": 123,
   "metadata": {
    "collapsed": true
   },
   "outputs": [],
   "source": [
    "distance_between_skew_lines = theano.function([a0, a, b0, b], dist)"
   ]
  },
  {
   "cell_type": "markdown",
   "metadata": {},
   "source": [
    "## retina artifitial response"
   ]
  },
  {
   "cell_type": "code",
   "execution_count": 154,
   "metadata": {
    "collapsed": false
   },
   "outputs": [],
   "source": [
    "points = T.matrix(\"points\", dtype='float64')\n",
    "directions = T.matrix(\"directions\", dtype='float64')\n",
    "track0 = T.vector(\"track0\", dtype='float64')\n",
    "track = T.vector(\"track\", dtype='float64')\n",
    "sigma = T.scalar(\"sigma\", dtype=\"float64\")"
   ]
  },
  {
   "cell_type": "code",
   "execution_count": 200,
   "metadata": {
    "collapsed": false
   },
   "outputs": [],
   "source": [
    "rs, updates = theano.scan(fn = lambda point, direction, tr0, tr, s:\n",
    "                         T.exp(-(T.sqrt(T.sum(((point-tr0)*cross(direction, tr))**2))/T.sqrt(T.sum(cross(direction,tr))**2))**2/s**2),\n",
    "                         sequences=[points, directions],\n",
    "                         non_sequences=[track0, track, sigma])"
   ]
  },
  {
   "cell_type": "code",
   "execution_count": 201,
   "metadata": {
    "collapsed": false
   },
   "outputs": [],
   "source": [
    "r = rs.sum()\n",
    "R = theano.function([track0, track, points, directions, sigma], r)"
   ]
  },
  {
   "cell_type": "markdown",
   "metadata": {},
   "source": [
    "# Test"
   ]
  },
  {
   "cell_type": "markdown",
   "metadata": {},
   "source": [
    "## test distance between 2 skew lines"
   ]
  },
  {
   "cell_type": "code",
   "execution_count": 124,
   "metadata": {
    "collapsed": true
   },
   "outputs": [],
   "source": [
    "track1 = event[(event.TrackID==2)&(event.StatNb<3)]\n",
    "track2 = event[(event.TrackID==3)&(event.TrackID<3)]\n",
    "noise = event[(event.TrackID!=2)&(event.TrackID!=3)&(event.TrackID<3)]"
   ]
  },
  {
   "cell_type": "code",
   "execution_count": 125,
   "metadata": {
    "collapsed": true
   },
   "outputs": [],
   "source": [
    "x0=track1.X.values[0]\n",
    "x1=track1.X.values[1]\n",
    "y0=track1.Y.values[0]\n",
    "y1=track1.Y.values[1]\n",
    "z0=track1.Z.values[0]\n",
    "z1=track1.Z.values[1]"
   ]
  },
  {
   "cell_type": "code",
   "execution_count": 191,
   "metadata": {
    "collapsed": false
   },
   "outputs": [],
   "source": [
    "track_point, track_direction = points2vec(np.array([x0, y0, z0, x1, y1, z1]))"
   ]
  },
  {
   "cell_type": "code",
   "execution_count": 192,
   "metadata": {
    "collapsed": false
   },
   "outputs": [],
   "source": [
    "params = track1[['Wx1', 'Wy1', 'Wz', 'Wx2', 'Wy2', 'Wz']].values[1]"
   ]
  },
  {
   "cell_type": "code",
   "execution_count": 193,
   "metadata": {
    "collapsed": true
   },
   "outputs": [],
   "source": [
    "tube_point, tube_direction = points2vec(params)"
   ]
  },
  {
   "cell_type": "code",
   "execution_count": 194,
   "metadata": {
    "collapsed": false
   },
   "outputs": [
    {
     "data": {
      "text/plain": [
       "array(39.49327433542012)"
      ]
     },
     "execution_count": 194,
     "metadata": {},
     "output_type": "execute_result"
    }
   ],
   "source": [
    "distance_between_skew_lines(track_point, track_direction, tube_point, tube_direction)"
   ]
  },
  {
   "cell_type": "markdown",
   "metadata": {},
   "source": [
    "## test retina artifitial response"
   ]
  },
  {
   "cell_type": "code",
   "execution_count": 202,
   "metadata": {
    "collapsed": false
   },
   "outputs": [],
   "source": [
    "A0 = []\n",
    "A = []\n",
    "for i in range(len(track1.index)):\n",
    "    a0, a = points2vec(track1[['Wx1', 'Wy1', 'Wz', 'Wx2', 'Wy2', 'Wz']].values[i])\n",
    "    A0.append(a0)\n",
    "    A.append(a)\n",
    "A0 = np.array(A0)\n",
    "A = np.array(A)"
   ]
  },
  {
   "cell_type": "code",
   "execution_count": 205,
   "metadata": {
    "collapsed": false
   },
   "outputs": [
    {
     "data": {
      "text/plain": [
       "array(8.332593368599591)"
      ]
     },
     "execution_count": 205,
     "metadata": {},
     "output_type": "execute_result"
    }
   ],
   "source": [
    "R(track_point, track_direction, A0, A, 2)"
   ]
  },
  {
   "cell_type": "code",
   "execution_count": 196,
   "metadata": {
    "collapsed": false
   },
   "outputs": [
    {
     "data": {
      "text/html": [
       "<div>\n",
       "<table border=\"1\" class=\"dataframe\">\n",
       "  <thead>\n",
       "    <tr style=\"text-align: right;\">\n",
       "      <th></th>\n",
       "      <th>EventID</th>\n",
       "      <th>TrackID</th>\n",
       "      <th>PdgCode</th>\n",
       "      <th>DetectorID</th>\n",
       "      <th>StatNb</th>\n",
       "      <th>ViewNb</th>\n",
       "      <th>PlaneNb</th>\n",
       "      <th>LayerNb</th>\n",
       "      <th>StrawNb</th>\n",
       "      <th>Px</th>\n",
       "      <th>...</th>\n",
       "      <th>Z</th>\n",
       "      <th>dist2Wire</th>\n",
       "      <th>Wx1</th>\n",
       "      <th>Wx2</th>\n",
       "      <th>Wy1</th>\n",
       "      <th>Wy2</th>\n",
       "      <th>Wz</th>\n",
       "      <th>Wz1</th>\n",
       "      <th>Wz2</th>\n",
       "      <th>Label</th>\n",
       "    </tr>\n",
       "  </thead>\n",
       "  <tbody>\n",
       "    <tr>\n",
       "      <th>79</th>\n",
       "      <td>2</td>\n",
       "      <td>2.0</td>\n",
       "      <td>-211.0</td>\n",
       "      <td>10002284.0</td>\n",
       "      <td>1</td>\n",
       "      <td>0</td>\n",
       "      <td>0</td>\n",
       "      <td>0</td>\n",
       "      <td>284</td>\n",
       "      <td>0.866347</td>\n",
       "      <td>...</td>\n",
       "      <td>2581.149902</td>\n",
       "      <td>0.042245</td>\n",
       "      <td>-250.000000</td>\n",
       "      <td>250.000000</td>\n",
       "      <td>0.868600</td>\n",
       "      <td>0.868600</td>\n",
       "      <td>2581.1500</td>\n",
       "      <td>2581.1500</td>\n",
       "      <td>2581.1500</td>\n",
       "      <td>0.0</td>\n",
       "    </tr>\n",
       "    <tr>\n",
       "      <th>81</th>\n",
       "      <td>2</td>\n",
       "      <td>2.0</td>\n",
       "      <td>-211.0</td>\n",
       "      <td>11012288.0</td>\n",
       "      <td>1</td>\n",
       "      <td>1</td>\n",
       "      <td>0</td>\n",
       "      <td>1</td>\n",
       "      <td>288</td>\n",
       "      <td>0.866625</td>\n",
       "      <td>...</td>\n",
       "      <td>2592.249023</td>\n",
       "      <td>0.310706</td>\n",
       "      <td>-248.587499</td>\n",
       "      <td>249.509850</td>\n",
       "      <td>-27.060200</td>\n",
       "      <td>16.517671</td>\n",
       "      <td>2592.3793</td>\n",
       "      <td>2592.3793</td>\n",
       "      <td>2592.3793</td>\n",
       "      <td>0.0</td>\n",
       "    </tr>\n",
       "    <tr>\n",
       "      <th>88</th>\n",
       "      <td>2</td>\n",
       "      <td>2.0</td>\n",
       "      <td>-211.0</td>\n",
       "      <td>20012285.0</td>\n",
       "      <td>2</td>\n",
       "      <td>0</td>\n",
       "      <td>0</td>\n",
       "      <td>1</td>\n",
       "      <td>285</td>\n",
       "      <td>0.866401</td>\n",
       "      <td>...</td>\n",
       "      <td>2782.250977</td>\n",
       "      <td>0.437575</td>\n",
       "      <td>-250.000000</td>\n",
       "      <td>250.000000</td>\n",
       "      <td>-0.011400</td>\n",
       "      <td>-0.011400</td>\n",
       "      <td>2782.2500</td>\n",
       "      <td>2782.2500</td>\n",
       "      <td>2782.2500</td>\n",
       "      <td>0.0</td>\n",
       "    </tr>\n",
       "    <tr>\n",
       "      <th>85</th>\n",
       "      <td>2</td>\n",
       "      <td>2.0</td>\n",
       "      <td>-211.0</td>\n",
       "      <td>13002284.0</td>\n",
       "      <td>1</td>\n",
       "      <td>3</td>\n",
       "      <td>0</td>\n",
       "      <td>0</td>\n",
       "      <td>284</td>\n",
       "      <td>0.866653</td>\n",
       "      <td>...</td>\n",
       "      <td>2611.149902</td>\n",
       "      <td>0.097779</td>\n",
       "      <td>-250.000000</td>\n",
       "      <td>250.000000</td>\n",
       "      <td>0.868600</td>\n",
       "      <td>0.868600</td>\n",
       "      <td>2611.1500</td>\n",
       "      <td>2611.1500</td>\n",
       "      <td>2611.1500</td>\n",
       "      <td>0.0</td>\n",
       "    </tr>\n",
       "    <tr>\n",
       "      <th>86</th>\n",
       "      <td>2</td>\n",
       "      <td>2.0</td>\n",
       "      <td>-211.0</td>\n",
       "      <td>13102284.0</td>\n",
       "      <td>1</td>\n",
       "      <td>3</td>\n",
       "      <td>1</td>\n",
       "      <td>0</td>\n",
       "      <td>284</td>\n",
       "      <td>0.866610</td>\n",
       "      <td>...</td>\n",
       "      <td>2613.750732</td>\n",
       "      <td>0.337356</td>\n",
       "      <td>-250.000000</td>\n",
       "      <td>250.000000</td>\n",
       "      <td>0.428600</td>\n",
       "      <td>0.428600</td>\n",
       "      <td>2613.7500</td>\n",
       "      <td>2613.7500</td>\n",
       "      <td>2613.7500</td>\n",
       "      <td>0.0</td>\n",
       "    </tr>\n",
       "    <tr>\n",
       "      <th>87</th>\n",
       "      <td>2</td>\n",
       "      <td>2.0</td>\n",
       "      <td>-211.0</td>\n",
       "      <td>20002284.0</td>\n",
       "      <td>2</td>\n",
       "      <td>0</td>\n",
       "      <td>0</td>\n",
       "      <td>0</td>\n",
       "      <td>284</td>\n",
       "      <td>0.866590</td>\n",
       "      <td>...</td>\n",
       "      <td>2781.148926</td>\n",
       "      <td>0.439979</td>\n",
       "      <td>-250.000000</td>\n",
       "      <td>250.000000</td>\n",
       "      <td>0.868600</td>\n",
       "      <td>0.868600</td>\n",
       "      <td>2781.1500</td>\n",
       "      <td>2781.1500</td>\n",
       "      <td>2781.1500</td>\n",
       "      <td>0.0</td>\n",
       "    </tr>\n",
       "    <tr>\n",
       "      <th>97</th>\n",
       "      <td>2</td>\n",
       "      <td>2.0</td>\n",
       "      <td>-211.0</td>\n",
       "      <td>23102284.0</td>\n",
       "      <td>2</td>\n",
       "      <td>3</td>\n",
       "      <td>1</td>\n",
       "      <td>0</td>\n",
       "      <td>284</td>\n",
       "      <td>0.868264</td>\n",
       "      <td>...</td>\n",
       "      <td>2813.749756</td>\n",
       "      <td>0.074288</td>\n",
       "      <td>-250.000000</td>\n",
       "      <td>250.000000</td>\n",
       "      <td>0.428600</td>\n",
       "      <td>0.428600</td>\n",
       "      <td>2813.7500</td>\n",
       "      <td>2813.7500</td>\n",
       "      <td>2813.7500</td>\n",
       "      <td>0.0</td>\n",
       "    </tr>\n",
       "    <tr>\n",
       "      <th>89</th>\n",
       "      <td>2</td>\n",
       "      <td>2.0</td>\n",
       "      <td>-211.0</td>\n",
       "      <td>20102284.0</td>\n",
       "      <td>2</td>\n",
       "      <td>0</td>\n",
       "      <td>1</td>\n",
       "      <td>0</td>\n",
       "      <td>284</td>\n",
       "      <td>0.866252</td>\n",
       "      <td>...</td>\n",
       "      <td>2783.750000</td>\n",
       "      <td>0.005764</td>\n",
       "      <td>-250.000000</td>\n",
       "      <td>250.000000</td>\n",
       "      <td>0.428600</td>\n",
       "      <td>0.428600</td>\n",
       "      <td>2783.7500</td>\n",
       "      <td>2783.7500</td>\n",
       "      <td>2783.7500</td>\n",
       "      <td>0.0</td>\n",
       "    </tr>\n",
       "    <tr>\n",
       "      <th>93</th>\n",
       "      <td>2</td>\n",
       "      <td>2.0</td>\n",
       "      <td>-211.0</td>\n",
       "      <td>22012281.0</td>\n",
       "      <td>2</td>\n",
       "      <td>2</td>\n",
       "      <td>0</td>\n",
       "      <td>1</td>\n",
       "      <td>281</td>\n",
       "      <td>0.866556</td>\n",
       "      <td>...</td>\n",
       "      <td>2802.250000</td>\n",
       "      <td>0.034292</td>\n",
       "      <td>-248.436092</td>\n",
       "      <td>249.661257</td>\n",
       "      <td>28.790790</td>\n",
       "      <td>-14.787082</td>\n",
       "      <td>2802.3793</td>\n",
       "      <td>2802.3793</td>\n",
       "      <td>2802.3793</td>\n",
       "      <td>0.0</td>\n",
       "    </tr>\n",
       "    <tr>\n",
       "      <th>82</th>\n",
       "      <td>2</td>\n",
       "      <td>2.0</td>\n",
       "      <td>-211.0</td>\n",
       "      <td>11112288.0</td>\n",
       "      <td>1</td>\n",
       "      <td>1</td>\n",
       "      <td>1</td>\n",
       "      <td>1</td>\n",
       "      <td>288</td>\n",
       "      <td>0.866595</td>\n",
       "      <td>...</td>\n",
       "      <td>2594.850342</td>\n",
       "      <td>0.121902</td>\n",
       "      <td>-248.549150</td>\n",
       "      <td>249.548199</td>\n",
       "      <td>-27.498526</td>\n",
       "      <td>16.079345</td>\n",
       "      <td>2594.9793</td>\n",
       "      <td>2594.9793</td>\n",
       "      <td>2594.9793</td>\n",
       "      <td>0.0</td>\n",
       "    </tr>\n",
       "    <tr>\n",
       "      <th>83</th>\n",
       "      <td>2</td>\n",
       "      <td>2.0</td>\n",
       "      <td>-211.0</td>\n",
       "      <td>12012281.0</td>\n",
       "      <td>1</td>\n",
       "      <td>2</td>\n",
       "      <td>0</td>\n",
       "      <td>1</td>\n",
       "      <td>281</td>\n",
       "      <td>0.866803</td>\n",
       "      <td>...</td>\n",
       "      <td>2602.250244</td>\n",
       "      <td>0.170734</td>\n",
       "      <td>-248.436092</td>\n",
       "      <td>249.661257</td>\n",
       "      <td>28.790790</td>\n",
       "      <td>-14.787082</td>\n",
       "      <td>2602.3793</td>\n",
       "      <td>2602.3793</td>\n",
       "      <td>2602.3793</td>\n",
       "      <td>0.0</td>\n",
       "    </tr>\n",
       "    <tr>\n",
       "      <th>84</th>\n",
       "      <td>2</td>\n",
       "      <td>2.0</td>\n",
       "      <td>-211.0</td>\n",
       "      <td>12102280.0</td>\n",
       "      <td>1</td>\n",
       "      <td>2</td>\n",
       "      <td>1</td>\n",
       "      <td>0</td>\n",
       "      <td>280</td>\n",
       "      <td>0.866745</td>\n",
       "      <td>...</td>\n",
       "      <td>2603.749756</td>\n",
       "      <td>0.270546</td>\n",
       "      <td>-248.397743</td>\n",
       "      <td>249.699606</td>\n",
       "      <td>29.229115</td>\n",
       "      <td>-14.348756</td>\n",
       "      <td>2603.8793</td>\n",
       "      <td>2603.8793</td>\n",
       "      <td>2603.8793</td>\n",
       "      <td>0.0</td>\n",
       "    </tr>\n",
       "    <tr>\n",
       "      <th>90</th>\n",
       "      <td>2</td>\n",
       "      <td>2.0</td>\n",
       "      <td>-211.0</td>\n",
       "      <td>21002288.0</td>\n",
       "      <td>2</td>\n",
       "      <td>1</td>\n",
       "      <td>0</td>\n",
       "      <td>0</td>\n",
       "      <td>288</td>\n",
       "      <td>0.866405</td>\n",
       "      <td>...</td>\n",
       "      <td>2791.149902</td>\n",
       "      <td>0.027674</td>\n",
       "      <td>-248.510802</td>\n",
       "      <td>249.586547</td>\n",
       "      <td>-27.936852</td>\n",
       "      <td>15.641020</td>\n",
       "      <td>2791.2793</td>\n",
       "      <td>2791.2793</td>\n",
       "      <td>2791.2793</td>\n",
       "      <td>0.0</td>\n",
       "    </tr>\n",
       "    <tr>\n",
       "      <th>91</th>\n",
       "      <td>2</td>\n",
       "      <td>2.0</td>\n",
       "      <td>-211.0</td>\n",
       "      <td>21102288.0</td>\n",
       "      <td>2</td>\n",
       "      <td>1</td>\n",
       "      <td>1</td>\n",
       "      <td>0</td>\n",
       "      <td>288</td>\n",
       "      <td>0.866668</td>\n",
       "      <td>...</td>\n",
       "      <td>2793.751221</td>\n",
       "      <td>0.403879</td>\n",
       "      <td>-248.472453</td>\n",
       "      <td>249.624896</td>\n",
       "      <td>-28.375177</td>\n",
       "      <td>15.202694</td>\n",
       "      <td>2793.8793</td>\n",
       "      <td>2793.8793</td>\n",
       "      <td>2793.8793</td>\n",
       "      <td>0.0</td>\n",
       "    </tr>\n",
       "    <tr>\n",
       "      <th>92</th>\n",
       "      <td>2</td>\n",
       "      <td>2.0</td>\n",
       "      <td>-211.0</td>\n",
       "      <td>21112288.0</td>\n",
       "      <td>2</td>\n",
       "      <td>1</td>\n",
       "      <td>1</td>\n",
       "      <td>1</td>\n",
       "      <td>288</td>\n",
       "      <td>0.866372</td>\n",
       "      <td>...</td>\n",
       "      <td>2794.848145</td>\n",
       "      <td>0.479731</td>\n",
       "      <td>-248.549150</td>\n",
       "      <td>249.548199</td>\n",
       "      <td>-27.498526</td>\n",
       "      <td>16.079345</td>\n",
       "      <td>2794.9793</td>\n",
       "      <td>2794.9793</td>\n",
       "      <td>2794.9793</td>\n",
       "      <td>0.0</td>\n",
       "    </tr>\n",
       "    <tr>\n",
       "      <th>96</th>\n",
       "      <td>2</td>\n",
       "      <td>2.0</td>\n",
       "      <td>-211.0</td>\n",
       "      <td>23012285.0</td>\n",
       "      <td>2</td>\n",
       "      <td>3</td>\n",
       "      <td>0</td>\n",
       "      <td>1</td>\n",
       "      <td>285</td>\n",
       "      <td>0.868156</td>\n",
       "      <td>...</td>\n",
       "      <td>2812.250732</td>\n",
       "      <td>0.369194</td>\n",
       "      <td>-250.000000</td>\n",
       "      <td>250.000000</td>\n",
       "      <td>-0.011400</td>\n",
       "      <td>-0.011400</td>\n",
       "      <td>2812.2500</td>\n",
       "      <td>2812.2500</td>\n",
       "      <td>2812.2500</td>\n",
       "      <td>0.0</td>\n",
       "    </tr>\n",
       "    <tr>\n",
       "      <th>95</th>\n",
       "      <td>2</td>\n",
       "      <td>2.0</td>\n",
       "      <td>-211.0</td>\n",
       "      <td>22112281.0</td>\n",
       "      <td>2</td>\n",
       "      <td>2</td>\n",
       "      <td>1</td>\n",
       "      <td>1</td>\n",
       "      <td>281</td>\n",
       "      <td>0.867310</td>\n",
       "      <td>...</td>\n",
       "      <td>2804.850586</td>\n",
       "      <td>0.402276</td>\n",
       "      <td>-248.474440</td>\n",
       "      <td>249.622909</td>\n",
       "      <td>28.352464</td>\n",
       "      <td>-15.225407</td>\n",
       "      <td>2804.9793</td>\n",
       "      <td>2804.9793</td>\n",
       "      <td>2804.9793</td>\n",
       "      <td>0.0</td>\n",
       "    </tr>\n",
       "    <tr>\n",
       "      <th>80</th>\n",
       "      <td>2</td>\n",
       "      <td>2.0</td>\n",
       "      <td>-211.0</td>\n",
       "      <td>10102284.0</td>\n",
       "      <td>1</td>\n",
       "      <td>0</td>\n",
       "      <td>1</td>\n",
       "      <td>0</td>\n",
       "      <td>284</td>\n",
       "      <td>0.866405</td>\n",
       "      <td>...</td>\n",
       "      <td>2583.750732</td>\n",
       "      <td>0.392995</td>\n",
       "      <td>-250.000000</td>\n",
       "      <td>250.000000</td>\n",
       "      <td>0.428600</td>\n",
       "      <td>0.428600</td>\n",
       "      <td>2583.7500</td>\n",
       "      <td>2583.7500</td>\n",
       "      <td>2583.7500</td>\n",
       "      <td>0.0</td>\n",
       "    </tr>\n",
       "    <tr>\n",
       "      <th>94</th>\n",
       "      <td>2</td>\n",
       "      <td>2.0</td>\n",
       "      <td>-211.0</td>\n",
       "      <td>22102280.0</td>\n",
       "      <td>2</td>\n",
       "      <td>2</td>\n",
       "      <td>1</td>\n",
       "      <td>0</td>\n",
       "      <td>280</td>\n",
       "      <td>0.866803</td>\n",
       "      <td>...</td>\n",
       "      <td>2803.749268</td>\n",
       "      <td>0.476263</td>\n",
       "      <td>-248.397743</td>\n",
       "      <td>249.699606</td>\n",
       "      <td>29.229115</td>\n",
       "      <td>-14.348756</td>\n",
       "      <td>2803.8793</td>\n",
       "      <td>2803.8793</td>\n",
       "      <td>2803.8793</td>\n",
       "      <td>0.0</td>\n",
       "    </tr>\n",
       "  </tbody>\n",
       "</table>\n",
       "<p>19 rows × 24 columns</p>\n",
       "</div>"
      ],
      "text/plain": [
       "    EventID  TrackID  PdgCode  DetectorID  StatNb  ViewNb  PlaneNb  LayerNb  \\\n",
       "79        2      2.0   -211.0  10002284.0       1       0        0        0   \n",
       "81        2      2.0   -211.0  11012288.0       1       1        0        1   \n",
       "88        2      2.0   -211.0  20012285.0       2       0        0        1   \n",
       "85        2      2.0   -211.0  13002284.0       1       3        0        0   \n",
       "86        2      2.0   -211.0  13102284.0       1       3        1        0   \n",
       "87        2      2.0   -211.0  20002284.0       2       0        0        0   \n",
       "97        2      2.0   -211.0  23102284.0       2       3        1        0   \n",
       "89        2      2.0   -211.0  20102284.0       2       0        1        0   \n",
       "93        2      2.0   -211.0  22012281.0       2       2        0        1   \n",
       "82        2      2.0   -211.0  11112288.0       1       1        1        1   \n",
       "83        2      2.0   -211.0  12012281.0       1       2        0        1   \n",
       "84        2      2.0   -211.0  12102280.0       1       2        1        0   \n",
       "90        2      2.0   -211.0  21002288.0       2       1        0        0   \n",
       "91        2      2.0   -211.0  21102288.0       2       1        1        0   \n",
       "92        2      2.0   -211.0  21112288.0       2       1        1        1   \n",
       "96        2      2.0   -211.0  23012285.0       2       3        0        1   \n",
       "95        2      2.0   -211.0  22112281.0       2       2        1        1   \n",
       "80        2      2.0   -211.0  10102284.0       1       0        1        0   \n",
       "94        2      2.0   -211.0  22102280.0       2       2        1        0   \n",
       "\n",
       "    StrawNb        Px  ...              Z  dist2Wire         Wx1         Wx2  \\\n",
       "79      284  0.866347  ...    2581.149902   0.042245 -250.000000  250.000000   \n",
       "81      288  0.866625  ...    2592.249023   0.310706 -248.587499  249.509850   \n",
       "88      285  0.866401  ...    2782.250977   0.437575 -250.000000  250.000000   \n",
       "85      284  0.866653  ...    2611.149902   0.097779 -250.000000  250.000000   \n",
       "86      284  0.866610  ...    2613.750732   0.337356 -250.000000  250.000000   \n",
       "87      284  0.866590  ...    2781.148926   0.439979 -250.000000  250.000000   \n",
       "97      284  0.868264  ...    2813.749756   0.074288 -250.000000  250.000000   \n",
       "89      284  0.866252  ...    2783.750000   0.005764 -250.000000  250.000000   \n",
       "93      281  0.866556  ...    2802.250000   0.034292 -248.436092  249.661257   \n",
       "82      288  0.866595  ...    2594.850342   0.121902 -248.549150  249.548199   \n",
       "83      281  0.866803  ...    2602.250244   0.170734 -248.436092  249.661257   \n",
       "84      280  0.866745  ...    2603.749756   0.270546 -248.397743  249.699606   \n",
       "90      288  0.866405  ...    2791.149902   0.027674 -248.510802  249.586547   \n",
       "91      288  0.866668  ...    2793.751221   0.403879 -248.472453  249.624896   \n",
       "92      288  0.866372  ...    2794.848145   0.479731 -248.549150  249.548199   \n",
       "96      285  0.868156  ...    2812.250732   0.369194 -250.000000  250.000000   \n",
       "95      281  0.867310  ...    2804.850586   0.402276 -248.474440  249.622909   \n",
       "80      284  0.866405  ...    2583.750732   0.392995 -250.000000  250.000000   \n",
       "94      280  0.866803  ...    2803.749268   0.476263 -248.397743  249.699606   \n",
       "\n",
       "          Wy1        Wy2         Wz        Wz1        Wz2  Label  \n",
       "79   0.868600   0.868600  2581.1500  2581.1500  2581.1500    0.0  \n",
       "81 -27.060200  16.517671  2592.3793  2592.3793  2592.3793    0.0  \n",
       "88  -0.011400  -0.011400  2782.2500  2782.2500  2782.2500    0.0  \n",
       "85   0.868600   0.868600  2611.1500  2611.1500  2611.1500    0.0  \n",
       "86   0.428600   0.428600  2613.7500  2613.7500  2613.7500    0.0  \n",
       "87   0.868600   0.868600  2781.1500  2781.1500  2781.1500    0.0  \n",
       "97   0.428600   0.428600  2813.7500  2813.7500  2813.7500    0.0  \n",
       "89   0.428600   0.428600  2783.7500  2783.7500  2783.7500    0.0  \n",
       "93  28.790790 -14.787082  2802.3793  2802.3793  2802.3793    0.0  \n",
       "82 -27.498526  16.079345  2594.9793  2594.9793  2594.9793    0.0  \n",
       "83  28.790790 -14.787082  2602.3793  2602.3793  2602.3793    0.0  \n",
       "84  29.229115 -14.348756  2603.8793  2603.8793  2603.8793    0.0  \n",
       "90 -27.936852  15.641020  2791.2793  2791.2793  2791.2793    0.0  \n",
       "91 -28.375177  15.202694  2793.8793  2793.8793  2793.8793    0.0  \n",
       "92 -27.498526  16.079345  2794.9793  2794.9793  2794.9793    0.0  \n",
       "96  -0.011400  -0.011400  2812.2500  2812.2500  2812.2500    0.0  \n",
       "95  28.352464 -15.225407  2804.9793  2804.9793  2804.9793    0.0  \n",
       "80   0.428600   0.428600  2583.7500  2583.7500  2583.7500    0.0  \n",
       "94  29.229115 -14.348756  2803.8793  2803.8793  2803.8793    0.0  \n",
       "\n",
       "[19 rows x 24 columns]"
      ]
     },
     "execution_count": 196,
     "metadata": {},
     "output_type": "execute_result"
    }
   ],
   "source": [
    "track1"
   ]
  },
  {
   "cell_type": "markdown",
   "metadata": {},
   "source": [
    "# 2D projections"
   ]
  },
  {
   "cell_type": "code",
   "execution_count": 207,
   "metadata": {
    "collapsed": true
   },
   "outputs": [],
   "source": [
    "size = 10\n",
    "grid = np.ndarray(shape=(size, size, size, size), dtype='float64')"
   ]
  },
  {
   "cell_type": "code",
   "execution_count": null,
   "metadata": {
    "collapsed": true
   },
   "outputs": [],
   "source": [
    "for i in np.linspace(0, 0.2, size):\n",
    "    for j in np.linspace(0, 400, size):\n",
    "        for m in np.linspace(0, 0.1, size):\n",
    "            "
   ]
  },
  {
   "cell_type": "code",
   "execution_count": 208,
   "metadata": {
    "collapsed": false
   },
   "outputs": [
    {
     "ename": "TypeError",
     "evalue": "range() integer end argument expected, got float.",
     "output_type": "error",
     "traceback": [
      "\u001b[1;31m---------------------------------------------------------------------------\u001b[0m",
      "\u001b[1;31mTypeError\u001b[0m                                 Traceback (most recent call last)",
      "\u001b[1;32m<ipython-input-208-6c183f23cdfd>\u001b[0m in \u001b[0;36m<module>\u001b[1;34m()\u001b[0m\n\u001b[1;32m----> 1\u001b[1;33m \u001b[0mrange\u001b[0m\u001b[1;33m(\u001b[0m\u001b[1;36m0\u001b[0m\u001b[1;33m,\u001b[0m \u001b[1;36m0.2\u001b[0m\u001b[1;33m,\u001b[0m \u001b[1;36m0.1\u001b[0m\u001b[1;33m)\u001b[0m\u001b[1;33m\u001b[0m\u001b[0m\n\u001b[0m",
      "\u001b[1;31mTypeError\u001b[0m: range() integer end argument expected, got float."
     ]
    }
   ],
   "source": [
    "range(0, 0.2, 0.1)"
   ]
  },
  {
   "cell_type": "code",
   "execution_count": null,
   "metadata": {
    "collapsed": true
   },
   "outputs": [],
   "source": []
  }
 ],
 "metadata": {
  "kernelspec": {
   "display_name": "Python [Root]",
   "language": "python",
   "name": "Python [Root]"
  },
  "language_info": {
   "codemirror_mode": {
    "name": "ipython",
    "version": 2
   },
   "file_extension": ".py",
   "mimetype": "text/x-python",
   "name": "python",
   "nbconvert_exporter": "python",
   "pygments_lexer": "ipython2",
   "version": "2.7.11"
  }
 },
 "nbformat": 4,
 "nbformat_minor": 0
}
