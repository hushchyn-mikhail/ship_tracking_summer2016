{
 "cells": [
  {
   "cell_type": "code",
   "execution_count": 1,
   "metadata": {
    "collapsed": false
   },
   "outputs": [
    {
     "name": "stderr",
     "output_type": "stream",
     "text": [
      "/home/oalenkin/anaconda2/lib/python2.7/site-packages/matplotlib/font_manager.py:273: UserWarning: Matplotlib is building the font cache using fc-list. This may take a moment.\n",
      "  warnings.warn('Matplotlib is building the font cache using fc-list. This may take a moment.')\n"
     ]
    }
   ],
   "source": [
    "%matplotlib inline\n",
    "import numpy as np\n",
    "import pandas as pd\n",
    "import theano\n",
    "import theano.tensor as T\n",
    "import matplotlib.pyplot as plt\n",
    "\n",
    "import os, sys\n",
    "sys.path.append('../code')\n",
    "\n",
    "from retina import *"
   ]
  },
  {
   "cell_type": "markdown",
   "metadata": {},
   "source": [
    "### data reading"
   ]
  },
  {
   "cell_type": "code",
   "execution_count": 2,
   "metadata": {
    "collapsed": false
   },
   "outputs": [],
   "source": [
    "data = pd.read_csv('../data/hits.csv', index_col=0)"
   ]
  },
  {
   "cell_type": "markdown",
   "metadata": {},
   "source": [
    "# Stage 2.1"
   ]
  },
  {
   "cell_type": "markdown",
   "metadata": {},
   "source": [
    "### test function distance_between_skew_lines()"
   ]
  },
  {
   "cell_type": "code",
   "execution_count": 3,
   "metadata": {
    "collapsed": false
   },
   "outputs": [],
   "source": [
    "from retina import distance_between_skew_lines, points2vec, get_track_params, params2vec"
   ]
  },
  {
   "cell_type": "code",
   "execution_count": 4,
   "metadata": {
    "collapsed": false
   },
   "outputs": [],
   "source": [
    "real = []\n",
    "exp = []\n",
    "for event_i in set(data.EventID.values):\n",
    "    event = data[data.EventID==event_i]\n",
    "    track1 = event[(event.TrackID==2)&(event.StatNb<3)]\n",
    "    if len(track1)>1:\n",
    "        x0=track1.X.values[0]\n",
    "        x1=track1.X.values[1]\n",
    "        y0=track1.Y.values[0]\n",
    "        y1=track1.Y.values[1]\n",
    "        z0=track1.Z.values[0]\n",
    "        z1=track1.Z.values[1]\n",
    "    else:\n",
    "        continue\n",
    "    track_point, track_direction = points2vec(np.array([x0, y0, z0, x1, y1, z1]))\n",
    "    #x0, l, y0, m = get_track_params(track1, 2)\n",
    "    #track_point, track_direction = params2vec(l, x0, m, y0)\n",
    "    for i in range(len(track1)):\n",
    "        params = track1[['Wx1', 'Wy1', 'Wz', 'Wx2', 'Wy2', 'Wz']].values[i]\n",
    "        tube_point, tube_direction = points2vec(params)\n",
    "        exp.append(distance_between_skew_lines(track_point, track_direction, tube_point, tube_direction))\n",
    "        real.append(track1.dist2Wire.values[i])\n",
    "        \n",
    "    track2 = event[(event.TrackID==3)&(event.StatNb<3)]\n",
    "    if len(track2)>1:\n",
    "        x0=track2.X.values[0]\n",
    "        x1=track2.X.values[1]\n",
    "        y0=track2.Y.values[0]\n",
    "        y1=track2.Y.values[1]\n",
    "        z0=track2.Z.values[0]\n",
    "        z1=track2.Z.values[1]\n",
    "    else:\n",
    "        continue\n",
    "    track_point, track_direction = points2vec(np.array([x0, y0, z0, x1, y1, z1]))\n",
    "    #x0, l, y0, m = get_track_params(track2, 3)\n",
    "    #track_point, track_direction = params2vec(l, x0, m, y0)\n",
    "    for i in range(len(track2)):\n",
    "        params = track2[['Wx1', 'Wy1', 'Wz', 'Wx2', 'Wy2', 'Wz']].values[i]\n",
    "        tube_point, tube_direction = points2vec(params)\n",
    "        exp.append(distance_between_skew_lines(track_point, track_direction, tube_point, tube_direction))\n",
    "        real.append(track2.dist2Wire.values[i])"
   ]
  },
  {
   "cell_type": "code",
   "execution_count": 5,
   "metadata": {
    "collapsed": false
   },
   "outputs": [
    {
     "data": {
      "image/png": "[encoded data removed]",
      "text/plain": [
       "<matplotlib.figure.Figure at 0x7fe90a220290>"
      ]
     },
     "metadata": {},
     "output_type": "display_data"
    }
   ],
   "source": [
    "plt.figure(figsize=(16,9))\n",
    "plt.title(\"Absolute error of distance between lines\", fontsize=20, fontweight='bold')\n",
    "hist_arr = plt.hist(np.array(real)-np.array(exp), bins=100)"
   ]
  },
  {
   "cell_type": "markdown",
   "metadata": {},
   "source": [
    "Result is strange. A lot of distances from track to its tubes were found with huge error. May be realization is the reason of this effect. May be tracks reconstructed from 2 points are wrong."
   ]
  },
  {
   "cell_type": "markdown",
   "metadata": {},
   "source": [
    "### how to use artifitial_retina_response()"
   ]
  },
  {
   "cell_type": "code",
   "execution_count": 4,
   "metadata": {
    "collapsed": false
   },
   "outputs": [],
   "source": [
    "from retina import artifitial_retina_response"
   ]
  },
  {
   "cell_type": "code",
   "execution_count": 5,
   "metadata": {
    "collapsed": false
   },
   "outputs": [
    {
     "ename": "NameError",
     "evalue": "name 'event' is not defined",
     "output_type": "error",
     "traceback": [
      "\u001b[1;31m---------------------------------------------------------------------------\u001b[0m",
      "\u001b[1;31mNameError\u001b[0m                                 Traceback (most recent call last)",
      "\u001b[1;32m<ipython-input-5-45ce72bb244a>\u001b[0m in \u001b[0;36m<module>\u001b[1;34m()\u001b[0m\n\u001b[1;32m----> 1\u001b[1;33m \u001b[0martifitial_retina_response\u001b[0m\u001b[1;33m(\u001b[0m\u001b[1;36m0.005\u001b[0m\u001b[1;33m,\u001b[0m \u001b[1;36m250\u001b[0m\u001b[1;33m,\u001b[0m \u001b[1;36m0.005\u001b[0m\u001b[1;33m,\u001b[0m \u001b[1;36m500\u001b[0m\u001b[1;33m,\u001b[0m \u001b[0mevent\u001b[0m\u001b[1;33m[\u001b[0m\u001b[1;33m[\u001b[0m\u001b[1;34m'Wx1'\u001b[0m\u001b[1;33m,\u001b[0m \u001b[1;34m'Wy1'\u001b[0m\u001b[1;33m,\u001b[0m \u001b[1;34m'Wz'\u001b[0m\u001b[1;33m,\u001b[0m \u001b[1;34m'Wx2'\u001b[0m\u001b[1;33m,\u001b[0m \u001b[1;34m'Wy2'\u001b[0m\u001b[1;33m,\u001b[0m \u001b[1;34m'Wz'\u001b[0m\u001b[1;33m]\u001b[0m\u001b[1;33m]\u001b[0m\u001b[1;33m.\u001b[0m\u001b[0mvalues\u001b[0m\u001b[1;33m,\u001b[0m \u001b[1;36m0.5\u001b[0m\u001b[1;33m)\u001b[0m\u001b[1;33m\u001b[0m\u001b[0m\n\u001b[0m",
      "\u001b[1;31mNameError\u001b[0m: name 'event' is not defined"
     ]
    }
   ],
   "source": [
    "artifitial_retina_response(0.005, 250, 0.005, 500, event[['Wx1', 'Wy1', 'Wz', 'Wx2', 'Wy2', 'Wz']].values, 0.5)"
   ]
  },
  {
   "cell_type": "markdown",
   "metadata": {},
   "source": [
    "# Stage 2.2"
   ]
  },
  {
   "cell_type": "markdown",
   "metadata": {},
   "source": [
    "# 2D projections"
   ]
  },
  {
   "cell_type": "code",
   "execution_count": 5,
   "metadata": {
    "collapsed": false
   },
   "outputs": [],
   "source": [
    "from retina import plot_artifitial_retina_response, params2vec"
   ]
  },
  {
   "cell_type": "code",
   "execution_count": 7,
   "metadata": {
    "collapsed": false
   },
   "outputs": [],
   "source": [
    "event = data[data.EventID==23]\n",
    "event_before_magnet = event[event.StatNb<3]"
   ]
  },
  {
   "cell_type": "code",
   "execution_count": 8,
   "metadata": {
    "collapsed": true
   },
   "outputs": [],
   "source": [
    "size = 25\n",
    "ms = np.linspace(0.009, 0.01, size)\n",
    "y0s = np.linspace(-153, -149, size)\n",
    "ls = np.linspace(-0.0021, 0.0017, size)\n",
    "x0s = np.linspace(-75, -65, size)"
   ]
  },
  {
   "cell_type": "code",
   "execution_count": 14,
   "metadata": {
    "collapsed": false
   },
   "outputs": [
    {
     "data": {
      "image/png": "[encoded data removed]",
      "text/plain": [
       "<matplotlib.figure.Figure at 0x7fca176b1a10>"
      ]
     },
     "metadata": {},
     "output_type": "display_data"
    },
    {
     "data": {
      "image/png": "[encoded data removed]",
      "text/plain": [
       "<matplotlib.figure.Figure at 0x7fca173b46d0>"
      ]
     },
     "metadata": {},
     "output_type": "display_data"
    }
   ],
   "source": [
    "projections = plot_artifitial_retina_response(event_before_magnet, ms, y0s, ls, x0s, 0.1)"
   ]
  },
  {
   "cell_type": "code",
   "execution_count": 4,
   "metadata": {
    "collapsed": true
   },
   "outputs": [],
   "source": [
    "from retina import get_track_params"
   ]
  },
  {
   "cell_type": "code",
   "execution_count": 5,
   "metadata": {
    "collapsed": false
   },
   "outputs": [
    {
     "data": {
      "text/plain": [
       "(-71.93019431301461,\n",
       " -0.019083404599996478,\n",
       " -151.87648248209635,\n",
       " 0.0094009400000002064)"
      ]
     },
     "execution_count": 5,
     "metadata": {},
     "output_type": "execute_result"
    }
   ],
   "source": [
    "get_track_params(event_before_magnet, 2)"
   ]
  },
  {
   "cell_type": "code",
   "execution_count": 6,
   "metadata": {
    "collapsed": false
   },
   "outputs": [
    {
     "data": {
      "text/plain": [
       "(-90.378411160590431,\n",
       " 0.0015087299923260595,\n",
       " -115.21658250100649,\n",
       " -0.042832547618818356)"
      ]
     },
     "execution_count": 6,
     "metadata": {},
     "output_type": "execute_result"
    }
   ],
   "source": [
    "get_track_params(event_before_magnet, 3)"
   ]
  },
  {
   "cell_type": "markdown",
   "metadata": {},
   "source": [
    "# Stage 2.3"
   ]
  },
  {
   "cell_type": "code",
   "execution_count": 4,
   "metadata": {
    "collapsed": true
   },
   "outputs": [],
   "source": [
    "from retina import RetinaTrackReconstruction"
   ]
  },
  {
   "cell_type": "code",
   "execution_count": 5,
   "metadata": {
    "collapsed": true
   },
   "outputs": [],
   "source": [
    "retina = RetinaTrackReconstruction()"
   ]
  },
  {
   "cell_type": "code",
   "execution_count": 15,
   "metadata": {
    "collapsed": false
   },
   "outputs": [
    {
     "data": {
      "text/plain": [
       "((-71.000001377163912,\n",
       "  -0.019000074830489672,\n",
       "  -152.49247340710687,\n",
       "  0.0096282589758319801),\n",
       " array([[[ -7.10000000e+01,  -1.52500000e+02,   0.00000000e+00],\n",
       "         [ -1.90000000e-02,   9.20000000e-03,   1.00000000e+00]],\n",
       " \n",
       "        [[ -7.10000000e+01,  -1.52500000e+02,  -1.53462475e-09],\n",
       "         [ -1.90000000e-02,   9.63098873e-03,   9.99996035e-01]],\n",
       " \n",
       "        [[ -7.10000000e+01,  -1.52492474e+02,  -7.24820131e-05],\n",
       "         [ -1.90000000e-02,   9.62619064e-03,   9.99996081e-01]],\n",
       " \n",
       "        [[ -7.10000000e+01,  -1.52492474e+02,  -7.24820256e-05],\n",
       "         [ -1.90000000e-02,   9.62822106e-03,   9.99996062e-01]]]),\n",
       " array([ -1.07641124e-20,  -2.15115088e+00,  -2.15359035e+00,\n",
       "         -2.15600310e+00]))"
      ]
     },
     "execution_count": 15,
     "metadata": {},
     "output_type": "execute_result"
    }
   ],
   "source": [
    "retina.fit(event_before_magnet[['Wx1', 'Wy1', 'Wz', 'Wx2', 'Wy2', 'Wz']].values, [-71, -0.019, -152.5, 0.0092], 0.1)"
   ]
  },
  {
   "cell_type": "code",
   "execution_count": null,
   "metadata": {
    "collapsed": true
   },
   "outputs": [],
   "source": []
  }
 ],
 "metadata": {
  "kernelspec": {
   "display_name": "Python [Root]",
   "language": "python",
   "name": "Python [Root]"
  },
  "language_info": {
   "codemirror_mode": {
    "name": "ipython",
    "version": 2
   },
   "file_extension": ".py",
   "mimetype": "text/x-python",
   "name": "python",
   "nbconvert_exporter": "python",
   "pygments_lexer": "ipython2",
   "version": "2.7.11"
  }
 },
 "nbformat": 4,
 "nbformat_minor": 0
}
