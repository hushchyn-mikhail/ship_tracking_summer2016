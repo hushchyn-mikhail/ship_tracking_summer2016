{
 "cells": [
  {
   "cell_type": "code",
   "execution_count": 60,
   "metadata": {
    "collapsed": false
   },
   "outputs": [
    {
     "name": "stderr",
     "output_type": "stream",
     "text": [
      "/home/oalenkin/anaconda2/lib/python2.7/site-packages/matplotlib/font_manager.py:273: UserWarning: Matplotlib is building the font cache using fc-list. This may take a moment.\n",
      "  warnings.warn('Matplotlib is building the font cache using fc-list. This may take a moment.')\n"
     ]
    }
   ],
   "source": [
    "import numpy as np\n",
    "import pandas as pd\n",
    "import matplotlib.pyplot as plt\n",
    "import theano\n",
    "import theano.tensor as T\n",
    "%matplotlib inline"
   ]
  },
  {
   "cell_type": "markdown",
   "metadata": {},
   "source": [
    "# Data Reading"
   ]
  },
  {
   "cell_type": "code",
   "execution_count": 3,
   "metadata": {
    "collapsed": false
   },
   "outputs": [
    {
     "data": {
      "text/html": [
       "<div>\n",
       "<table border=\"1\" class=\"dataframe\">\n",
       "  <thead>\n",
       "    <tr style=\"text-align: right;\">\n",
       "      <th></th>\n",
       "      <th>EventID</th>\n",
       "      <th>TrackID</th>\n",
       "      <th>PdgCode</th>\n",
       "      <th>DetectorID</th>\n",
       "      <th>StatNb</th>\n",
       "      <th>ViewNb</th>\n",
       "      <th>PlaneNb</th>\n",
       "      <th>LayerNb</th>\n",
       "      <th>StrawNb</th>\n",
       "      <th>Px</th>\n",
       "      <th>...</th>\n",
       "      <th>Z</th>\n",
       "      <th>dist2Wire</th>\n",
       "      <th>Wx1</th>\n",
       "      <th>Wx2</th>\n",
       "      <th>Wy1</th>\n",
       "      <th>Wy2</th>\n",
       "      <th>Wz</th>\n",
       "      <th>Wz1</th>\n",
       "      <th>Wz2</th>\n",
       "      <th>Label</th>\n",
       "    </tr>\n",
       "  </thead>\n",
       "  <tbody>\n",
       "    <tr>\n",
       "      <th>79</th>\n",
       "      <td>2</td>\n",
       "      <td>2.0</td>\n",
       "      <td>-211.0</td>\n",
       "      <td>10002284.0</td>\n",
       "      <td>1</td>\n",
       "      <td>0</td>\n",
       "      <td>0</td>\n",
       "      <td>0</td>\n",
       "      <td>284</td>\n",
       "      <td>0.866347</td>\n",
       "      <td>...</td>\n",
       "      <td>2581.149902</td>\n",
       "      <td>0.042245</td>\n",
       "      <td>-250.000000</td>\n",
       "      <td>250.000000</td>\n",
       "      <td>0.868600</td>\n",
       "      <td>0.868600</td>\n",
       "      <td>2581.1500</td>\n",
       "      <td>2581.1500</td>\n",
       "      <td>2581.1500</td>\n",
       "      <td>0.0</td>\n",
       "    </tr>\n",
       "    <tr>\n",
       "      <th>111</th>\n",
       "      <td>2</td>\n",
       "      <td>2.0</td>\n",
       "      <td>-211.0</td>\n",
       "      <td>42012282.0</td>\n",
       "      <td>4</td>\n",
       "      <td>2</td>\n",
       "      <td>0</td>\n",
       "      <td>1</td>\n",
       "      <td>282</td>\n",
       "      <td>0.867240</td>\n",
       "      <td>...</td>\n",
       "      <td>3542.247803</td>\n",
       "      <td>0.478996</td>\n",
       "      <td>-248.589486</td>\n",
       "      <td>249.507863</td>\n",
       "      <td>27.037487</td>\n",
       "      <td>-16.540384</td>\n",
       "      <td>3542.3793</td>\n",
       "      <td>3542.3793</td>\n",
       "      <td>3542.3793</td>\n",
       "      <td>0.0</td>\n",
       "    </tr>\n",
       "    <tr>\n",
       "      <th>81</th>\n",
       "      <td>2</td>\n",
       "      <td>2.0</td>\n",
       "      <td>-211.0</td>\n",
       "      <td>11012288.0</td>\n",
       "      <td>1</td>\n",
       "      <td>1</td>\n",
       "      <td>0</td>\n",
       "      <td>1</td>\n",
       "      <td>288</td>\n",
       "      <td>0.866625</td>\n",
       "      <td>...</td>\n",
       "      <td>2592.249023</td>\n",
       "      <td>0.310706</td>\n",
       "      <td>-248.587499</td>\n",
       "      <td>249.509850</td>\n",
       "      <td>-27.060200</td>\n",
       "      <td>16.517671</td>\n",
       "      <td>2592.3793</td>\n",
       "      <td>2592.3793</td>\n",
       "      <td>2592.3793</td>\n",
       "      <td>0.0</td>\n",
       "    </tr>\n",
       "    <tr>\n",
       "      <th>43</th>\n",
       "      <td>2</td>\n",
       "      <td>3.0</td>\n",
       "      <td>-13.0</td>\n",
       "      <td>11012286.0</td>\n",
       "      <td>1</td>\n",
       "      <td>1</td>\n",
       "      <td>0</td>\n",
       "      <td>1</td>\n",
       "      <td>286</td>\n",
       "      <td>-0.239448</td>\n",
       "      <td>...</td>\n",
       "      <td>2592.249268</td>\n",
       "      <td>0.117904</td>\n",
       "      <td>-248.894287</td>\n",
       "      <td>249.203062</td>\n",
       "      <td>-23.553595</td>\n",
       "      <td>20.024276</td>\n",
       "      <td>2592.3793</td>\n",
       "      <td>2592.3793</td>\n",
       "      <td>2592.3793</td>\n",
       "      <td>1.0</td>\n",
       "    </tr>\n",
       "    <tr>\n",
       "      <th>88</th>\n",
       "      <td>2</td>\n",
       "      <td>2.0</td>\n",
       "      <td>-211.0</td>\n",
       "      <td>20012285.0</td>\n",
       "      <td>2</td>\n",
       "      <td>0</td>\n",
       "      <td>0</td>\n",
       "      <td>1</td>\n",
       "      <td>285</td>\n",
       "      <td>0.866401</td>\n",
       "      <td>...</td>\n",
       "      <td>2782.250977</td>\n",
       "      <td>0.437575</td>\n",
       "      <td>-250.000000</td>\n",
       "      <td>250.000000</td>\n",
       "      <td>-0.011400</td>\n",
       "      <td>-0.011400</td>\n",
       "      <td>2782.2500</td>\n",
       "      <td>2782.2500</td>\n",
       "      <td>2782.2500</td>\n",
       "      <td>0.0</td>\n",
       "    </tr>\n",
       "  </tbody>\n",
       "</table>\n",
       "<p>5 rows × 24 columns</p>\n",
       "</div>"
      ],
      "text/plain": [
       "     EventID  TrackID  PdgCode  DetectorID  StatNb  ViewNb  PlaneNb  LayerNb  \\\n",
       "79         2      2.0   -211.0  10002284.0       1       0        0        0   \n",
       "111        2      2.0   -211.0  42012282.0       4       2        0        1   \n",
       "81         2      2.0   -211.0  11012288.0       1       1        0        1   \n",
       "43         2      3.0    -13.0  11012286.0       1       1        0        1   \n",
       "88         2      2.0   -211.0  20012285.0       2       0        0        1   \n",
       "\n",
       "     StrawNb        Px  ...              Z  dist2Wire         Wx1         Wx2  \\\n",
       "79       284  0.866347  ...    2581.149902   0.042245 -250.000000  250.000000   \n",
       "111      282  0.867240  ...    3542.247803   0.478996 -248.589486  249.507863   \n",
       "81       288  0.866625  ...    2592.249023   0.310706 -248.587499  249.509850   \n",
       "43       286 -0.239448  ...    2592.249268   0.117904 -248.894287  249.203062   \n",
       "88       285  0.866401  ...    2782.250977   0.437575 -250.000000  250.000000   \n",
       "\n",
       "           Wy1        Wy2         Wz        Wz1        Wz2  Label  \n",
       "79    0.868600   0.868600  2581.1500  2581.1500  2581.1500    0.0  \n",
       "111  27.037487 -16.540384  3542.3793  3542.3793  3542.3793    0.0  \n",
       "81  -27.060200  16.517671  2592.3793  2592.3793  2592.3793    0.0  \n",
       "43  -23.553595  20.024276  2592.3793  2592.3793  2592.3793    1.0  \n",
       "88   -0.011400  -0.011400  2782.2500  2782.2500  2782.2500    0.0  \n",
       "\n",
       "[5 rows x 24 columns]"
      ]
     },
     "execution_count": 3,
     "metadata": {},
     "output_type": "execute_result"
    }
   ],
   "source": [
    "data = pd.read_csv('../data/hits.csv', index_col=0)\n",
    "data.head()"
   ]
  },
  {
   "cell_type": "code",
   "execution_count": 4,
   "metadata": {
    "collapsed": false
   },
   "outputs": [
    {
     "data": {
      "text/plain": [
       "Index([u'EventID', u'TrackID', u'PdgCode', u'DetectorID', u'StatNb', u'ViewNb',\n",
       "       u'PlaneNb', u'LayerNb', u'StrawNb', u'Px', u'Py', u'Pz', u'X', u'Y',\n",
       "       u'Z', u'dist2Wire', u'Wx1', u'Wx2', u'Wy1', u'Wy2', u'Wz', u'Wz1',\n",
       "       u'Wz2', u'Label'],\n",
       "      dtype='object')"
      ]
     },
     "execution_count": 4,
     "metadata": {},
     "output_type": "execute_result"
    }
   ],
   "source": [
    "data.columns"
   ]
  },
  {
   "cell_type": "markdown",
   "metadata": {},
   "source": [
    "# Stage 2.1"
   ]
  },
  {
   "cell_type": "markdown",
   "metadata": {},
   "source": [
    "Choosing an event"
   ]
  },
  {
   "cell_type": "code",
   "execution_count": 584,
   "metadata": {
    "collapsed": true
   },
   "outputs": [],
   "source": [
    "event = data[data.EventID==2]"
   ]
  },
  {
   "cell_type": "markdown",
   "metadata": {},
   "source": [
    "# Function Initialization"
   ]
  },
  {
   "cell_type": "markdown",
   "metadata": {},
   "source": [
    "## distance between 2 skew lines"
   ]
  },
  {
   "cell_type": "code",
   "execution_count": 585,
   "metadata": {
    "collapsed": true
   },
   "outputs": [],
   "source": [
    "def cross(vec1, vec2):\n",
    "    return T.as_tensor([\n",
    "        vec1[1]*vec2[2] - vec1[2]*vec2[1],\n",
    "        vec1[2]*vec2[0] - vec1[0]*vec2[2],\n",
    "        vec1[0]*vec2[1] - vec1[1]*vec2[0]])"
   ]
  },
  {
   "cell_type": "code",
   "execution_count": 586,
   "metadata": {
    "collapsed": false
   },
   "outputs": [],
   "source": [
    "#arr = np.array(x1, y1, z1, x2, y2, z2)\n",
    "def points2vec(arr):\n",
    "    a0 = np.array([arr[0], arr[1], arr[2]])\n",
    "    a = np.array([arr[3]-arr[0], arr[4]-arr[1], arr[5]-arr[2]])\n",
    "    return a0, a"
   ]
  },
  {
   "cell_type": "code",
   "execution_count": 587,
   "metadata": {
    "collapsed": true
   },
   "outputs": [],
   "source": [
    "a0 = T.vector(\"my_vector\", dtype='float64')\n",
    "a = T.vector(\"my_vector\", dtype='float64')\n",
    "b0 = T.vector(\"my_vector\", dtype='float64')\n",
    "b = T.vector(\"my_vector\", dtype='float64')"
   ]
  },
  {
   "cell_type": "code",
   "execution_count": 588,
   "metadata": {
    "collapsed": true
   },
   "outputs": [],
   "source": [
    "dist = T.sqrt(T.sum((a*cross((a0-b0), b))**2))/T.sqrt(T.sum(cross(a,b)**2))"
   ]
  },
  {
   "cell_type": "code",
   "execution_count": 589,
   "metadata": {
    "collapsed": true
   },
   "outputs": [],
   "source": [
    "distance_between_skew_lines = theano.function([a0, a, b0, b], dist)"
   ]
  },
  {
   "cell_type": "markdown",
   "metadata": {},
   "source": [
    "## retina artifitial response"
   ]
  },
  {
   "cell_type": "code",
   "execution_count": 590,
   "metadata": {
    "collapsed": false
   },
   "outputs": [],
   "source": [
    "points = T.matrix(\"points\", dtype='float64')\n",
    "directions = T.matrix(\"directions\", dtype='float64')\n",
    "track0 = T.vector(\"track0\", dtype='float64')\n",
    "track = T.vector(\"track\", dtype='float64')\n",
    "sigma = T.scalar(\"sigma\", dtype=\"float64\")"
   ]
  },
  {
   "cell_type": "code",
   "execution_count": 591,
   "metadata": {
    "collapsed": false
   },
   "outputs": [],
   "source": [
    "rs, updates = theano.scan(fn = lambda point, direction, tr0, tr, s:\n",
    "                         T.exp(-(T.sqrt(T.sum(((point-tr0)*cross(direction, tr))**2))/T.sqrt(T.sum(cross(direction,tr))**2))**2/s**2),\n",
    "                         sequences=[points, directions],\n",
    "                         non_sequences=[track0, track, sigma])"
   ]
  },
  {
   "cell_type": "code",
   "execution_count": 592,
   "metadata": {
    "collapsed": false
   },
   "outputs": [],
   "source": [
    "r = rs.sum()\n",
    "R = theano.function([track0, track, points, directions, sigma], r)"
   ]
  },
  {
   "cell_type": "markdown",
   "metadata": {},
   "source": [
    "# Test"
   ]
  },
  {
   "cell_type": "markdown",
   "metadata": {},
   "source": [
    "## test distance between 2 skew lines"
   ]
  },
  {
   "cell_type": "code",
   "execution_count": 344,
   "metadata": {
    "collapsed": true
   },
   "outputs": [],
   "source": [
    "track1 = event[(event.TrackID==2)&(event.StatNb<3)]\n",
    "track2 = event[(event.TrackID==3)&(event.StatNb<3)]\n",
    "noise = event[(event.TrackID!=2)&(event.TrackID!=3)&(event.TrackID<3)]"
   ]
  },
  {
   "cell_type": "code",
   "execution_count": 345,
   "metadata": {
    "collapsed": true
   },
   "outputs": [],
   "source": [
    "x0=track1.X.values[0]\n",
    "x1=track1.X.values[18]\n",
    "y0=track1.Y.values[0]\n",
    "y1=track1.Y.values[18]\n",
    "z0=track1.Z.values[0]\n",
    "z1=track1.Z.values[18]"
   ]
  },
  {
   "cell_type": "code",
   "execution_count": 346,
   "metadata": {
    "collapsed": false
   },
   "outputs": [],
   "source": [
    "track_point, track_direction = points2vec(np.array([x0, y0, z0, x1, y1, z1]))"
   ]
  },
  {
   "cell_type": "code",
   "execution_count": 355,
   "metadata": {
    "collapsed": false
   },
   "outputs": [
    {
     "data": {
      "text/plain": [
       "0.31070647120700001"
      ]
     },
     "execution_count": 355,
     "metadata": {},
     "output_type": "execute_result"
    }
   ],
   "source": [
    "params = track1[['Wx1', 'Wy1', 'Wz', 'Wx2', 'Wy2', 'Wz']].values[1]\n",
    "track1.dist2Wire.values[1]"
   ]
  },
  {
   "cell_type": "code",
   "execution_count": 356,
   "metadata": {
    "collapsed": true
   },
   "outputs": [],
   "source": [
    "tube_point, tube_direction = points2vec(params)"
   ]
  },
  {
   "cell_type": "code",
   "execution_count": 357,
   "metadata": {
    "collapsed": false
   },
   "outputs": [
    {
     "data": {
      "text/plain": [
       "array(0.26907864870815856)"
      ]
     },
     "execution_count": 357,
     "metadata": {},
     "output_type": "execute_result"
    }
   ],
   "source": [
    "distance_between_skew_lines(track_point, track_direction, tube_point, tube_direction)"
   ]
  },
  {
   "cell_type": "markdown",
   "metadata": {},
   "source": [
    "### Distribution of absolute error"
   ]
  },
  {
   "cell_type": "code",
   "execution_count": 579,
   "metadata": {
    "collapsed": false
   },
   "outputs": [],
   "source": [
    "real = []\n",
    "exp = []\n",
    "for event_i in set(data.EventID.values):\n",
    "    event = data[data.EventID==event_i]\n",
    "    track1 = event[(event.TrackID==2)&(event.StatNb<3)]\n",
    "    if len(track1)>1:\n",
    "        x0=track1.X.values[0]\n",
    "        x1=track1.X.values[1]\n",
    "        y0=track1.Y.values[0]\n",
    "        y1=track1.Y.values[1]\n",
    "        z0=track1.Z.values[0]\n",
    "        z1=track1.Z.values[1]\n",
    "    else:\n",
    "        continue\n",
    "    track_point, track_direction = points2vec(np.array([x0, y0, z0, x1, y1, z1]))\n",
    "    for i in range(len(track1)):\n",
    "        params = track1[['Wx1', 'Wy1', 'Wz', 'Wx2', 'Wy2', 'Wz']].values[i]\n",
    "        tube_point, tube_direction = points2vec(params)\n",
    "        exp.append(distance_between_skew_lines(track_point, track_direction, tube_point, tube_direction))\n",
    "        real.append(track1.dist2Wire.values[i])\n",
    "        \n",
    "    track2 = event[(event.TrackID==3)&(event.StatNb<3)]\n",
    "    if len(track2)>1:\n",
    "        x0=track2.X.values[0]\n",
    "        x1=track2.X.values[1]\n",
    "        y0=track2.Y.values[0]\n",
    "        y1=track2.Y.values[1]\n",
    "        z0=track2.Z.values[0]\n",
    "        z1=track2.Z.values[1]\n",
    "    else:\n",
    "        continue\n",
    "    track_point, track_direction = points2vec(np.array([x0, y0, z0, x1, y1, z1]))\n",
    "    for i in range(len(track2)):\n",
    "        params = track2[['Wx1', 'Wy1', 'Wz', 'Wx2', 'Wy2', 'Wz']].values[i]\n",
    "        tube_point, tube_direction = points2vec(params)\n",
    "        exp.append(distance_between_skew_lines(track_point, track_direction, tube_point, tube_direction))\n",
    "        real.append(track2.dist2Wire.values[i])"
   ]
  },
  {
   "cell_type": "code",
   "execution_count": 581,
   "metadata": {
    "collapsed": false
   },
   "outputs": [
    {
     "data": {
      "text/plain": [
       "(array([  3.00000000e+00,   2.00000000e+00,   1.00000000e+00,\n",
       "          0.00000000e+00,   0.00000000e+00,   1.00000000e+00,\n",
       "          2.00000000e+00,   1.00000000e+00,   0.00000000e+00,\n",
       "          2.00000000e+00,   1.00000000e+00,   5.00000000e+00,\n",
       "          3.00000000e+00,   0.00000000e+00,   2.00000000e+00,\n",
       "          2.00000000e+00,   2.00000000e+00,   1.00000000e+00,\n",
       "          2.00000000e+00,   1.00000000e+00,   5.00000000e+00,\n",
       "          7.00000000e+00,   9.00000000e+00,   1.50000000e+01,\n",
       "          1.80000000e+01,   2.70000000e+01,   2.30000000e+01,\n",
       "          3.70000000e+01,   3.30000000e+01,   3.50000000e+01,\n",
       "          3.80000000e+01,   5.10000000e+01,   7.90000000e+01,\n",
       "          6.80000000e+01,   1.10000000e+02,   9.90000000e+01,\n",
       "          1.35000000e+02,   1.98000000e+02,   2.40000000e+02,\n",
       "          3.12000000e+02,   3.19000000e+02,   4.03000000e+02,\n",
       "          6.24000000e+02,   6.91000000e+02,   8.68000000e+02,\n",
       "          1.04500000e+03,   1.18900000e+03,   1.65300000e+03,\n",
       "          2.81700000e+03,   1.25680000e+04]),\n",
       " array([-51.96204613, -50.91747377, -49.87290141, -48.82832905,\n",
       "        -47.78375669, -46.73918433, -45.69461197, -44.65003961,\n",
       "        -43.60546725, -42.56089489, -41.51632253, -40.47175017,\n",
       "        -39.42717781, -38.38260544, -37.33803308, -36.29346072,\n",
       "        -35.24888836, -34.204316  , -33.15974364, -32.11517128,\n",
       "        -31.07059892, -30.02602656, -28.9814542 , -27.93688184,\n",
       "        -26.89230948, -25.84773712, -24.80316476, -23.7585924 ,\n",
       "        -22.71402003, -21.66944767, -20.62487531, -19.58030295,\n",
       "        -18.53573059, -17.49115823, -16.44658587, -15.40201351,\n",
       "        -14.35744115, -13.31286879, -12.26829643, -11.22372407,\n",
       "        -10.17915171,  -9.13457935,  -8.09000699,  -7.04543462,\n",
       "         -6.00086226,  -4.9562899 ,  -3.91171754,  -2.86714518,\n",
       "         -1.82257282,  -0.77800046,   0.2665719 ]),\n",
       " <a list of 50 Patch objects>)"
      ]
     },
     "execution_count": 581,
     "metadata": {},
     "output_type": "execute_result"
    },
    {
     "data": {
      "image/png": "[encoded data removed]",
      "text/plain": [
       "<matplotlib.figure.Figure at 0x7fc0fb4a3bd0>"
      ]
     },
     "metadata": {},
     "output_type": "display_data"
    }
   ],
   "source": [
    "plt.figure(figsize=(16,9))\n",
    "plt.title(\"Absolute error of distance between lines\", fontsize=20, fontweight='bold')\n",
    "plt.hist(np.array(real)-np.array(exp), bins=50)"
   ]
  },
  {
   "cell_type": "markdown",
   "metadata": {},
   "source": [
    "## test retina artifitial response"
   ]
  },
  {
   "cell_type": "code",
   "execution_count": 593,
   "metadata": {
    "collapsed": false
   },
   "outputs": [],
   "source": [
    "A0 = []\n",
    "A = []\n",
    "for i in range(len(track1.index)):\n",
    "    a0, a = points2vec(track1[['Wx1', 'Wy1', 'Wz', 'Wx2', 'Wy2', 'Wz']].values[i])\n",
    "    A0.append(a0)\n",
    "    A.append(a)\n",
    "A0 = np.array(A0)\n",
    "A = np.array(A)"
   ]
  },
  {
   "cell_type": "code",
   "execution_count": 597,
   "metadata": {
    "collapsed": false
   },
   "outputs": [
    {
     "data": {
      "text/plain": [
       "array(3.537498612277323e-22)"
      ]
     },
     "execution_count": 597,
     "metadata": {},
     "output_type": "execute_result"
    }
   ],
   "source": [
    "R(track_point, track_direction, A0, A, 10)"
   ]
  },
  {
   "cell_type": "code",
   "execution_count": 595,
   "metadata": {
    "collapsed": false,
    "scrolled": false
   },
   "outputs": [
    {
     "data": {
      "text/html": [
       "<div>\n",
       "<table border=\"1\" class=\"dataframe\">\n",
       "  <thead>\n",
       "    <tr style=\"text-align: right;\">\n",
       "      <th></th>\n",
       "      <th>EventID</th>\n",
       "      <th>TrackID</th>\n",
       "      <th>PdgCode</th>\n",
       "      <th>DetectorID</th>\n",
       "      <th>StatNb</th>\n",
       "      <th>ViewNb</th>\n",
       "      <th>PlaneNb</th>\n",
       "      <th>LayerNb</th>\n",
       "      <th>StrawNb</th>\n",
       "      <th>Px</th>\n",
       "      <th>...</th>\n",
       "      <th>Z</th>\n",
       "      <th>dist2Wire</th>\n",
       "      <th>Wx1</th>\n",
       "      <th>Wx2</th>\n",
       "      <th>Wy1</th>\n",
       "      <th>Wy2</th>\n",
       "      <th>Wz</th>\n",
       "      <th>Wz1</th>\n",
       "      <th>Wz2</th>\n",
       "      <th>Label</th>\n",
       "    </tr>\n",
       "  </thead>\n",
       "  <tbody>\n",
       "    <tr>\n",
       "      <th>88881</th>\n",
       "      <td>2046</td>\n",
       "      <td>2.0</td>\n",
       "      <td>-211.0</td>\n",
       "      <td>20112244.0</td>\n",
       "      <td>2</td>\n",
       "      <td>0</td>\n",
       "      <td>1</td>\n",
       "      <td>1</td>\n",
       "      <td>244</td>\n",
       "      <td>-0.180964</td>\n",
       "      <td>...</td>\n",
       "      <td>2784.837402</td>\n",
       "      <td>0.364728</td>\n",
       "      <td>-250.000000</td>\n",
       "      <td>250.000000</td>\n",
       "      <td>71.708600</td>\n",
       "      <td>71.708600</td>\n",
       "      <td>2784.8500</td>\n",
       "      <td>2784.8500</td>\n",
       "      <td>2784.8500</td>\n",
       "      <td>0.0</td>\n",
       "    </tr>\n",
       "    <tr>\n",
       "      <th>88888</th>\n",
       "      <td>2046</td>\n",
       "      <td>2.0</td>\n",
       "      <td>-211.0</td>\n",
       "      <td>23112243.0</td>\n",
       "      <td>2</td>\n",
       "      <td>3</td>\n",
       "      <td>1</td>\n",
       "      <td>1</td>\n",
       "      <td>243</td>\n",
       "      <td>-0.180703</td>\n",
       "      <td>...</td>\n",
       "      <td>2814.862793</td>\n",
       "      <td>0.397389</td>\n",
       "      <td>-250.000000</td>\n",
       "      <td>250.000000</td>\n",
       "      <td>73.468600</td>\n",
       "      <td>73.468600</td>\n",
       "      <td>2814.8500</td>\n",
       "      <td>2814.8500</td>\n",
       "      <td>2814.8500</td>\n",
       "      <td>0.0</td>\n",
       "    </tr>\n",
       "    <tr>\n",
       "      <th>88875</th>\n",
       "      <td>2046</td>\n",
       "      <td>2.0</td>\n",
       "      <td>-211.0</td>\n",
       "      <td>11112243.0</td>\n",
       "      <td>1</td>\n",
       "      <td>1</td>\n",
       "      <td>1</td>\n",
       "      <td>1</td>\n",
       "      <td>243</td>\n",
       "      <td>-0.181414</td>\n",
       "      <td>...</td>\n",
       "      <td>2594.838867</td>\n",
       "      <td>0.228772</td>\n",
       "      <td>-255.451885</td>\n",
       "      <td>242.645464</td>\n",
       "      <td>51.400094</td>\n",
       "      <td>94.977965</td>\n",
       "      <td>2594.9793</td>\n",
       "      <td>2594.9793</td>\n",
       "      <td>2594.9793</td>\n",
       "      <td>0.0</td>\n",
       "    </tr>\n",
       "    <tr>\n",
       "      <th>88884</th>\n",
       "      <td>2046</td>\n",
       "      <td>2.0</td>\n",
       "      <td>-211.0</td>\n",
       "      <td>22012250.0</td>\n",
       "      <td>2</td>\n",
       "      <td>2</td>\n",
       "      <td>0</td>\n",
       "      <td>1</td>\n",
       "      <td>250</td>\n",
       "      <td>-0.181068</td>\n",
       "      <td>...</td>\n",
       "      <td>2802.242432</td>\n",
       "      <td>0.273978</td>\n",
       "      <td>-243.680874</td>\n",
       "      <td>254.416475</td>\n",
       "      <td>83.143172</td>\n",
       "      <td>39.565301</td>\n",
       "      <td>2802.3793</td>\n",
       "      <td>2802.3793</td>\n",
       "      <td>2802.3793</td>\n",
       "      <td>0.0</td>\n",
       "    </tr>\n",
       "    <tr>\n",
       "      <th>88877</th>\n",
       "      <td>2046</td>\n",
       "      <td>2.0</td>\n",
       "      <td>-211.0</td>\n",
       "      <td>12102253.0</td>\n",
       "      <td>1</td>\n",
       "      <td>2</td>\n",
       "      <td>1</td>\n",
       "      <td>0</td>\n",
       "      <td>253</td>\n",
       "      <td>-0.181182</td>\n",
       "      <td>...</td>\n",
       "      <td>2603.744385</td>\n",
       "      <td>0.148106</td>\n",
       "      <td>-244.256102</td>\n",
       "      <td>253.841247</td>\n",
       "      <td>76.568287</td>\n",
       "      <td>32.990416</td>\n",
       "      <td>2603.8793</td>\n",
       "      <td>2603.8793</td>\n",
       "      <td>2603.8793</td>\n",
       "      <td>0.0</td>\n",
       "    </tr>\n",
       "    <tr>\n",
       "      <th>88872</th>\n",
       "      <td>2046</td>\n",
       "      <td>2.0</td>\n",
       "      <td>-211.0</td>\n",
       "      <td>10002248.0</td>\n",
       "      <td>1</td>\n",
       "      <td>0</td>\n",
       "      <td>0</td>\n",
       "      <td>0</td>\n",
       "      <td>248</td>\n",
       "      <td>-0.182039</td>\n",
       "      <td>...</td>\n",
       "      <td>2581.164795</td>\n",
       "      <td>0.337339</td>\n",
       "      <td>-250.000000</td>\n",
       "      <td>250.000000</td>\n",
       "      <td>64.228600</td>\n",
       "      <td>64.228600</td>\n",
       "      <td>2581.1500</td>\n",
       "      <td>2581.1500</td>\n",
       "      <td>2581.1500</td>\n",
       "      <td>0.0</td>\n",
       "    </tr>\n",
       "    <tr>\n",
       "      <th>88886</th>\n",
       "      <td>2046</td>\n",
       "      <td>2.0</td>\n",
       "      <td>-211.0</td>\n",
       "      <td>23002243.0</td>\n",
       "      <td>2</td>\n",
       "      <td>3</td>\n",
       "      <td>0</td>\n",
       "      <td>0</td>\n",
       "      <td>243</td>\n",
       "      <td>-0.180967</td>\n",
       "      <td>...</td>\n",
       "      <td>2811.152344</td>\n",
       "      <td>0.076268</td>\n",
       "      <td>-250.000000</td>\n",
       "      <td>250.000000</td>\n",
       "      <td>73.028600</td>\n",
       "      <td>73.028600</td>\n",
       "      <td>2811.1500</td>\n",
       "      <td>2811.1500</td>\n",
       "      <td>2811.1500</td>\n",
       "      <td>0.0</td>\n",
       "    </tr>\n",
       "    <tr>\n",
       "      <th>88878</th>\n",
       "      <td>2046</td>\n",
       "      <td>2.0</td>\n",
       "      <td>-211.0</td>\n",
       "      <td>13012248.0</td>\n",
       "      <td>1</td>\n",
       "      <td>3</td>\n",
       "      <td>0</td>\n",
       "      <td>1</td>\n",
       "      <td>248</td>\n",
       "      <td>-0.180940</td>\n",
       "      <td>...</td>\n",
       "      <td>2612.243896</td>\n",
       "      <td>0.141032</td>\n",
       "      <td>-250.000000</td>\n",
       "      <td>250.000000</td>\n",
       "      <td>65.108600</td>\n",
       "      <td>65.108600</td>\n",
       "      <td>2612.2500</td>\n",
       "      <td>2612.2500</td>\n",
       "      <td>2612.2500</td>\n",
       "      <td>0.0</td>\n",
       "    </tr>\n",
       "    <tr>\n",
       "      <th>88876</th>\n",
       "      <td>2046</td>\n",
       "      <td>2.0</td>\n",
       "      <td>-211.0</td>\n",
       "      <td>12002253.0</td>\n",
       "      <td>1</td>\n",
       "      <td>2</td>\n",
       "      <td>0</td>\n",
       "      <td>0</td>\n",
       "      <td>253</td>\n",
       "      <td>-0.181193</td>\n",
       "      <td>...</td>\n",
       "      <td>2601.165039</td>\n",
       "      <td>0.390760</td>\n",
       "      <td>-244.217754</td>\n",
       "      <td>253.879595</td>\n",
       "      <td>77.006613</td>\n",
       "      <td>33.428742</td>\n",
       "      <td>2601.2793</td>\n",
       "      <td>2601.2793</td>\n",
       "      <td>2601.2793</td>\n",
       "      <td>0.0</td>\n",
       "    </tr>\n",
       "    <tr>\n",
       "      <th>88874</th>\n",
       "      <td>2046</td>\n",
       "      <td>2.0</td>\n",
       "      <td>-211.0</td>\n",
       "      <td>11012243.0</td>\n",
       "      <td>1</td>\n",
       "      <td>1</td>\n",
       "      <td>0</td>\n",
       "      <td>1</td>\n",
       "      <td>243</td>\n",
       "      <td>-0.181375</td>\n",
       "      <td>...</td>\n",
       "      <td>2592.266602</td>\n",
       "      <td>0.337628</td>\n",
       "      <td>-255.490233</td>\n",
       "      <td>242.607116</td>\n",
       "      <td>51.838420</td>\n",
       "      <td>95.416291</td>\n",
       "      <td>2592.3793</td>\n",
       "      <td>2592.3793</td>\n",
       "      <td>2592.3793</td>\n",
       "      <td>0.0</td>\n",
       "    </tr>\n",
       "    <tr>\n",
       "      <th>88887</th>\n",
       "      <td>2046</td>\n",
       "      <td>2.0</td>\n",
       "      <td>-211.0</td>\n",
       "      <td>23102243.0</td>\n",
       "      <td>2</td>\n",
       "      <td>3</td>\n",
       "      <td>1</td>\n",
       "      <td>0</td>\n",
       "      <td>243</td>\n",
       "      <td>-0.180773</td>\n",
       "      <td>...</td>\n",
       "      <td>2813.735596</td>\n",
       "      <td>0.447096</td>\n",
       "      <td>-250.000000</td>\n",
       "      <td>250.000000</td>\n",
       "      <td>72.588600</td>\n",
       "      <td>72.588600</td>\n",
       "      <td>2813.7500</td>\n",
       "      <td>2813.7500</td>\n",
       "      <td>2813.7500</td>\n",
       "      <td>0.0</td>\n",
       "    </tr>\n",
       "    <tr>\n",
       "      <th>88873</th>\n",
       "      <td>2046</td>\n",
       "      <td>2.0</td>\n",
       "      <td>-211.0</td>\n",
       "      <td>10102248.0</td>\n",
       "      <td>1</td>\n",
       "      <td>0</td>\n",
       "      <td>1</td>\n",
       "      <td>0</td>\n",
       "      <td>248</td>\n",
       "      <td>-0.181795</td>\n",
       "      <td>...</td>\n",
       "      <td>2583.740479</td>\n",
       "      <td>0.216411</td>\n",
       "      <td>-250.000000</td>\n",
       "      <td>250.000000</td>\n",
       "      <td>63.788600</td>\n",
       "      <td>63.788600</td>\n",
       "      <td>2583.7500</td>\n",
       "      <td>2583.7500</td>\n",
       "      <td>2583.7500</td>\n",
       "      <td>0.0</td>\n",
       "    </tr>\n",
       "    <tr>\n",
       "      <th>88880</th>\n",
       "      <td>2046</td>\n",
       "      <td>2.0</td>\n",
       "      <td>-211.0</td>\n",
       "      <td>20012244.0</td>\n",
       "      <td>2</td>\n",
       "      <td>0</td>\n",
       "      <td>0</td>\n",
       "      <td>1</td>\n",
       "      <td>244</td>\n",
       "      <td>-0.180745</td>\n",
       "      <td>...</td>\n",
       "      <td>2782.255615</td>\n",
       "      <td>0.164733</td>\n",
       "      <td>-250.000000</td>\n",
       "      <td>250.000000</td>\n",
       "      <td>72.148600</td>\n",
       "      <td>72.148600</td>\n",
       "      <td>2782.2500</td>\n",
       "      <td>2782.2500</td>\n",
       "      <td>2782.2500</td>\n",
       "      <td>0.0</td>\n",
       "    </tr>\n",
       "    <tr>\n",
       "      <th>88885</th>\n",
       "      <td>2046</td>\n",
       "      <td>2.0</td>\n",
       "      <td>-211.0</td>\n",
       "      <td>22102249.0</td>\n",
       "      <td>2</td>\n",
       "      <td>2</td>\n",
       "      <td>1</td>\n",
       "      <td>0</td>\n",
       "      <td>249</td>\n",
       "      <td>-0.181229</td>\n",
       "      <td>...</td>\n",
       "      <td>2803.753418</td>\n",
       "      <td>0.124324</td>\n",
       "      <td>-243.642526</td>\n",
       "      <td>254.454823</td>\n",
       "      <td>83.581498</td>\n",
       "      <td>40.003627</td>\n",
       "      <td>2803.8793</td>\n",
       "      <td>2803.8793</td>\n",
       "      <td>2803.8793</td>\n",
       "      <td>0.0</td>\n",
       "    </tr>\n",
       "    <tr>\n",
       "      <th>88882</th>\n",
       "      <td>2046</td>\n",
       "      <td>2.0</td>\n",
       "      <td>-211.0</td>\n",
       "      <td>21012238.0</td>\n",
       "      <td>2</td>\n",
       "      <td>1</td>\n",
       "      <td>0</td>\n",
       "      <td>1</td>\n",
       "      <td>238</td>\n",
       "      <td>-0.181083</td>\n",
       "      <td>...</td>\n",
       "      <td>2792.257324</td>\n",
       "      <td>0.186654</td>\n",
       "      <td>-256.257204</td>\n",
       "      <td>241.840145</td>\n",
       "      <td>60.604933</td>\n",
       "      <td>104.182804</td>\n",
       "      <td>2792.3793</td>\n",
       "      <td>2792.3793</td>\n",
       "      <td>2792.3793</td>\n",
       "      <td>0.0</td>\n",
       "    </tr>\n",
       "    <tr>\n",
       "      <th>88879</th>\n",
       "      <td>2046</td>\n",
       "      <td>2.0</td>\n",
       "      <td>-211.0</td>\n",
       "      <td>13102247.0</td>\n",
       "      <td>1</td>\n",
       "      <td>3</td>\n",
       "      <td>1</td>\n",
       "      <td>0</td>\n",
       "      <td>247</td>\n",
       "      <td>-0.180843</td>\n",
       "      <td>...</td>\n",
       "      <td>2613.760010</td>\n",
       "      <td>0.233806</td>\n",
       "      <td>-250.000000</td>\n",
       "      <td>250.000000</td>\n",
       "      <td>65.548600</td>\n",
       "      <td>65.548600</td>\n",
       "      <td>2613.7500</td>\n",
       "      <td>2613.7500</td>\n",
       "      <td>2613.7500</td>\n",
       "      <td>0.0</td>\n",
       "    </tr>\n",
       "    <tr>\n",
       "      <th>88883</th>\n",
       "      <td>2046</td>\n",
       "      <td>2.0</td>\n",
       "      <td>-211.0</td>\n",
       "      <td>21112238.0</td>\n",
       "      <td>2</td>\n",
       "      <td>1</td>\n",
       "      <td>1</td>\n",
       "      <td>1</td>\n",
       "      <td>238</td>\n",
       "      <td>-0.180925</td>\n",
       "      <td>...</td>\n",
       "      <td>2794.836426</td>\n",
       "      <td>0.353755</td>\n",
       "      <td>-256.218855</td>\n",
       "      <td>241.878494</td>\n",
       "      <td>60.166607</td>\n",
       "      <td>103.744479</td>\n",
       "      <td>2794.9793</td>\n",
       "      <td>2794.9793</td>\n",
       "      <td>2794.9793</td>\n",
       "      <td>0.0</td>\n",
       "    </tr>\n",
       "  </tbody>\n",
       "</table>\n",
       "<p>17 rows × 24 columns</p>\n",
       "</div>"
      ],
      "text/plain": [
       "       EventID  TrackID  PdgCode  DetectorID  StatNb  ViewNb  PlaneNb  \\\n",
       "88881     2046      2.0   -211.0  20112244.0       2       0        1   \n",
       "88888     2046      2.0   -211.0  23112243.0       2       3        1   \n",
       "88875     2046      2.0   -211.0  11112243.0       1       1        1   \n",
       "88884     2046      2.0   -211.0  22012250.0       2       2        0   \n",
       "88877     2046      2.0   -211.0  12102253.0       1       2        1   \n",
       "88872     2046      2.0   -211.0  10002248.0       1       0        0   \n",
       "88886     2046      2.0   -211.0  23002243.0       2       3        0   \n",
       "88878     2046      2.0   -211.0  13012248.0       1       3        0   \n",
       "88876     2046      2.0   -211.0  12002253.0       1       2        0   \n",
       "88874     2046      2.0   -211.0  11012243.0       1       1        0   \n",
       "88887     2046      2.0   -211.0  23102243.0       2       3        1   \n",
       "88873     2046      2.0   -211.0  10102248.0       1       0        1   \n",
       "88880     2046      2.0   -211.0  20012244.0       2       0        0   \n",
       "88885     2046      2.0   -211.0  22102249.0       2       2        1   \n",
       "88882     2046      2.0   -211.0  21012238.0       2       1        0   \n",
       "88879     2046      2.0   -211.0  13102247.0       1       3        1   \n",
       "88883     2046      2.0   -211.0  21112238.0       2       1        1   \n",
       "\n",
       "       LayerNb  StrawNb        Px  ...              Z  dist2Wire         Wx1  \\\n",
       "88881        1      244 -0.180964  ...    2784.837402   0.364728 -250.000000   \n",
       "88888        1      243 -0.180703  ...    2814.862793   0.397389 -250.000000   \n",
       "88875        1      243 -0.181414  ...    2594.838867   0.228772 -255.451885   \n",
       "88884        1      250 -0.181068  ...    2802.242432   0.273978 -243.680874   \n",
       "88877        0      253 -0.181182  ...    2603.744385   0.148106 -244.256102   \n",
       "88872        0      248 -0.182039  ...    2581.164795   0.337339 -250.000000   \n",
       "88886        0      243 -0.180967  ...    2811.152344   0.076268 -250.000000   \n",
       "88878        1      248 -0.180940  ...    2612.243896   0.141032 -250.000000   \n",
       "88876        0      253 -0.181193  ...    2601.165039   0.390760 -244.217754   \n",
       "88874        1      243 -0.181375  ...    2592.266602   0.337628 -255.490233   \n",
       "88887        0      243 -0.180773  ...    2813.735596   0.447096 -250.000000   \n",
       "88873        0      248 -0.181795  ...    2583.740479   0.216411 -250.000000   \n",
       "88880        1      244 -0.180745  ...    2782.255615   0.164733 -250.000000   \n",
       "88885        0      249 -0.181229  ...    2803.753418   0.124324 -243.642526   \n",
       "88882        1      238 -0.181083  ...    2792.257324   0.186654 -256.257204   \n",
       "88879        0      247 -0.180843  ...    2613.760010   0.233806 -250.000000   \n",
       "88883        1      238 -0.180925  ...    2794.836426   0.353755 -256.218855   \n",
       "\n",
       "              Wx2        Wy1         Wy2         Wz        Wz1        Wz2  \\\n",
       "88881  250.000000  71.708600   71.708600  2784.8500  2784.8500  2784.8500   \n",
       "88888  250.000000  73.468600   73.468600  2814.8500  2814.8500  2814.8500   \n",
       "88875  242.645464  51.400094   94.977965  2594.9793  2594.9793  2594.9793   \n",
       "88884  254.416475  83.143172   39.565301  2802.3793  2802.3793  2802.3793   \n",
       "88877  253.841247  76.568287   32.990416  2603.8793  2603.8793  2603.8793   \n",
       "88872  250.000000  64.228600   64.228600  2581.1500  2581.1500  2581.1500   \n",
       "88886  250.000000  73.028600   73.028600  2811.1500  2811.1500  2811.1500   \n",
       "88878  250.000000  65.108600   65.108600  2612.2500  2612.2500  2612.2500   \n",
       "88876  253.879595  77.006613   33.428742  2601.2793  2601.2793  2601.2793   \n",
       "88874  242.607116  51.838420   95.416291  2592.3793  2592.3793  2592.3793   \n",
       "88887  250.000000  72.588600   72.588600  2813.7500  2813.7500  2813.7500   \n",
       "88873  250.000000  63.788600   63.788600  2583.7500  2583.7500  2583.7500   \n",
       "88880  250.000000  72.148600   72.148600  2782.2500  2782.2500  2782.2500   \n",
       "88885  254.454823  83.581498   40.003627  2803.8793  2803.8793  2803.8793   \n",
       "88882  241.840145  60.604933  104.182804  2792.3793  2792.3793  2792.3793   \n",
       "88879  250.000000  65.548600   65.548600  2613.7500  2613.7500  2613.7500   \n",
       "88883  241.878494  60.166607  103.744479  2794.9793  2794.9793  2794.9793   \n",
       "\n",
       "       Label  \n",
       "88881    0.0  \n",
       "88888    0.0  \n",
       "88875    0.0  \n",
       "88884    0.0  \n",
       "88877    0.0  \n",
       "88872    0.0  \n",
       "88886    0.0  \n",
       "88878    0.0  \n",
       "88876    0.0  \n",
       "88874    0.0  \n",
       "88887    0.0  \n",
       "88873    0.0  \n",
       "88880    0.0  \n",
       "88885    0.0  \n",
       "88882    0.0  \n",
       "88879    0.0  \n",
       "88883    0.0  \n",
       "\n",
       "[17 rows x 24 columns]"
      ]
     },
     "execution_count": 595,
     "metadata": {},
     "output_type": "execute_result"
    }
   ],
   "source": [
    "track1"
   ]
  },
  {
   "cell_type": "markdown",
   "metadata": {},
   "source": [
    "# Stage 2.2"
   ]
  },
  {
   "cell_type": "markdown",
   "metadata": {},
   "source": [
    "# 2D projections"
   ]
  },
  {
   "cell_type": "markdown",
   "metadata": {},
   "source": [
    "function converting line from $~~~\\frac{x-x_{0}}{l} = \\frac{y-y_{0}}{m} = z~~~$ to $~~~\\vec{a_{0}}+\\overrightarrow{a}$"
   ]
  },
  {
   "cell_type": "code",
   "execution_count": 358,
   "metadata": {
    "collapsed": true
   },
   "outputs": [],
   "source": [
    "def params2vec(l, x0, m, y0):\n",
    "    z1 = 0\n",
    "    z2 = 1\n",
    "    x1 = x0\n",
    "    x2 = 1 * l + x0\n",
    "    y1 = y0\n",
    "    y2 = 1 * m + y0\n",
    "    a0 = np.array([x1, y1, z1])\n",
    "    a = np.array([x2-x1, y2-y1, z2-z1])\n",
    "    return a0, a"
   ]
  },
  {
   "cell_type": "markdown",
   "metadata": {},
   "source": [
    "take hits before magnet only"
   ]
  },
  {
   "cell_type": "code",
   "execution_count": 359,
   "metadata": {
    "collapsed": true
   },
   "outputs": [],
   "source": [
    "event_before_magnet = event[event.StatNb<3]"
   ]
  },
  {
   "cell_type": "code",
   "execution_count": 360,
   "metadata": {
    "collapsed": true
   },
   "outputs": [],
   "source": [
    "A0 = []\n",
    "A = []\n",
    "for i in range(len(event_before_magnet.index)):\n",
    "    a0, a = points2vec(event_before_magnet[['Wx1', 'Wy1', 'Wz', 'Wx2', 'Wy2', 'Wz']].values[i])\n",
    "    A0.append(a0)\n",
    "    A.append(a)\n",
    "A0 = np.array(A0)\n",
    "A = np.array(A)"
   ]
  },
  {
   "cell_type": "code",
   "execution_count": 559,
   "metadata": {
    "collapsed": false
   },
   "outputs": [],
   "source": [
    "size = 30\n",
    "ms = np.linspace(-0.2, 0.2, size)\n",
    "y0s = np.linspace(-100, 100, size)\n",
    "ls = np.linspace(-0.4, 0.4, size)\n",
    "x0s = np.linspace(-500, 500, size)"
   ]
  },
  {
   "cell_type": "code",
   "execution_count": 560,
   "metadata": {
    "collapsed": false
   },
   "outputs": [],
   "source": [
    "projection_on_yz = np.zeros((len(y0s), len(ms)), dtype=\"float64\")\n",
    "projection_on_xz = np.zeros((len(x0s), len(ls)), dtype=\"float64\")"
   ]
  },
  {
   "cell_type": "code",
   "execution_count": 561,
   "metadata": {
    "collapsed": false
   },
   "outputs": [],
   "source": [
    "for i in range(len(y0s)):\n",
    "    for j in range(len(ms)):\n",
    "        max_R = 0\n",
    "        for s in range(len(x0s)):\n",
    "            for t in range(len(ls)):\n",
    "                track_point, track_direction = params2vec(ls[t], x0s[s], ms[j], y0s[i])\n",
    "                iR = R(track_point, track_direction, A0, A, 20)\n",
    "                if iR > max_R: max_R = iR\n",
    "        projection_on_yz[i, j] = max_R"
   ]
  },
  {
   "cell_type": "code",
   "execution_count": 567,
   "metadata": {
    "collapsed": false
   },
   "outputs": [
    {
     "data": {
      "text/plain": [
       "<matplotlib.colorbar.Colorbar at 0x7fc0fbfce0d0>"
      ]
     },
     "execution_count": 567,
     "metadata": {},
     "output_type": "execute_result"
    },
    {
     "data": {
      "image/png": "[encoded data removed]",
      "text/plain": [
       "<matplotlib.figure.Figure at 0x7fc100228650>"
      ]
     },
     "metadata": {},
     "output_type": "display_data"
    }
   ],
   "source": [
    "plt.figure(figsize=(9, 7))\n",
    "plt.title(\"Projection on YZ\", fontsize=20, fontweight='bold')\n",
    "plt.imshow(projection_on_yz, aspect='auto', cmap=\"Blues\", extent=(ms.min(), ms.max(), y0s.max(), y0s.min()))\n",
    "plt.colorbar()"
   ]
  },
  {
   "cell_type": "code",
   "execution_count": 563,
   "metadata": {
    "collapsed": true
   },
   "outputs": [],
   "source": [
    "for i in range(len(x0s)):\n",
    "    for j in range(len(ls)):\n",
    "        max_R = 0\n",
    "        for s in range(len(y0s)):\n",
    "            for t in range(len(ms)):\n",
    "                track_point, track_direction = params2vec(ls[j], x0s[i], ms[t], y0s[s])\n",
    "                iR = R(track_point, track_direction, A0, A, 20)\n",
    "                if iR > max_R: max_R = iR\n",
    "        projection_on_xz[i, j] = max_R"
   ]
  },
  {
   "cell_type": "code",
   "execution_count": 568,
   "metadata": {
    "collapsed": false
   },
   "outputs": [
    {
     "data": {
      "text/plain": [
       "<matplotlib.colorbar.Colorbar at 0x7fc0fbea8150>"
      ]
     },
     "execution_count": 568,
     "metadata": {},
     "output_type": "execute_result"
    },
    {
     "data": {
      "image/png": "[encoded data removed]",
      "text/plain": [
       "<matplotlib.figure.Figure at 0x7fc0fbfee450>"
      ]
     },
     "metadata": {},
     "output_type": "display_data"
    }
   ],
   "source": [
    "plt.figure(figsize=(9, 7))\n",
    "plt.title(\"Projection on XZ\", fontsize=20, fontweight='bold')\n",
    "plt.imshow(projection_on_xz, aspect='auto', cmap=\"Blues\", extent=(ls.min(), ls.max(), x0s.max(), x0s.min()))\n",
    "plt.colorbar()"
   ]
  },
  {
   "cell_type": "code",
   "execution_count": null,
   "metadata": {
    "collapsed": true
   },
   "outputs": [],
   "source": []
  }
 ],
 "metadata": {
  "kernelspec": {
   "display_name": "Python [Root]",
   "language": "python",
   "name": "Python [Root]"
  },
  "language_info": {
   "codemirror_mode": {
    "name": "ipython",
    "version": 2
   },
   "file_extension": ".py",
   "mimetype": "text/x-python",
   "name": "python",
   "nbconvert_exporter": "python",
   "pygments_lexer": "ipython2",
   "version": "2.7.11"
  }
 },
 "nbformat": 4,
 "nbformat_minor": 0
}
